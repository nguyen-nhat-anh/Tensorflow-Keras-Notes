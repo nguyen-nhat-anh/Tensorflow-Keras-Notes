{
 "cells": [
  {
   "cell_type": "markdown",
   "metadata": {},
   "source": [
    "https://stackoverflow.com/questions/46409626/how-to-properly-use-tf-metrics-accuracy <br>\n",
    "http://ronny.rest/blog/post_2017_09_11_tf_metrics/"
   ]
  },
  {
   "cell_type": "code",
   "execution_count": 1,
   "metadata": {},
   "outputs": [],
   "source": [
    "import tensorflow as tf"
   ]
  },
  {
   "cell_type": "markdown",
   "metadata": {},
   "source": [
    "### The `tf.metrics.accuracy()` function creates two local variables, `total` and `count` that are used to compute accuracy."
   ]
  },
  {
   "cell_type": "code",
   "execution_count": 2,
   "metadata": {},
   "outputs": [],
   "source": [
    "true = tf.constant([[1, 1, 1], [1, 1, 1]])\n",
    "pred = tf.placeholder(dtype=tf.int64, shape=(2,3))\n",
    "\n",
    "acc, acc_op = tf.metrics.accuracy(labels=true, predictions=pred, name='metric_acc')"
   ]
  },
  {
   "cell_type": "markdown",
   "metadata": {},
   "source": [
    "### This function returns:\n",
    "* acc: A Tensor representing the `accuracy`, the value of `total` divided by `count` (`total / count`).\n",
    "* acc_op: An operation that increments the `total` and `count` variables appropriately and whose value matches `accuracy`."
   ]
  },
  {
   "cell_type": "code",
   "execution_count": 3,
   "metadata": {},
   "outputs": [
    {
     "data": {
      "text/plain": [
       "[<tf.Variable 'metric_acc/total:0' shape=() dtype=float32_ref>,\n",
       " <tf.Variable 'metric_acc/count:0' shape=() dtype=float32_ref>]"
      ]
     },
     "execution_count": 3,
     "metadata": {},
     "output_type": "execute_result"
    }
   ],
   "source": [
    "tf.get_collection(tf.GraphKeys.LOCAL_VARIABLES, scope='metric_acc') # get all local variables with scope 'metric_acc'"
   ]
  },
  {
   "cell_type": "code",
   "execution_count": 4,
   "metadata": {},
   "outputs": [],
   "source": [
    "total, count = tf.get_collection(tf.GraphKeys.LOCAL_VARIABLES, scope='metric_acc')"
   ]
  },
  {
   "cell_type": "code",
   "execution_count": 5,
   "metadata": {},
   "outputs": [],
   "source": [
    "acc_init = tf.variables_initializer([total, count]) # init op for total and count (since they are variables)"
   ]
  },
  {
   "cell_type": "code",
   "execution_count": 6,
   "metadata": {},
   "outputs": [
    {
     "name": "stdout",
     "output_type": "stream",
     "text": [
      "Initialize total and count:\n",
      " Total (n_correct):  0.0\n",
      " Count (n_all):  0.0\n",
      "Current accuracy: 0.0\n",
      "\n",
      "#########################\n",
      "-------------------------\n",
      "#########################\n",
      "\n",
      "Running acc_op...\n",
      "Total and count after running acc_op:\n",
      " Total (n_correct):  3.0\n",
      " Count (n_all):  6.0\n",
      "Current accuracy: 0.5\n",
      "\n",
      "#########################\n",
      "-------------------------\n",
      "#########################\n",
      "\n",
      "Running acc_op...\n",
      "Total and count after running acc_op:\n",
      " Total (n_correct):  9.0\n",
      " Count (n_all):  12.0\n",
      "Current accuracy: 0.75\n"
     ]
    }
   ],
   "source": [
    "with tf.Session() as sess:\n",
    "    print('Initialize total and count:')\n",
    "    sess.run(acc_init) # initialize total and count to 0.\n",
    "    print(' Total (n_correct): ', sess.run(total))\n",
    "    print(' Count (n_all): ', sess.run(count))\n",
    "    print('Current accuracy:', sess.run(acc))\n",
    "    \n",
    "    print('\\n#########################')\n",
    "    print('-------------------------')\n",
    "    print('#########################\\n')\n",
    "    \n",
    "    print('Running acc_op...')\n",
    "    sess.run(acc_op, feed_dict={pred: [[1, 1, 0], [1, 0, 0]]})\n",
    "    print('Total and count after running acc_op:')\n",
    "    print(' Total (n_correct): ', sess.run(total))\n",
    "    print(' Count (n_all): ', sess.run(count))\n",
    "    print('Current accuracy:', sess.run(acc))\n",
    "    \n",
    "    print('\\n#########################')\n",
    "    print('-------------------------')\n",
    "    print('#########################\\n')\n",
    "    \n",
    "    print('Running acc_op...')\n",
    "    sess.run(acc_op, feed_dict={pred: [[1, 1, 1], [1, 1, 1]]})\n",
    "    print('Total and count after running acc_op:')\n",
    "    print(' Total (n_correct): ', sess.run(total))\n",
    "    print(' Count (n_all): ', sess.run(count))\n",
    "    print('Current accuracy:', sess.run(acc))"
   ]
  }
 ],
 "metadata": {
  "kernelspec": {
   "display_name": "Python 3",
   "language": "python",
   "name": "python3"
  },
  "language_info": {
   "codemirror_mode": {
    "name": "ipython",
    "version": 3
   },
   "file_extension": ".py",
   "mimetype": "text/x-python",
   "name": "python",
   "nbconvert_exporter": "python",
   "pygments_lexer": "ipython3",
   "version": "3.6.8"
  }
 },
 "nbformat": 4,
 "nbformat_minor": 2
}
