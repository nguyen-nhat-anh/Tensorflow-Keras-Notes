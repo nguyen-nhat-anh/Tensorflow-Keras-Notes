{
 "cells": [
  {
   "cell_type": "code",
   "execution_count": 1,
   "metadata": {},
   "outputs": [],
   "source": [
    "import tensorflow as tf\n",
    "import pandas as pd"
   ]
  },
  {
   "cell_type": "code",
   "execution_count": 2,
   "metadata": {},
   "outputs": [],
   "source": [
    "CSV_COLUMN_NAMES = ['SepalLength', 'SepalWidth',\n",
    "                    'PetalLength', 'PetalWidth', 'Species']\n",
    "train = pd.read_csv('data/iris_training.csv', names=CSV_COLUMN_NAMES, header=0)\n",
    "train_x, train_y = train, train.pop('Species')"
   ]
  },
  {
   "cell_type": "code",
   "execution_count": 3,
   "metadata": {},
   "outputs": [],
   "source": [
    "# Feature columns describe how to use the input.\n",
    "feature_columns = []\n",
    "for key in train_x.keys():\n",
    "    feature_columns.append(tf.feature_column.numeric_column(key=key))"
   ]
  },
  {
   "cell_type": "code",
   "execution_count": 4,
   "metadata": {},
   "outputs": [],
   "source": [
    "dataset = tf.data.Dataset.from_tensor_slices((dict(train_x), train_y))\n",
    "dataset = dataset.batch(5)"
   ]
  },
  {
   "cell_type": "code",
   "execution_count": 5,
   "metadata": {},
   "outputs": [],
   "source": [
    "iterator = dataset.make_one_shot_iterator()"
   ]
  },
  {
   "cell_type": "code",
   "execution_count": 6,
   "metadata": {},
   "outputs": [],
   "source": [
    "next_element = iterator.get_next()"
   ]
  },
  {
   "cell_type": "code",
   "execution_count": 7,
   "metadata": {},
   "outputs": [],
   "source": [
    "feature, label = next_element"
   ]
  },
  {
   "cell_type": "code",
   "execution_count": 8,
   "metadata": {},
   "outputs": [
    {
     "data": {
      "text/plain": [
       "{'SepalLength': <tf.Tensor 'IteratorGetNext:2' shape=(?,) dtype=float64>,\n",
       " 'SepalWidth': <tf.Tensor 'IteratorGetNext:3' shape=(?,) dtype=float64>,\n",
       " 'PetalLength': <tf.Tensor 'IteratorGetNext:0' shape=(?,) dtype=float64>,\n",
       " 'PetalWidth': <tf.Tensor 'IteratorGetNext:1' shape=(?,) dtype=float64>}"
      ]
     },
     "execution_count": 8,
     "metadata": {},
     "output_type": "execute_result"
    }
   ],
   "source": [
    "feature"
   ]
  },
  {
   "cell_type": "code",
   "execution_count": 9,
   "metadata": {},
   "outputs": [
    {
     "data": {
      "text/plain": [
       "<tf.Tensor 'IteratorGetNext:4' shape=(?,) dtype=int64>"
      ]
     },
     "execution_count": 9,
     "metadata": {},
     "output_type": "execute_result"
    }
   ],
   "source": [
    "label"
   ]
  },
  {
   "cell_type": "code",
   "execution_count": 10,
   "metadata": {},
   "outputs": [],
   "source": [
    "inputs = tf.feature_column.input_layer(feature, feature_columns)"
   ]
  },
  {
   "cell_type": "code",
   "execution_count": 11,
   "metadata": {},
   "outputs": [
    {
     "data": {
      "text/plain": [
       "<tf.Tensor 'input_layer/concat:0' shape=(?, 4) dtype=float32>"
      ]
     },
     "execution_count": 11,
     "metadata": {},
     "output_type": "execute_result"
    }
   ],
   "source": [
    "inputs"
   ]
  },
  {
   "cell_type": "code",
   "execution_count": 16,
   "metadata": {},
   "outputs": [
    {
     "name": "stdout",
     "output_type": "stream",
     "text": [
      "[[5.6 2.2 6.4 2.8]\n",
      " [3.3 1.  5.  2.3]\n",
      " [4.5 1.7 4.9 2.5]\n",
      " [1.5 0.1 4.9 3.1]\n",
      " [1.7 0.3 5.7 3.8]]\n",
      "({'SepalLength': array([6.4, 5. , 4.9, 4.9, 5.7]), 'SepalWidth': array([2.8, 2.3, 2.5, 3.1, 3.8]), 'PetalLength': array([5.6, 3.3, 4.5, 1.5, 1.7]), 'PetalWidth': array([2.2, 1. , 1.7, 0.1, 0.3])}, array([2, 1, 2, 0, 0], dtype=int64))\n"
     ]
    }
   ],
   "source": [
    "with tf.Session() as sess:\n",
    "    result = sess.run([inputs, next_element])\n",
    "    print(result[0])\n",
    "    print(result[1])"
   ]
  }
 ],
 "metadata": {
  "kernelspec": {
   "display_name": "Python 3",
   "language": "python",
   "name": "python3"
  },
  "language_info": {
   "codemirror_mode": {
    "name": "ipython",
    "version": 3
   },
   "file_extension": ".py",
   "mimetype": "text/x-python",
   "name": "python",
   "nbconvert_exporter": "python",
   "pygments_lexer": "ipython3",
   "version": "3.6.8"
  }
 },
 "nbformat": 4,
 "nbformat_minor": 2
}
