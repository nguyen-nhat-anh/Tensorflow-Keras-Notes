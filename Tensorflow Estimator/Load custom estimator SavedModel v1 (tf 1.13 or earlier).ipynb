{
 "cells": [
  {
   "cell_type": "code",
   "execution_count": 1,
   "metadata": {},
   "outputs": [],
   "source": [
    "import tensorflow as tf"
   ]
  },
  {
   "cell_type": "code",
   "execution_count": 2,
   "metadata": {},
   "outputs": [],
   "source": [
    "export_dir = 'model/export/Servo/1563629175'"
   ]
  },
  {
   "cell_type": "code",
   "execution_count": 3,
   "metadata": {},
   "outputs": [
    {
     "name": "stderr",
     "output_type": "stream",
     "text": [
      "WARNING: Logging before flag parsing goes to stderr.\n",
      "W0723 18:07:01.843146 11204 deprecation.py:323] From <ipython-input-3-487306f80e02>:2: load (from tensorflow.python.saved_model.loader_impl) is deprecated and will be removed in a future version.\n",
      "Instructions for updating:\n",
      "This function will only be available through the v1 compatibility library as tf.compat.v1.saved_model.loader.load or tf.compat.v1.saved_model.load. There will be a new function for importing SavedModels in Tensorflow 2.0.\n",
      "W0723 18:07:01.882074 11204 deprecation.py:323] From f:\\anaconda3\\envs\\tensorflow1.14\\lib\\site-packages\\tensorflow\\python\\training\\saver.py:1276: checkpoint_exists (from tensorflow.python.training.checkpoint_management) is deprecated and will be removed in a future version.\n",
      "Instructions for updating:\n",
      "Use standard file APIs to check for files with this prefix.\n"
     ]
    }
   ],
   "source": [
    "sess = tf.Session()\n",
    "meta_graph_def = tf.saved_model.load(sess, [tf.saved_model.tag_constants.SERVING], export_dir)\n",
    "signature_def = meta_graph_def.signature_def['serving_default']"
   ]
  },
  {
   "cell_type": "markdown",
   "metadata": {},
   "source": [
    "SavedModel CLI: <br>\n",
    "`saved_model_cli.exe show --dir model/export/Servo/1563629175 --tag_set serve --signature_def serving_default`"
   ]
  },
  {
   "cell_type": "markdown",
   "metadata": {},
   "source": [
    "Outputs: <br>\n",
    "`The given SavedModel SignatureDef contains the following input(s):\n",
    "  inputs['PetalLength'] tensor_info:\n",
    "      dtype: DT_FLOAT\n",
    "      shape: (-1)\n",
    "      name: Placeholder_2:0\n",
    "  inputs['PetalWidth'] tensor_info:\n",
    "      dtype: DT_FLOAT\n",
    "      shape: (-1)\n",
    "      name: Placeholder_3:0\n",
    "  inputs['SepalLength'] tensor_info:\n",
    "      dtype: DT_FLOAT\n",
    "      shape: (-1)\n",
    "      name: Placeholder:0\n",
    "  inputs['SepalWidth'] tensor_info:\n",
    "      dtype: DT_FLOAT\n",
    "      shape: (-1)\n",
    "      name: Placeholder_1:0\n",
    "The given SavedModel SignatureDef contains the following output(s):\n",
    "  outputs['classes'] tensor_info:\n",
    "      dtype: DT_INT64\n",
    "      shape: (-1)\n",
    "      name: ArgMax:0\n",
    "  outputs['probabilities'] tensor_info:\n",
    "      dtype: DT_FLOAT\n",
    "      shape: (-1, 3)\n",
    "      name: Softmax:0\n",
    "Method name is: tensorflow/serving/predict`"
   ]
  },
  {
   "cell_type": "code",
   "execution_count": 4,
   "metadata": {},
   "outputs": [],
   "source": [
    "inputs = {}\n",
    "for k in signature_def.inputs.keys():\n",
    "    inputs[k] = tf.get_default_graph().get_tensor_by_name(signature_def.inputs[k].name)"
   ]
  },
  {
   "cell_type": "code",
   "execution_count": 5,
   "metadata": {},
   "outputs": [
    {
     "data": {
      "text/plain": [
       "{'PetalLength': <tf.Tensor 'Placeholder_2:0' shape=(?,) dtype=float32>,\n",
       " 'SepalLength': <tf.Tensor 'Placeholder:0' shape=(?,) dtype=float32>,\n",
       " 'PetalWidth': <tf.Tensor 'Placeholder_3:0' shape=(?,) dtype=float32>,\n",
       " 'SepalWidth': <tf.Tensor 'Placeholder_1:0' shape=(?,) dtype=float32>}"
      ]
     },
     "execution_count": 5,
     "metadata": {},
     "output_type": "execute_result"
    }
   ],
   "source": [
    "inputs"
   ]
  },
  {
   "cell_type": "code",
   "execution_count": 6,
   "metadata": {},
   "outputs": [],
   "source": [
    "outputs = {}\n",
    "for k in signature_def.outputs.keys():\n",
    "    outputs[k] = tf.get_default_graph().get_tensor_by_name(signature_def.outputs[k].name)"
   ]
  },
  {
   "cell_type": "code",
   "execution_count": 7,
   "metadata": {},
   "outputs": [
    {
     "data": {
      "text/plain": [
       "{'probabilities': <tf.Tensor 'Softmax:0' shape=(?, 3) dtype=float32>,\n",
       " 'classes': <tf.Tensor 'ArgMax:0' shape=(?,) dtype=int64>}"
      ]
     },
     "execution_count": 7,
     "metadata": {},
     "output_type": "execute_result"
    }
   ],
   "source": [
    "outputs"
   ]
  },
  {
   "cell_type": "code",
   "execution_count": 8,
   "metadata": {},
   "outputs": [
    {
     "name": "stdout",
     "output_type": "stream",
     "text": [
      "probabilites:  [[2.0415276e-17 5.2986972e-12 1.0000000e+00]]\n",
      "classes:  [2]\n"
     ]
    }
   ],
   "source": [
    "feed_dict = {\n",
    "    inputs['SepalWidth']: [1.5],\n",
    "    inputs['SepalLength']: [3.0],\n",
    "    inputs['PetalLength']: [5.9],\n",
    "    inputs['PetalWidth']: [4.2]\n",
    "}\n",
    "print('probabilites: ', sess.run(outputs['probabilities'], feed_dict=feed_dict))\n",
    "print('classes: ', sess.run(outputs['classes'], feed_dict=feed_dict))"
   ]
  }
 ],
 "metadata": {
  "kernelspec": {
   "display_name": "Python 3",
   "language": "python",
   "name": "python3"
  },
  "language_info": {
   "codemirror_mode": {
    "name": "ipython",
    "version": 3
   },
   "file_extension": ".py",
   "mimetype": "text/x-python",
   "name": "python",
   "nbconvert_exporter": "python",
   "pygments_lexer": "ipython3",
   "version": "3.6.8"
  }
 },
 "nbformat": 4,
 "nbformat_minor": 2
}
