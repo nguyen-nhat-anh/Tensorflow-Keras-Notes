{
 "cells": [
  {
   "cell_type": "code",
   "execution_count": 1,
   "metadata": {},
   "outputs": [],
   "source": [
    "import tensorflow as tf"
   ]
  },
  {
   "cell_type": "code",
   "execution_count": 2,
   "metadata": {},
   "outputs": [],
   "source": [
    "export_dir = 'model/export/Servo/1563629175'"
   ]
  },
  {
   "cell_type": "code",
   "execution_count": 3,
   "metadata": {},
   "outputs": [],
   "source": [
    "imported = tf.saved_model.load_v2(export_dir)"
   ]
  },
  {
   "cell_type": "code",
   "execution_count": 4,
   "metadata": {},
   "outputs": [],
   "source": [
    "infer = imported.signatures[\"serving_default\"]"
   ]
  },
  {
   "cell_type": "markdown",
   "metadata": {},
   "source": [
    "SavedModel CLI: <br>\n",
    "`saved_model_cli.exe show --dir model/export/Servo/1563629175 --tag_set serve --signature_def serving_default`"
   ]
  },
  {
   "cell_type": "markdown",
   "metadata": {},
   "source": [
    "Outputs: <br>\n",
    "`The given SavedModel SignatureDef contains the following input(s):\n",
    "  inputs['PetalLength'] tensor_info:\n",
    "      dtype: DT_FLOAT\n",
    "      shape: (-1)\n",
    "      name: Placeholder_2:0\n",
    "  inputs['PetalWidth'] tensor_info:\n",
    "      dtype: DT_FLOAT\n",
    "      shape: (-1)\n",
    "      name: Placeholder_3:0\n",
    "  inputs['SepalLength'] tensor_info:\n",
    "      dtype: DT_FLOAT\n",
    "      shape: (-1)\n",
    "      name: Placeholder:0\n",
    "  inputs['SepalWidth'] tensor_info:\n",
    "      dtype: DT_FLOAT\n",
    "      shape: (-1)\n",
    "      name: Placeholder_1:0\n",
    "The given SavedModel SignatureDef contains the following output(s):\n",
    "  outputs['classes'] tensor_info:\n",
    "      dtype: DT_INT64\n",
    "      shape: (-1)\n",
    "      name: ArgMax:0\n",
    "  outputs['probabilities'] tensor_info:\n",
    "      dtype: DT_FLOAT\n",
    "      shape: (-1, 3)\n",
    "      name: Softmax:0\n",
    "Method name is: tensorflow/serving/predict`"
   ]
  },
  {
   "cell_type": "code",
   "execution_count": 6,
   "metadata": {},
   "outputs": [
    {
     "data": {
      "text/plain": [
       "{'probabilities': <tf.Tensor 'StatefulPartitionedCall_1:1' shape=(1, 3) dtype=float32>,\n",
       " 'classes': <tf.Tensor 'StatefulPartitionedCall_1:0' shape=(1,) dtype=int64>}"
      ]
     },
     "execution_count": 6,
     "metadata": {},
     "output_type": "execute_result"
    }
   ],
   "source": [
    "infer(PetalLength=tf.constant([5.9]), SepalLength=tf.constant([3.0]), \n",
    "      PetalWidth=tf.constant([4.2]), SepalWidth=tf.constant([1.5]))"
   ]
  },
  {
   "cell_type": "code",
   "execution_count": 7,
   "metadata": {},
   "outputs": [],
   "source": [
    "p = infer(PetalLength=tf.constant([5.9]), SepalLength=tf.constant([3.0]), \n",
    "      PetalWidth=tf.constant([4.2]), SepalWidth=tf.constant([1.5]))['probabilities']\n",
    "c = infer(PetalLength=tf.constant([5.9]), SepalLength=tf.constant([3.0]), \n",
    "      PetalWidth=tf.constant([4.2]), SepalWidth=tf.constant([1.5]))['classes']"
   ]
  },
  {
   "cell_type": "code",
   "execution_count": 9,
   "metadata": {},
   "outputs": [
    {
     "name": "stdout",
     "output_type": "stream",
     "text": [
      "[[2.0415276e-17 5.2986972e-12 1.0000000e+00]]\n",
      "[2]\n"
     ]
    }
   ],
   "source": [
    "var_init = tf.global_variables_initializer()\n",
    "with tf.Session() as sess:\n",
    "    sess.run(var_init)\n",
    "    print(sess.run(p))\n",
    "    print(sess.run(c))"
   ]
  }
 ],
 "metadata": {
  "kernelspec": {
   "display_name": "Python 3",
   "language": "python",
   "name": "python3"
  },
  "language_info": {
   "codemirror_mode": {
    "name": "ipython",
    "version": 3
   },
   "file_extension": ".py",
   "mimetype": "text/x-python",
   "name": "python",
   "nbconvert_exporter": "python",
   "pygments_lexer": "ipython3",
   "version": "3.6.8"
  }
 },
 "nbformat": 4,
 "nbformat_minor": 2
}
