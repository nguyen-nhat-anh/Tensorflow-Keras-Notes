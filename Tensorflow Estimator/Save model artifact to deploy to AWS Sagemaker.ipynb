{
 "cells": [
  {
   "cell_type": "markdown",
   "metadata": {},
   "source": [
    "https://aws.amazon.com/blogs/machine-learning/bring-your-own-pre-trained-mxnet-or-tensorflow-models-into-amazon-sagemaker/"
   ]
  },
  {
   "cell_type": "markdown",
   "metadata": {},
   "source": [
    "The following is an overview of the entire process.\n",
    "\n",
    "* Step 1: Model definitions are written in a framework of choice.\n",
    "* Step 2: The model is trained in that framework.\n",
    "* Step 3: The model is exported and model artifacts that can be understood by Amazon SageMaker are created.\n",
    "* Step 4: Model artifacts are uploaded to an Amazon S3 bucket.\n",
    "* Step 5: Using the model definitions, artifacts, and the Amazon SageMaker Python SDK, a SageMaker model is created.\n",
    "* Step 6: The SageMaker model is deployed as an endpoint.\n",
    "\n",
    "![SegmentLocal](resources/pre-trained-models-sagemaker-1.gif)"
   ]
  },
  {
   "cell_type": "markdown",
   "metadata": {},
   "source": [
    "Move the TensorFlow exported model into a directory export\\Servo. Amazon SageMaker will recognize this as a loadable TensorFlow model. Your directory and file structure should look like this:\n",
    "![SegmentLocal](resources/pre-trained-models-sagemaker-2.gif)"
   ]
  },
  {
   "cell_type": "markdown",
   "metadata": {},
   "source": [
    "Tar the entire directory and upload to Amazon S3"
   ]
  },
  {
   "cell_type": "code",
   "execution_count": 1,
   "metadata": {},
   "outputs": [],
   "source": [
    "import os\n",
    "import tarfile"
   ]
  },
  {
   "cell_type": "code",
   "execution_count": 3,
   "metadata": {},
   "outputs": [],
   "source": [
    "export_model_dir = os.path.join('model','export')\n",
    "model_artifact_path = os.path.join('model', 'aws', 'model.tar.gz')\n",
    "with tarfile.open(model_artifact_path, mode='w:gz') as archive:\n",
    "    archive.add(export_model_dir, recursive=True)"
   ]
  }
 ],
 "metadata": {
  "kernelspec": {
   "display_name": "Python 3",
   "language": "python",
   "name": "python3"
  },
  "language_info": {
   "codemirror_mode": {
    "name": "ipython",
    "version": 3
   },
   "file_extension": ".py",
   "mimetype": "text/x-python",
   "name": "python",
   "nbconvert_exporter": "python",
   "pygments_lexer": "ipython3",
   "version": "3.6.8"
  }
 },
 "nbformat": 4,
 "nbformat_minor": 2
}
