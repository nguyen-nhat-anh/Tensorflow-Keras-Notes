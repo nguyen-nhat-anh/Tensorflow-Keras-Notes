{
 "cells": [
  {
   "cell_type": "code",
   "execution_count": 1,
   "metadata": {},
   "outputs": [
    {
     "data": {
      "text/plain": [
       "'1.14.0'"
      ]
     },
     "execution_count": 1,
     "metadata": {},
     "output_type": "execute_result"
    }
   ],
   "source": [
    "import tensorflow as tf\n",
    "import numpy as np\n",
    "\n",
    "tf.__version__"
   ]
  },
  {
   "cell_type": "code",
   "execution_count": 2,
   "metadata": {},
   "outputs": [],
   "source": [
    "def _l2normalize(v, eps=1e-12):\n",
    "    return v / (tf.reduce_sum(v ** 2) ** 0.5 + eps)\n",
    "\n",
    "def spectral_norm(weights, name, num_iters=1, update_collection=None, with_sigma=False):\n",
    "    w_shape = weights.shape.as_list()\n",
    "    w_mat = tf.reshape(weights, [-1, w_shape[-1]])  # [-1, output_channel]\n",
    "    with tf.variable_scope(name, reuse=tf.AUTO_REUSE):\n",
    "        u = tf.get_variable('u', [1, w_shape[-1]],\n",
    "                          initializer=tf.truncated_normal_initializer(),\n",
    "                          trainable=False)\n",
    "        print(u.name)\n",
    "    u_ = u\n",
    "    for _ in range(num_iters):\n",
    "        v_ = _l2normalize(tf.matmul(u_, w_mat, transpose_b=True))\n",
    "        u_ = _l2normalize(tf.matmul(v_, w_mat))\n",
    "\n",
    "    sigma = tf.squeeze(tf.matmul(tf.matmul(v_, w_mat), u_, transpose_b=True))\n",
    "    w_mat /= sigma\n",
    "    if update_collection is None:\n",
    "        with tf.control_dependencies([u.assign(u_)]):\n",
    "            w_bar = tf.reshape(w_mat, w_shape)\n",
    "            print('u is updated')\n",
    "    else:\n",
    "        w_bar = tf.reshape(w_mat, w_shape)\n",
    "        print('u is NOT updated')\n",
    "        if update_collection != 'NO_OPS':\n",
    "            tf.add_to_collection(update_collection, u.assign(u_))\n",
    "    if with_sigma:\n",
    "        return w_bar, sigma\n",
    "    else:\n",
    "        return w_bar"
   ]
  },
  {
   "cell_type": "code",
   "execution_count": 3,
   "metadata": {},
   "outputs": [
    {
     "name": "stderr",
     "output_type": "stream",
     "text": [
      "WARNING: Logging before flag parsing goes to stderr.\n",
      "W1126 17:32:36.642154 18244 deprecation.py:506] From f:\\anaconda3\\envs\\tensorflow1.14\\lib\\site-packages\\tensorflow\\python\\keras\\initializers.py:94: calling TruncatedNormal.__init__ (from tensorflow.python.ops.init_ops) with dtype is deprecated and will be removed in a future version.\n",
      "Instructions for updating:\n",
      "Call initializer instance with the dtype argument instead of passing it to the constructor\n"
     ]
    }
   ],
   "source": [
    "class SNDense(tf.keras.layers.Layer):\n",
    "    def __init__(self, units, \n",
    "                 kernel_initializer=tf.keras.initializers.TruncatedNormal(mean=0.0, stddev=0.02), \n",
    "                 bias_initializer=tf.keras.initializers.TruncatedNormal(mean=0.0, stddev=0.02), \n",
    "                 update_collection=None, **kwargs):\n",
    "        super(SNDense, self).__init__(**kwargs)\n",
    "        self.units = units\n",
    "        self.kernel_initializer = kernel_initializer\n",
    "        self.bias_initializer = bias_initializer\n",
    "        self.update_collection = update_collection\n",
    "        \n",
    "    \n",
    "    def build(self, input_shape):\n",
    "        '''\n",
    "        input_shape = (batch_size, ..., input_dim)\n",
    "        '''\n",
    "        self.input_dim = int(input_shape[-1])\n",
    "        with tf.variable_scope(self.name, reuse=tf.AUTO_REUSE):\n",
    "            self.kernel = tf.get_variable(\"kernel\", \n",
    "                                          shape=(self.input_dim, self.units), \n",
    "                                          initializer=self.kernel_initializer)\n",
    "            self.bias = tf.get_variable(\"bias\", shape=(self.units,), initializer=self.bias_initializer)\n",
    "        super(SNDense, self).build(input_shape)  # Be sure to call this at the end\n",
    "    \n",
    "    \n",
    "    def call(self, inputs):\n",
    "        x = tf.matmul(inputs, spectral_norm(self.kernel, name=self.name, update_collection=self.update_collection))\n",
    "        x = tf.nn.bias_add(x, self.bias)\n",
    "        return x"
   ]
  },
  {
   "cell_type": "code",
   "execution_count": 4,
   "metadata": {},
   "outputs": [],
   "source": [
    "class Block(tf.keras.layers.Layer):\n",
    "    def __init__(self, update_collection=None, **kwargs):\n",
    "        super(Block, self).__init__(**kwargs)\n",
    "        self.update_collection = update_collection\n",
    "        \n",
    "    \n",
    "    def build(self, input_shape):\n",
    "        self.fc1 = SNDense(20, update_collection=self.update_collection, name='fc1')\n",
    "        self.fc2 = SNDense(10, update_collection=self.update_collection, name='fc2')\n",
    "        with tf.variable_scope(self.name, reuse=tf.AUTO_REUSE):\n",
    "            self.bias = tf.get_variable(\"bias\", shape=(10,), initializer=tf.constant_initializer(0))\n",
    "        super(Block, self).build(input_shape)  # Be sure to call this at the end\n",
    "    \n",
    "    \n",
    "    def call(self, inputs):\n",
    "        with tf.variable_scope(self.name, reuse=tf.AUTO_REUSE):\n",
    "            x = self.fc1(inputs)\n",
    "            x = self.fc2(x)\n",
    "            x = tf.nn.bias_add(x, self.bias)\n",
    "            return x"
   ]
  },
  {
   "cell_type": "code",
   "execution_count": 5,
   "metadata": {},
   "outputs": [],
   "source": [
    "def make_model(update_collection):\n",
    "    x = tf.keras.layers.Input(shape=(10,))\n",
    "    y = Block(name='block1', update_collection=update_collection)(x)\n",
    "    y = Block(name='block2', update_collection=update_collection)(x)\n",
    "    return tf.keras.models.Model(x, y)"
   ]
  },
  {
   "cell_type": "code",
   "execution_count": 6,
   "metadata": {},
   "outputs": [
    {
     "name": "stderr",
     "output_type": "stream",
     "text": [
      "W1126 17:32:37.275648 18244 deprecation_wrapper.py:119] From f:\\anaconda3\\envs\\tensorflow1.14\\lib\\site-packages\\tensorflow\\python\\autograph\\converters\\directives.py:117: The name tf.variable_scope is deprecated. Please use tf.compat.v1.variable_scope instead.\n",
      "\n",
      "W1126 17:32:37.275648 18244 deprecation_wrapper.py:119] From f:\\anaconda3\\envs\\tensorflow1.14\\lib\\site-packages\\tensorflow\\python\\autograph\\converters\\directives.py:117: The name tf.AUTO_REUSE is deprecated. Please use tf.compat.v1.AUTO_REUSE instead.\n",
      "\n",
      "W1126 17:32:37.310119 18244 ag_logging.py:145] Entity <bound method Block.call of <__main__.Block object at 0x000001C964751128>> could not be transformed and will be executed as-is. Please report this to the AutgoGraph team. When filing the bug, set the verbosity to 10 (on Linux, `export AUTOGRAPH_VERBOSITY=10`) and attach the full output. Cause: converting <bound method Block.call of <__main__.Block object at 0x000001C964751128>>: AssertionError: Bad argument number for Name: 3, expecting 4\n",
      "W1126 17:32:37.377457 18244 ag_logging.py:145] Entity <bound method SNDense.call of <__main__.SNDense object at 0x000001C971BDB550>> could not be transformed and will be executed as-is. Please report this to the AutgoGraph team. When filing the bug, set the verbosity to 10 (on Linux, `export AUTOGRAPH_VERBOSITY=10`) and attach the full output. Cause: converting <bound method SNDense.call of <__main__.SNDense object at 0x000001C971BDB550>>: AssertionError: Bad argument number for Name: 3, expecting 4\n"
     ]
    },
    {
     "name": "stdout",
     "output_type": "stream",
     "text": [
      "WARNING: Entity <bound method Block.call of <__main__.Block object at 0x000001C964751128>> could not be transformed and will be executed as-is. Please report this to the AutgoGraph team. When filing the bug, set the verbosity to 10 (on Linux, `export AUTOGRAPH_VERBOSITY=10`) and attach the full output. Cause: converting <bound method Block.call of <__main__.Block object at 0x000001C964751128>>: AssertionError: Bad argument number for Name: 3, expecting 4\n",
      "WARNING: Entity <bound method SNDense.call of <__main__.SNDense object at 0x000001C971BDB550>> could not be transformed and will be executed as-is. Please report this to the AutgoGraph team. When filing the bug, set the verbosity to 10 (on Linux, `export AUTOGRAPH_VERBOSITY=10`) and attach the full output. Cause: converting <bound method SNDense.call of <__main__.SNDense object at 0x000001C971BDB550>>: AssertionError: Bad argument number for Name: 3, expecting 4\n",
      "block1/fc1/u:0\n",
      "u is updated\n"
     ]
    },
    {
     "name": "stderr",
     "output_type": "stream",
     "text": [
      "W1126 17:32:37.504435 18244 ag_logging.py:145] Entity <bound method SNDense.call of <__main__.SNDense object at 0x000001C971BDB630>> could not be transformed and will be executed as-is. Please report this to the AutgoGraph team. When filing the bug, set the verbosity to 10 (on Linux, `export AUTOGRAPH_VERBOSITY=10`) and attach the full output. Cause: converting <bound method SNDense.call of <__main__.SNDense object at 0x000001C971BDB630>>: AssertionError: Bad argument number for Name: 3, expecting 4\n",
      "W1126 17:32:37.622218 18244 ag_logging.py:145] Entity <bound method Block.call of <__main__.Block object at 0x000001C96E5CFC18>> could not be transformed and will be executed as-is. Please report this to the AutgoGraph team. When filing the bug, set the verbosity to 10 (on Linux, `export AUTOGRAPH_VERBOSITY=10`) and attach the full output. Cause: converting <bound method Block.call of <__main__.Block object at 0x000001C96E5CFC18>>: AssertionError: Bad argument number for Name: 3, expecting 4\n"
     ]
    },
    {
     "name": "stdout",
     "output_type": "stream",
     "text": [
      "WARNING: Entity <bound method SNDense.call of <__main__.SNDense object at 0x000001C971BDB630>> could not be transformed and will be executed as-is. Please report this to the AutgoGraph team. When filing the bug, set the verbosity to 10 (on Linux, `export AUTOGRAPH_VERBOSITY=10`) and attach the full output. Cause: converting <bound method SNDense.call of <__main__.SNDense object at 0x000001C971BDB630>>: AssertionError: Bad argument number for Name: 3, expecting 4\n",
      "block1/fc2/u:0\n",
      "u is updated\n",
      "WARNING: Entity <bound method Block.call of <__main__.Block object at 0x000001C96E5CFC18>> could not be transformed and will be executed as-is. Please report this to the AutgoGraph team. When filing the bug, set the verbosity to 10 (on Linux, `export AUTOGRAPH_VERBOSITY=10`) and attach the full output. Cause: converting <bound method Block.call of <__main__.Block object at 0x000001C96E5CFC18>>: AssertionError: Bad argument number for Name: 3, expecting 4\n"
     ]
    },
    {
     "name": "stderr",
     "output_type": "stream",
     "text": [
      "W1126 17:32:37.723226 18244 ag_logging.py:145] Entity <bound method SNDense.call of <__main__.SNDense object at 0x000001C971BE8320>> could not be transformed and will be executed as-is. Please report this to the AutgoGraph team. When filing the bug, set the verbosity to 10 (on Linux, `export AUTOGRAPH_VERBOSITY=10`) and attach the full output. Cause: converting <bound method SNDense.call of <__main__.SNDense object at 0x000001C971BE8320>>: AssertionError: Bad argument number for Name: 3, expecting 4\n",
      "W1126 17:32:37.837105 18244 ag_logging.py:145] Entity <bound method SNDense.call of <__main__.SNDense object at 0x000001C971BE85F8>> could not be transformed and will be executed as-is. Please report this to the AutgoGraph team. When filing the bug, set the verbosity to 10 (on Linux, `export AUTOGRAPH_VERBOSITY=10`) and attach the full output. Cause: converting <bound method SNDense.call of <__main__.SNDense object at 0x000001C971BE85F8>>: AssertionError: Bad argument number for Name: 3, expecting 4\n"
     ]
    },
    {
     "name": "stdout",
     "output_type": "stream",
     "text": [
      "WARNING: Entity <bound method SNDense.call of <__main__.SNDense object at 0x000001C971BE8320>> could not be transformed and will be executed as-is. Please report this to the AutgoGraph team. When filing the bug, set the verbosity to 10 (on Linux, `export AUTOGRAPH_VERBOSITY=10`) and attach the full output. Cause: converting <bound method SNDense.call of <__main__.SNDense object at 0x000001C971BE8320>>: AssertionError: Bad argument number for Name: 3, expecting 4\n",
      "block2/fc1/u:0\n",
      "u is updated\n",
      "WARNING: Entity <bound method SNDense.call of <__main__.SNDense object at 0x000001C971BE85F8>> could not be transformed and will be executed as-is. Please report this to the AutgoGraph team. When filing the bug, set the verbosity to 10 (on Linux, `export AUTOGRAPH_VERBOSITY=10`) and attach the full output. Cause: converting <bound method SNDense.call of <__main__.SNDense object at 0x000001C971BE85F8>>: AssertionError: Bad argument number for Name: 3, expecting 4\n",
      "block2/fc2/u:0\n",
      "u is updated\n"
     ]
    }
   ],
   "source": [
    "model = make_model(update_collection=None)"
   ]
  },
  {
   "cell_type": "code",
   "execution_count": 7,
   "metadata": {},
   "outputs": [
    {
     "data": {
      "text/plain": [
       "[<tf.Variable 'block1/bias:0' shape=(10,) dtype=float32_ref>,\n",
       " <tf.Variable 'block1/fc1/kernel:0' shape=(10, 20) dtype=float32_ref>,\n",
       " <tf.Variable 'block1/fc1/bias:0' shape=(20,) dtype=float32_ref>,\n",
       " <tf.Variable 'block1/fc1/u:0' shape=(1, 20) dtype=float32_ref>,\n",
       " <tf.Variable 'block1/fc2/kernel:0' shape=(20, 10) dtype=float32_ref>,\n",
       " <tf.Variable 'block1/fc2/bias:0' shape=(10,) dtype=float32_ref>,\n",
       " <tf.Variable 'block1/fc2/u:0' shape=(1, 10) dtype=float32_ref>,\n",
       " <tf.Variable 'block2/bias:0' shape=(10,) dtype=float32_ref>,\n",
       " <tf.Variable 'block2/fc1/kernel:0' shape=(10, 20) dtype=float32_ref>,\n",
       " <tf.Variable 'block2/fc1/bias:0' shape=(20,) dtype=float32_ref>,\n",
       " <tf.Variable 'block2/fc1/u:0' shape=(1, 20) dtype=float32_ref>,\n",
       " <tf.Variable 'block2/fc2/kernel:0' shape=(20, 10) dtype=float32_ref>,\n",
       " <tf.Variable 'block2/fc2/bias:0' shape=(10,) dtype=float32_ref>,\n",
       " <tf.Variable 'block2/fc2/u:0' shape=(1, 10) dtype=float32_ref>]"
      ]
     },
     "execution_count": 7,
     "metadata": {},
     "output_type": "execute_result"
    }
   ],
   "source": [
    "tf.get_collection(tf.GraphKeys.GLOBAL_VARIABLES)"
   ]
  },
  {
   "cell_type": "code",
   "execution_count": 8,
   "metadata": {},
   "outputs": [
    {
     "name": "stderr",
     "output_type": "stream",
     "text": [
      "W1126 17:33:13.824445 18244 ag_logging.py:145] Entity <bound method Block.call of <__main__.Block object at 0x000001C971EC1B00>> could not be transformed and will be executed as-is. Please report this to the AutgoGraph team. When filing the bug, set the verbosity to 10 (on Linux, `export AUTOGRAPH_VERBOSITY=10`) and attach the full output. Cause: converting <bound method Block.call of <__main__.Block object at 0x000001C971EC1B00>>: AssertionError: Bad argument number for Name: 3, expecting 4\n",
      "W1126 17:33:13.870006 18244 ag_logging.py:145] Entity <bound method SNDense.call of <__main__.SNDense object at 0x000001C971ED80F0>> could not be transformed and will be executed as-is. Please report this to the AutgoGraph team. When filing the bug, set the verbosity to 10 (on Linux, `export AUTOGRAPH_VERBOSITY=10`) and attach the full output. Cause: converting <bound method SNDense.call of <__main__.SNDense object at 0x000001C971ED80F0>>: AssertionError: Bad argument number for Name: 3, expecting 4\n",
      "W1126 17:33:13.940958 18244 ag_logging.py:145] Entity <bound method SNDense.call of <__main__.SNDense object at 0x000001C971ED8240>> could not be transformed and will be executed as-is. Please report this to the AutgoGraph team. When filing the bug, set the verbosity to 10 (on Linux, `export AUTOGRAPH_VERBOSITY=10`) and attach the full output. Cause: converting <bound method SNDense.call of <__main__.SNDense object at 0x000001C971ED8240>>: AssertionError: Bad argument number for Name: 3, expecting 4\n"
     ]
    },
    {
     "name": "stdout",
     "output_type": "stream",
     "text": [
      "WARNING: Entity <bound method Block.call of <__main__.Block object at 0x000001C971EC1B00>> could not be transformed and will be executed as-is. Please report this to the AutgoGraph team. When filing the bug, set the verbosity to 10 (on Linux, `export AUTOGRAPH_VERBOSITY=10`) and attach the full output. Cause: converting <bound method Block.call of <__main__.Block object at 0x000001C971EC1B00>>: AssertionError: Bad argument number for Name: 3, expecting 4\n",
      "WARNING: Entity <bound method SNDense.call of <__main__.SNDense object at 0x000001C971ED80F0>> could not be transformed and will be executed as-is. Please report this to the AutgoGraph team. When filing the bug, set the verbosity to 10 (on Linux, `export AUTOGRAPH_VERBOSITY=10`) and attach the full output. Cause: converting <bound method SNDense.call of <__main__.SNDense object at 0x000001C971ED80F0>>: AssertionError: Bad argument number for Name: 3, expecting 4\n",
      "block1/fc1/u:0\n",
      "u is NOT updated\n",
      "WARNING: Entity <bound method SNDense.call of <__main__.SNDense object at 0x000001C971ED8240>> could not be transformed and will be executed as-is. Please report this to the AutgoGraph team. When filing the bug, set the verbosity to 10 (on Linux, `export AUTOGRAPH_VERBOSITY=10`) and attach the full output. Cause: converting <bound method SNDense.call of <__main__.SNDense object at 0x000001C971ED8240>>: AssertionError: Bad argument number for Name: 3, expecting 4\n",
      "block1/fc2/u:0\n",
      "u is NOT updated\n"
     ]
    },
    {
     "name": "stderr",
     "output_type": "stream",
     "text": [
      "W1126 17:33:14.043545 18244 ag_logging.py:145] Entity <bound method Block.call of <__main__.Block object at 0x000001C971EC1CF8>> could not be transformed and will be executed as-is. Please report this to the AutgoGraph team. When filing the bug, set the verbosity to 10 (on Linux, `export AUTOGRAPH_VERBOSITY=10`) and attach the full output. Cause: converting <bound method Block.call of <__main__.Block object at 0x000001C971EC1CF8>>: AssertionError: Bad argument number for Name: 3, expecting 4\n",
      "W1126 17:33:14.113294 18244 ag_logging.py:145] Entity <bound method SNDense.call of <__main__.SNDense object at 0x000001C971E27AC8>> could not be transformed and will be executed as-is. Please report this to the AutgoGraph team. When filing the bug, set the verbosity to 10 (on Linux, `export AUTOGRAPH_VERBOSITY=10`) and attach the full output. Cause: converting <bound method SNDense.call of <__main__.SNDense object at 0x000001C971E27AC8>>: AssertionError: Bad argument number for Name: 3, expecting 4\n"
     ]
    },
    {
     "name": "stdout",
     "output_type": "stream",
     "text": [
      "WARNING: Entity <bound method Block.call of <__main__.Block object at 0x000001C971EC1CF8>> could not be transformed and will be executed as-is. Please report this to the AutgoGraph team. When filing the bug, set the verbosity to 10 (on Linux, `export AUTOGRAPH_VERBOSITY=10`) and attach the full output. Cause: converting <bound method Block.call of <__main__.Block object at 0x000001C971EC1CF8>>: AssertionError: Bad argument number for Name: 3, expecting 4\n",
      "WARNING: Entity <bound method SNDense.call of <__main__.SNDense object at 0x000001C971E27AC8>> could not be transformed and will be executed as-is. Please report this to the AutgoGraph team. When filing the bug, set the verbosity to 10 (on Linux, `export AUTOGRAPH_VERBOSITY=10`) and attach the full output. Cause: converting <bound method SNDense.call of <__main__.SNDense object at 0x000001C971E27AC8>>: AssertionError: Bad argument number for Name: 3, expecting 4\n",
      "block2/fc1/u:0\n",
      "u is NOT updated\n"
     ]
    },
    {
     "name": "stderr",
     "output_type": "stream",
     "text": [
      "W1126 17:33:14.269375 18244 ag_logging.py:145] Entity <bound method SNDense.call of <__main__.SNDense object at 0x000001C971E5ED68>> could not be transformed and will be executed as-is. Please report this to the AutgoGraph team. When filing the bug, set the verbosity to 10 (on Linux, `export AUTOGRAPH_VERBOSITY=10`) and attach the full output. Cause: converting <bound method SNDense.call of <__main__.SNDense object at 0x000001C971E5ED68>>: AssertionError: Bad argument number for Name: 3, expecting 4\n"
     ]
    },
    {
     "name": "stdout",
     "output_type": "stream",
     "text": [
      "WARNING: Entity <bound method SNDense.call of <__main__.SNDense object at 0x000001C971E5ED68>> could not be transformed and will be executed as-is. Please report this to the AutgoGraph team. When filing the bug, set the verbosity to 10 (on Linux, `export AUTOGRAPH_VERBOSITY=10`) and attach the full output. Cause: converting <bound method SNDense.call of <__main__.SNDense object at 0x000001C971E5ED68>>: AssertionError: Bad argument number for Name: 3, expecting 4\n",
      "block2/fc2/u:0\n",
      "u is NOT updated\n"
     ]
    }
   ],
   "source": [
    "model_no_op = make_model(update_collection='NO_OPS')"
   ]
  },
  {
   "cell_type": "code",
   "execution_count": 9,
   "metadata": {},
   "outputs": [
    {
     "data": {
      "text/plain": [
       "[<tf.Variable 'block1/bias:0' shape=(10,) dtype=float32_ref>,\n",
       " <tf.Variable 'block1/fc1/kernel:0' shape=(10, 20) dtype=float32_ref>,\n",
       " <tf.Variable 'block1/fc1/bias:0' shape=(20,) dtype=float32_ref>,\n",
       " <tf.Variable 'block1/fc1/u:0' shape=(1, 20) dtype=float32_ref>,\n",
       " <tf.Variable 'block1/fc2/kernel:0' shape=(20, 10) dtype=float32_ref>,\n",
       " <tf.Variable 'block1/fc2/bias:0' shape=(10,) dtype=float32_ref>,\n",
       " <tf.Variable 'block1/fc2/u:0' shape=(1, 10) dtype=float32_ref>,\n",
       " <tf.Variable 'block2/bias:0' shape=(10,) dtype=float32_ref>,\n",
       " <tf.Variable 'block2/fc1/kernel:0' shape=(10, 20) dtype=float32_ref>,\n",
       " <tf.Variable 'block2/fc1/bias:0' shape=(20,) dtype=float32_ref>,\n",
       " <tf.Variable 'block2/fc1/u:0' shape=(1, 20) dtype=float32_ref>,\n",
       " <tf.Variable 'block2/fc2/kernel:0' shape=(20, 10) dtype=float32_ref>,\n",
       " <tf.Variable 'block2/fc2/bias:0' shape=(10,) dtype=float32_ref>,\n",
       " <tf.Variable 'block2/fc2/u:0' shape=(1, 10) dtype=float32_ref>]"
      ]
     },
     "execution_count": 9,
     "metadata": {},
     "output_type": "execute_result"
    }
   ],
   "source": [
    "tf.get_collection(tf.GraphKeys.GLOBAL_VARIABLES)"
   ]
  },
  {
   "cell_type": "code",
   "execution_count": null,
   "metadata": {},
   "outputs": [],
   "source": [
    "output_no_op = model_no_op(model_no_op.input)\n",
    "output = model(model.input)\n",
    "\n",
    "init = tf.global_variables_initializer()\n",
    "\n",
    "with tf.Session() as sess:\n",
    "    sess.run(init)\n",
    "    print('Initial value: {}'.format(sess.run('fc1/u:0')))\n",
    "    \n",
    "    sess.run(output_no_op, feed_dict={model_no_op.input: 2*np.ones((5,10))})\n",
    "    print('After run NO_OPS : {}'.format(sess.run('fc1/u:0')))\n",
    "    \n",
    "    sess.run(output, feed_dict={model.input: 2*np.ones((5,10))})\n",
    "    print('After run None : {}'.format(sess.run('fc1/u:0')))\n",
    "    \n",
    "    sess.run(output_no_op, feed_dict={model_no_op.input: 2*np.ones((5,10))})\n",
    "    print('After run NO_OPS : {}'.format(sess.run('fc1/u:0')))\n",
    "    \n",
    "    sess.run(output, feed_dict={model.input: np.ones((5,10))})\n",
    "    print('After run None : {}'.format(sess.run('fc1/u:0')))"
   ]
  }
 ],
 "metadata": {
  "kernelspec": {
   "display_name": "Python 3",
   "language": "python",
   "name": "python3"
  },
  "language_info": {
   "codemirror_mode": {
    "name": "ipython",
    "version": 3
   },
   "file_extension": ".py",
   "mimetype": "text/x-python",
   "name": "python",
   "nbconvert_exporter": "python",
   "pygments_lexer": "ipython3",
   "version": "3.6.8"
  }
 },
 "nbformat": 4,
 "nbformat_minor": 2
}
