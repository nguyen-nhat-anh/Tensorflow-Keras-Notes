{
 "cells": [
  {
   "cell_type": "code",
   "execution_count": 1,
   "metadata": {},
   "outputs": [
    {
     "name": "stdout",
     "output_type": "stream",
     "text": [
      "2.0.0\n"
     ]
    }
   ],
   "source": [
    "import tensorflow as tf\n",
    "import numpy as np\n",
    "from tensorflow.keras.models import Model, load_model\n",
    "from tensorflow.keras.layers import Layer, Input\n",
    "\n",
    "print(tf.__version__)"
   ]
  },
  {
   "cell_type": "code",
   "execution_count": 2,
   "metadata": {},
   "outputs": [],
   "source": [
    "class CustomDropout(Layer):\n",
    "    def __init__(self, rate, autocast=False, **kwargs):\n",
    "        super(CustomDropout, self).__init__(autocast=False, **kwargs)\n",
    "        self.rate = rate\n",
    "        \n",
    "    def call(self, inputs, training=None):\n",
    "        if training:\n",
    "            return tf.nn.dropout(inputs, rate=self.rate)\n",
    "        return inputs"
   ]
  },
  {
   "cell_type": "code",
   "execution_count": 3,
   "metadata": {},
   "outputs": [],
   "source": [
    "class CustomLayer(Layer):\n",
    "    def __init__(self, autocast=False, **kwargs):\n",
    "        super(CustomLayer, self).__init__(autocast=False, **kwargs)\n",
    "        \n",
    "    def call(self, inputs, training=None):\n",
    "        if training:\n",
    "            return 1\n",
    "        else:\n",
    "            return 0"
   ]
  },
  {
   "cell_type": "code",
   "execution_count": 4,
   "metadata": {},
   "outputs": [
    {
     "name": "stdout",
     "output_type": "stream",
     "text": [
      "Default behavior:  0\n",
      "Training = True:  1\n",
      "Training = False:  0\n"
     ]
    }
   ],
   "source": [
    "inputs = Input(shape=(10,))\n",
    "outputs = CustomLayer()(inputs)\n",
    "\n",
    "model = Model(inputs, outputs)\n",
    "\n",
    "x = np.ones((1,10))\n",
    "\n",
    "print('Default behavior: ', model(x))\n",
    "print('Training = True: ', model(x, training=True))\n",
    "print('Training = False: ', model(x, training=False))"
   ]
  },
  {
   "cell_type": "code",
   "execution_count": 5,
   "metadata": {},
   "outputs": [
    {
     "name": "stderr",
     "output_type": "stream",
     "text": [
      "WARNING: Logging before flag parsing goes to stderr.\n",
      "W1123 14:31:15.003648 14564 nn_ops.py:4283] Large dropout rate: 0.9 (>0.5). In TensorFlow 2.x, dropout() uses dropout rate instead of keep_prob. Please ensure that this is intended.\n",
      "W1123 14:31:15.025561 14564 nn_ops.py:4283] Large dropout rate: 0.9 (>0.5). In TensorFlow 2.x, dropout() uses dropout rate instead of keep_prob. Please ensure that this is intended.\n"
     ]
    },
    {
     "name": "stdout",
     "output_type": "stream",
     "text": [
      "Default behavior:  tf.Tensor([[1. 1. 1. 1. 1. 1. 1. 1. 1. 1.]], shape=(1, 10), dtype=float64)\n",
      "Training = True:  tf.Tensor([[ 0. 10.  0.  0.  0.  0.  0.  0.  0.  0.]], shape=(1, 10), dtype=float64)\n",
      "Training = False:  tf.Tensor([[1. 1. 1. 1. 1. 1. 1. 1. 1. 1.]], shape=(1, 10), dtype=float64)\n"
     ]
    }
   ],
   "source": [
    "outputs2 = CustomDropout(rate=0.9)(inputs)\n",
    "\n",
    "model2 = Model(inputs, outputs2)\n",
    "\n",
    "print('Default behavior: ', model2(x))\n",
    "print('Training = True: ', model2(x, training=True))\n",
    "print('Training = False: ', model2(x, training=False))"
   ]
  }
 ],
 "metadata": {
  "kernelspec": {
   "display_name": "Python 3",
   "language": "python",
   "name": "python3"
  },
  "language_info": {
   "codemirror_mode": {
    "name": "ipython",
    "version": 3
   },
   "file_extension": ".py",
   "mimetype": "text/x-python",
   "name": "python",
   "nbconvert_exporter": "python",
   "pygments_lexer": "ipython3",
   "version": "3.6.5"
  }
 },
 "nbformat": 4,
 "nbformat_minor": 2
}
