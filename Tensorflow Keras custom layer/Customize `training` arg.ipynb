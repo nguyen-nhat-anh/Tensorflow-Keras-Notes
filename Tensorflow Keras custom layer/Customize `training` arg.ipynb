{
 "cells": [
  {
   "cell_type": "code",
   "execution_count": 1,
   "metadata": {},
   "outputs": [
    {
     "data": {
      "text/plain": [
       "'1.14.0'"
      ]
     },
     "execution_count": 1,
     "metadata": {},
     "output_type": "execute_result"
    }
   ],
   "source": [
    "import tensorflow as tf\n",
    "import numpy as np\n",
    "from enum import Enum\n",
    "\n",
    "tf.__version__"
   ]
  },
  {
   "cell_type": "code",
   "execution_count": 2,
   "metadata": {},
   "outputs": [],
   "source": [
    "class TrainArg(Enum):\n",
    "    FALSE = 0\n",
    "    TRUE_UPDATE_U = 1\n",
    "    TRUE_NO_UPDATE_U = 2"
   ]
  },
  {
   "cell_type": "markdown",
   "metadata": {},
   "source": [
    "Some layers, in particular the `BatchNormalization` layer and the `Dropout` layer, have different behaviors during training and inference. For such layers, it is standard practice to expose a `training` (boolean) argument in the `call` method.\n",
    "\n",
    "By exposing this argument in `call`, you enable the built-in training and evaluation loops to correctly use the layer in training and inference."
   ]
  },
  {
   "cell_type": "code",
   "execution_count": 3,
   "metadata": {},
   "outputs": [],
   "source": [
    "class Wrapper(tf.keras.layers.Layer):\n",
    "    def __init__(self, **kwargs):\n",
    "        super(Wrapper, self).__init__(**kwargs)\n",
    "    \n",
    "    def build(self, input_shape):\n",
    "        self.bn = tf.keras.layers.BatchNormalization(momentum=0.9, epsilon=1e-5)\n",
    "        super(Wrapper, self).build(input_shape)\n",
    "        \n",
    "    def call(self, inputs, training=None):\n",
    "        x = self.bn(inputs, training=bool(training))\n",
    "        print('training mode: {}'.format(training))\n",
    "        return x"
   ]
  },
  {
   "cell_type": "code",
   "execution_count": 4,
   "metadata": {},
   "outputs": [
    {
     "name": "stderr",
     "output_type": "stream",
     "text": [
      "WARNING: Logging before flag parsing goes to stderr.\n",
      "W1220 13:04:10.469505 12100 deprecation.py:506] From f:\\anaconda3\\envs\\tensorflow1.14\\lib\\site-packages\\tensorflow\\python\\ops\\init_ops.py:1251: calling VarianceScaling.__init__ (from tensorflow.python.ops.init_ops) with dtype is deprecated and will be removed in a future version.\n",
      "Instructions for updating:\n",
      "Call initializer instance with the dtype argument instead of passing it to the constructor\n"
     ]
    },
    {
     "name": "stdout",
     "output_type": "stream",
     "text": [
      "training mode: None\n"
     ]
    }
   ],
   "source": [
    "def make_model():\n",
    "    inputs = tf.keras.Input(shape=(10,))\n",
    "    x = tf.keras.layers.Dense(3)(inputs)\n",
    "    outputs = Wrapper(name='wrapper')(x)\n",
    "    model = tf.keras.Model(inputs, outputs)\n",
    "    return model\n",
    "\n",
    "model = make_model()"
   ]
  },
  {
   "cell_type": "code",
   "execution_count": 5,
   "metadata": {},
   "outputs": [
    {
     "name": "stdout",
     "output_type": "stream",
     "text": [
      "training mode: TrainArg.TRUE_UPDATE_U\n"
     ]
    }
   ],
   "source": [
    "train_update_u = model(model.input, training=TrainArg.TRUE_UPDATE_U)"
   ]
  },
  {
   "cell_type": "code",
   "execution_count": 6,
   "metadata": {},
   "outputs": [
    {
     "name": "stdout",
     "output_type": "stream",
     "text": [
      "training mode: TrainArg.TRUE_NO_UPDATE_U\n"
     ]
    }
   ],
   "source": [
    "train_no_update_u = model(model.input, training=TrainArg.TRUE_NO_UPDATE_U)"
   ]
  },
  {
   "cell_type": "code",
   "execution_count": 7,
   "metadata": {},
   "outputs": [
    {
     "name": "stdout",
     "output_type": "stream",
     "text": [
      "training mode: TrainArg.FALSE\n"
     ]
    }
   ],
   "source": [
    "inference = model(model.input, training=TrainArg.FALSE)"
   ]
  },
  {
   "cell_type": "code",
   "execution_count": 8,
   "metadata": {},
   "outputs": [
    {
     "data": {
      "text/plain": [
       "[<tf.Variable 'dense/kernel:0' shape=(10, 3) dtype=float32>,\n",
       " <tf.Variable 'dense/bias:0' shape=(3,) dtype=float32>,\n",
       " <tf.Variable 'wrapper/batch_normalization/gamma:0' shape=(3,) dtype=float32>,\n",
       " <tf.Variable 'wrapper/batch_normalization/beta:0' shape=(3,) dtype=float32>,\n",
       " <tf.Variable 'wrapper/batch_normalization/moving_mean:0' shape=(3,) dtype=float32>,\n",
       " <tf.Variable 'wrapper/batch_normalization/moving_variance:0' shape=(3,) dtype=float32>]"
      ]
     },
     "execution_count": 8,
     "metadata": {},
     "output_type": "execute_result"
    }
   ],
   "source": [
    "tf.get_collection(tf.GraphKeys.GLOBAL_VARIABLES)"
   ]
  }
 ],
 "metadata": {
  "kernelspec": {
   "display_name": "Python 3",
   "language": "python",
   "name": "python3"
  },
  "language_info": {
   "codemirror_mode": {
    "name": "ipython",
    "version": 3
   },
   "file_extension": ".py",
   "mimetype": "text/x-python",
   "name": "python",
   "nbconvert_exporter": "python",
   "pygments_lexer": "ipython3",
   "version": "3.6.8"
  }
 },
 "nbformat": 4,
 "nbformat_minor": 2
}
