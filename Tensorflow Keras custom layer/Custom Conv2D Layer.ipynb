{
 "cells": [
  {
   "cell_type": "markdown",
   "metadata": {},
   "source": [
    "https://mmuratarat.github.io/2019-01-17/implementing-padding-schemes-of-tensorflow-in-python"
   ]
  },
  {
   "cell_type": "code",
   "execution_count": 1,
   "metadata": {},
   "outputs": [
    {
     "data": {
      "text/plain": [
       "'2.0.0'"
      ]
     },
     "execution_count": 1,
     "metadata": {},
     "output_type": "execute_result"
    }
   ],
   "source": [
    "import tensorflow as tf\n",
    "import numpy as np\n",
    "\n",
    "tf.__version__"
   ]
  },
  {
   "cell_type": "code",
   "execution_count": 2,
   "metadata": {},
   "outputs": [],
   "source": [
    "class CustomConv2D(tf.keras.layers.Layer):\n",
    "    def __init__(self, filters, kernel_size, strides, padding, \n",
    "                 kernel_initializer, bias_initializer, pad_type='CONSTANT', **kwargs):\n",
    "        '''\n",
    "        filters - int, number of filters (channels_out)\n",
    "        kernel_size - tuple (kernel_height, kernel_width)\n",
    "        strides - tuple (stride_height, stride_width)\n",
    "        padding - 'SAME' or 'VALID'\n",
    "        pad_type - 'CONSTANT' (zeros) or 'REFLECT'\n",
    "        '''\n",
    "        super(CustomConv2D, self).__init__(**kwargs)\n",
    "        self.filters = filters\n",
    "        self.kernel_size = np.array(kernel_size)\n",
    "        self.strides = np.array(strides)\n",
    "        self.padding = padding.upper()\n",
    "        self.pad_type = pad_type.upper()\n",
    "        self.kernel_initializer = kernel_initializer\n",
    "        self.bias_initializer = bias_initializer\n",
    "        \n",
    "    \n",
    "    def build(self, input_shape):\n",
    "        '''\n",
    "        input_shape = (batch_size, height, width, channels_in)\n",
    "        '''\n",
    "        _, self.height, self.width, self.channels_in = input_shape.as_list()\n",
    "        self.img_size = np.array([self.height, self.width])\n",
    "        \n",
    "        self.kernel = self.add_weight(\"kernel\", \n",
    "                                      shape=(self.kernel_size[0], self.kernel_size[1], self.channels_in, self.filters), \n",
    "                                      initializer=self.kernel_initializer)\n",
    "        self.bias = self.add_weight(\"bias\", shape=(self.filters,), initializer=self.bias_initializer)\n",
    "        super(CustomConv2D, self).build(input_shape)  # Be sure to call this at the end\n",
    "    \n",
    "    \n",
    "    def call(self, inputs):\n",
    "        if self.padding == 'VALID': # no padding\n",
    "            x = tf.nn.conv2d(inputs, self.kernel, self.strides, 'VALID')\n",
    "        elif self.padding == 'SAME':\n",
    "            # padding = [pad_height, pad_width]\n",
    "            padding = np.where(self.img_size % self.strides == 0, \n",
    "                               np.maximum(self.kernel_size - self.strides, 0), \n",
    "                               np.maximum(self.kernel_size - self.img_size % self.strides, 0))\n",
    "            pad_top, pad_left = padding // 2\n",
    "            pad_bottom, pad_right = padding - padding // 2\n",
    "            \n",
    "            x = tf.pad(inputs, [[0, 0], [pad_top, pad_bottom], [pad_left, pad_right], [0, 0]], mode=self.pad_type)\n",
    "            x = tf.nn.conv2d(x, self.kernel, self.strides, 'VALID')\n",
    "        x = tf.nn.bias_add(x, self.bias)\n",
    "        return x"
   ]
  },
  {
   "cell_type": "code",
   "execution_count": 3,
   "metadata": {},
   "outputs": [],
   "source": [
    "x = np.random.rand(2, 13, 18, 21)\n",
    "filters = 11\n",
    "kernel_size = (5,5)\n",
    "strides = (4,4)\n",
    "padding = 'same'\n",
    "kernel_initializer = tf.constant_initializer(2.0)\n",
    "bias_initializer = tf.constant_initializer(1.5)"
   ]
  },
  {
   "cell_type": "code",
   "execution_count": 4,
   "metadata": {},
   "outputs": [
    {
     "name": "stderr",
     "output_type": "stream",
     "text": [
      "WARNING: Logging before flag parsing goes to stderr.\n",
      "W1226 10:16:12.389894 16600 base_layer.py:1814] Layer custom_conv is casting an input tensor from dtype float64 to the layer's dtype of float32, which is new behavior in TensorFlow 2.  The layer has dtype float32 because it's dtype defaults to floatx.\n",
      "\n",
      "If you intended to run this layer in float32, you can safely ignore this warning. If in doubt, this warning is likely only an issue if you are porting a TensorFlow 1.X model to TensorFlow 2.\n",
      "\n",
      "To change all layers to have dtype float64 by default, call `tf.keras.backend.set_floatx('float64')`. To change just this layer, pass dtype='float64' to the layer constructor. If you are the author of this layer, you can disable autocasting by passing autocast=False to the base Layer constructor.\n",
      "\n",
      "W1226 10:16:12.517030 16600 base_layer.py:1814] Layer conv2d is casting an input tensor from dtype float64 to the layer's dtype of float32, which is new behavior in TensorFlow 2.  The layer has dtype float32 because it's dtype defaults to floatx.\n",
      "\n",
      "If you intended to run this layer in float32, you can safely ignore this warning. If in doubt, this warning is likely only an issue if you are porting a TensorFlow 1.X model to TensorFlow 2.\n",
      "\n",
      "To change all layers to have dtype float64 by default, call `tf.keras.backend.set_floatx('float64')`. To change just this layer, pass dtype='float64' to the layer constructor. If you are the author of this layer, you can disable autocasting by passing autocast=False to the base Layer constructor.\n",
      "\n"
     ]
    }
   ],
   "source": [
    "y1 = CustomConv2D(filters, kernel_size, strides, padding, kernel_initializer, bias_initializer, name='custom_conv')(x)\n",
    "y2 = tf.keras.layers.Conv2D(filters, kernel_size=kernel_size, strides=strides, \n",
    "                            padding=padding, kernel_initializer=kernel_initializer, bias_initializer=bias_initializer)(x)"
   ]
  },
  {
   "cell_type": "code",
   "execution_count": 5,
   "metadata": {},
   "outputs": [
    {
     "data": {
      "text/plain": [
       "True"
      ]
     },
     "execution_count": 5,
     "metadata": {},
     "output_type": "execute_result"
    }
   ],
   "source": [
    "np.array_equal(y1.numpy(), y2.numpy())"
   ]
  }
 ],
 "metadata": {
  "kernelspec": {
   "display_name": "Python 3",
   "language": "python",
   "name": "python3"
  },
  "language_info": {
   "codemirror_mode": {
    "name": "ipython",
    "version": 3
   },
   "file_extension": ".py",
   "mimetype": "text/x-python",
   "name": "python",
   "nbconvert_exporter": "python",
   "pygments_lexer": "ipython3",
   "version": "3.6.5"
  }
 },
 "nbformat": 4,
 "nbformat_minor": 2
}
