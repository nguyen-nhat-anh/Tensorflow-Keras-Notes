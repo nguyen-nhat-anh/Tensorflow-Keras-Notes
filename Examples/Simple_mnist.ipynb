{
 "cells": [
  {
   "cell_type": "code",
   "execution_count": 28,
   "metadata": {},
   "outputs": [],
   "source": [
    "import numpy as np\n",
    "import matplotlib.pyplot as plt\n",
    "from keras.datasets import mnist\n",
    "from keras.models import Model\n",
    "from keras.layers import Dense, Input, Flatten\n",
    "from keras.utils import to_categorical\n",
    "%matplotlib inline"
   ]
  },
  {
   "cell_type": "code",
   "execution_count": 29,
   "metadata": {},
   "outputs": [],
   "source": [
    "(x_train, y_train), (x_test, y_test) = mnist.load_data()"
   ]
  },
  {
   "cell_type": "code",
   "execution_count": 30,
   "metadata": {},
   "outputs": [
    {
     "name": "stdout",
     "output_type": "stream",
     "text": [
      "(60000, 28, 28)\n",
      "(60000,)\n"
     ]
    }
   ],
   "source": [
    "print(x_train.shape)\n",
    "print(y_train.shape)"
   ]
  },
  {
   "cell_type": "code",
   "execution_count": 31,
   "metadata": {},
   "outputs": [
    {
     "name": "stdout",
     "output_type": "stream",
     "text": [
      "5\n"
     ]
    },
    {
     "data": {
      "image/png": "[encoded data removed]",
      "text/plain": [
       "<matplotlib.figure.Figure at 0x1dd0f1e7400>"
      ]
     },
     "metadata": {},
     "output_type": "display_data"
    }
   ],
   "source": [
    "plt.imshow(x_train[0,:,:])\n",
    "print(y_train[0])"
   ]
  },
  {
   "cell_type": "code",
   "execution_count": 32,
   "metadata": {},
   "outputs": [],
   "source": [
    "x_train = x_train / 255.0\n",
    "x_test = x_test / 255.0\n",
    "x_flatten_train = np.reshape(x_train, (x_train.shape[0],-1))\n",
    "x_flatten_test = np.reshape(x_test, (x_test.shape[0],-1))\n",
    "y_onehot_train = to_categorical(y_train)\n",
    "y_onehot_test = to_categorical(y_test)"
   ]
  },
  {
   "cell_type": "code",
   "execution_count": 33,
   "metadata": {},
   "outputs": [],
   "source": [
    "Hidden_layer = Dense(1024, activation='relu')\n",
    "Output_layer = Dense(10, activation='softmax')"
   ]
  },
  {
   "cell_type": "code",
   "execution_count": 34,
   "metadata": {},
   "outputs": [],
   "source": [
    "inp = Input(shape=(784,))\n",
    "hidden = Hidden_layer(inp)\n",
    "out = Output_layer(hidden)"
   ]
  },
  {
   "cell_type": "code",
   "execution_count": 35,
   "metadata": {},
   "outputs": [
    {
     "data": {
      "text/plain": [
       "[array([[-0.05491909,  0.05729171,  0.00482517, ...,  0.02571495,\n",
       "          0.01274436,  0.02463129],\n",
       "        [ 0.02356066,  0.05716704, -0.04255383, ...,  0.01125581,\n",
       "          0.05647685, -0.02525895],\n",
       "        [-0.03054514,  0.04916329, -0.01627265, ..., -0.05124751,\n",
       "          0.05490629,  0.03733332],\n",
       "        ...,\n",
       "        [-0.0420761 , -0.05225328, -0.04031524, ...,  0.02369759,\n",
       "          0.01474632, -0.04656673],\n",
       "        [-0.00044283, -0.02748584,  0.00086216, ..., -0.02145166,\n",
       "          0.04001443, -0.00434762],\n",
       "        [ 0.0118935 , -0.01110465,  0.02105384, ..., -0.05017403,\n",
       "          0.05285782,  0.04896878]], dtype=float32),\n",
       " array([0., 0., 0., ..., 0., 0., 0.], dtype=float32)]"
      ]
     },
     "execution_count": 35,
     "metadata": {},
     "output_type": "execute_result"
    }
   ],
   "source": [
    "Hidden_layer.get_weights()"
   ]
  },
  {
   "cell_type": "code",
   "execution_count": 36,
   "metadata": {},
   "outputs": [
    {
     "data": {
      "text/plain": [
       "[array([[-0.00158843,  0.04805356, -0.00114299, ..., -0.04360975,\n",
       "          0.00606044, -0.06652337],\n",
       "        [ 0.01319265,  0.07339384,  0.02483645, ..., -0.05652284,\n",
       "          0.02483318, -0.00772056],\n",
       "        [ 0.0683234 ,  0.03577494,  0.05974968, ...,  0.00794943,\n",
       "          0.01778501,  0.0195121 ],\n",
       "        ...,\n",
       "        [-0.03857772,  0.00830811,  0.04114903, ..., -0.03654173,\n",
       "          0.00602695,  0.06430587],\n",
       "        [-0.05841508,  0.05717589,  0.00181042, ..., -0.04123312,\n",
       "         -0.02424218,  0.01020093],\n",
       "        [ 0.02413964,  0.03330514, -0.01251503, ..., -0.026205  ,\n",
       "          0.00725836, -0.06545283]], dtype=float32),\n",
       " array([0., 0., 0., 0., 0., 0., 0., 0., 0., 0.], dtype=float32)]"
      ]
     },
     "execution_count": 36,
     "metadata": {},
     "output_type": "execute_result"
    }
   ],
   "source": [
    "Output_layer.get_weights()"
   ]
  },
  {
   "cell_type": "code",
   "execution_count": 37,
   "metadata": {},
   "outputs": [
    {
     "name": "stdout",
     "output_type": "stream",
     "text": [
      "Epoch 1/5\n",
      "60000/60000 [==============================] - 41s 687us/step - loss: 0.1894 - acc: 0.9447\n",
      "Epoch 2/5\n",
      "60000/60000 [==============================] - 39s 643us/step - loss: 0.0873 - acc: 0.9755\n",
      "Epoch 3/5\n",
      "60000/60000 [==============================] - 41s 678us/step - loss: 0.0639 - acc: 0.9824\n",
      "Epoch 4/5\n",
      "60000/60000 [==============================] - 37s 619us/step - loss: 0.0501 - acc: 0.9869\n",
      "Epoch 5/5\n",
      "60000/60000 [==============================] - 30s 496us/step - loss: 0.0398 - acc: 0.9898\n"
     ]
    },
    {
     "data": {
      "text/plain": [
       "<keras.callbacks.History at 0x1dd0eb1ddd8>"
      ]
     },
     "execution_count": 37,
     "metadata": {},
     "output_type": "execute_result"
    }
   ],
   "source": [
    "model = Model(inp, out)\n",
    "model.compile(optimizer='rmsprop', loss='categorical_crossentropy', metrics=['accuracy'])\n",
    "model.fit(x_flatten_train, y_onehot_train, epochs=5)"
   ]
  },
  {
   "cell_type": "code",
   "execution_count": 38,
   "metadata": {},
   "outputs": [
    {
     "data": {
      "text/plain": [
       "[array([[-0.05491909,  0.05729171,  0.00482517, ...,  0.02571495,\n",
       "          0.01274436,  0.02463129],\n",
       "        [ 0.02356066,  0.05716704, -0.04255383, ...,  0.01125581,\n",
       "          0.05647685, -0.02525895],\n",
       "        [-0.03054514,  0.04916329, -0.01627265, ..., -0.05124751,\n",
       "          0.05490629,  0.03733332],\n",
       "        ...,\n",
       "        [-0.0420761 , -0.05225328, -0.04031524, ...,  0.02369759,\n",
       "          0.01474632, -0.04656673],\n",
       "        [-0.00044283, -0.02748584,  0.00086216, ..., -0.02145166,\n",
       "          0.04001443, -0.00434762],\n",
       "        [ 0.0118935 , -0.01110465,  0.02105384, ..., -0.05017403,\n",
       "          0.05285782,  0.04896878]], dtype=float32),\n",
       " array([-0.03024697, -0.17373888, -0.13272102, ..., -0.11096622,\n",
       "        -0.04259139, -0.08289749], dtype=float32)]"
      ]
     },
     "execution_count": 38,
     "metadata": {},
     "output_type": "execute_result"
    }
   ],
   "source": [
    "Hidden_layer.get_weights()"
   ]
  },
  {
   "cell_type": "code",
   "execution_count": 39,
   "metadata": {},
   "outputs": [
    {
     "data": {
      "text/plain": [
       "[array([[-0.27127978, -0.10273429, -0.03606068, ..., -0.14429201,\n",
       "         -0.20832045, -0.45121497],\n",
       "        [-0.17846628,  0.03673957, -0.0022102 , ..., -0.5773953 ,\n",
       "         -0.26943302, -0.3626179 ],\n",
       "        [-0.00526261, -0.31165096, -0.038204  , ..., -0.20124331,\n",
       "         -0.0889583 , -0.03056396],\n",
       "        ...,\n",
       "        [-0.53224874, -0.33062053, -0.03450553, ..., -0.55351204,\n",
       "         -0.17803758,  0.02898102],\n",
       "        [-0.3265797 , -0.01219444,  0.02121354, ..., -0.7117672 ,\n",
       "         -0.08930605, -0.57812977],\n",
       "        [-0.12432452, -0.00951731, -0.21391965, ..., -0.24280511,\n",
       "          0.05495183, -0.5750007 ]], dtype=float32),\n",
       " array([-0.10111063, -0.13921309, -0.1187187 ,  0.00768479, -0.05500101,\n",
       "        -0.02558596, -0.11934709, -0.06008592,  0.05399927, -0.02522991],\n",
       "       dtype=float32)]"
      ]
     },
     "execution_count": 39,
     "metadata": {},
     "output_type": "execute_result"
    }
   ],
   "source": [
    "Output_layer.get_weights()"
   ]
  },
  {
   "cell_type": "code",
   "execution_count": 51,
   "metadata": {},
   "outputs": [
    {
     "name": "stdout",
     "output_type": "stream",
     "text": [
      "predict:  9\n",
      "true label:  9\n"
     ]
    },
    {
     "data": {
      "image/png": "[encoded data removed]",
      "text/plain": [
       "<matplotlib.figure.Figure at 0x1dd0ed62588>"
      ]
     },
     "metadata": {},
     "output_type": "display_data"
    }
   ],
   "source": [
    "n = 999\n",
    "plt.imshow(x_test[n,:,:])\n",
    "print('predict: ', np.argmax(model.predict(x_flatten_test[n:n+1,:])))\n",
    "print('true label: ', y_test[n])"
   ]
  },
  {
   "cell_type": "code",
   "execution_count": 53,
   "metadata": {},
   "outputs": [],
   "source": [
    "infer_inp = Input(shape=(28,28))\n",
    "infer_inp_flatten = Flatten()(infer_inp)\n",
    "infer_hidden = Hidden_layer(infer_inp_flatten)\n",
    "infer_out = Output_layer(infer_hidden)"
   ]
  },
  {
   "cell_type": "code",
   "execution_count": 54,
   "metadata": {},
   "outputs": [],
   "source": [
    "infer_model = Model(infer_inp, infer_out)"
   ]
  },
  {
   "cell_type": "code",
   "execution_count": 57,
   "metadata": {},
   "outputs": [
    {
     "data": {
      "text/plain": [
       "array([[3.5153008e-10, 3.5076263e-17, 4.9512644e-10, 2.9942999e-08,\n",
       "        4.4233393e-06, 3.6002465e-08, 4.8606057e-13, 1.6034086e-03,\n",
       "        1.4460280e-08, 9.9839205e-01]], dtype=float32)"
      ]
     },
     "execution_count": 57,
     "metadata": {},
     "output_type": "execute_result"
    }
   ],
   "source": [
    "infer_model.predict(x_test[n:n+1,:])"
   ]
  },
  {
   "cell_type": "code",
   "execution_count": 58,
   "metadata": {},
   "outputs": [
    {
     "data": {
      "text/plain": [
       "array([[3.5153008e-10, 3.5076263e-17, 4.9512644e-10, 2.9942999e-08,\n",
       "        4.4233393e-06, 3.6002465e-08, 4.8606057e-13, 1.6034086e-03,\n",
       "        1.4460280e-08, 9.9839205e-01]], dtype=float32)"
      ]
     },
     "execution_count": 58,
     "metadata": {},
     "output_type": "execute_result"
    }
   ],
   "source": [
    "model.predict(x_flatten_test[n:n+1,:])"
   ]
  }
 ],
 "metadata": {
  "kernelspec": {
   "display_name": "Python 3",
   "language": "python",
   "name": "python3"
  },
  "language_info": {
   "codemirror_mode": {
    "name": "ipython",
    "version": 3
   },
   "file_extension": ".py",
   "mimetype": "text/x-python",
   "name": "python",
   "nbconvert_exporter": "python",
   "pygments_lexer": "ipython3",
   "version": "3.6.8"
  }
 },
 "nbformat": 4,
 "nbformat_minor": 2
}
