{
 "cells": [
  {
   "cell_type": "markdown",
   "metadata": {},
   "source": [
    "A simple online autoregressive model for time series prediction "
   ]
  },
  {
   "cell_type": "code",
   "execution_count": 1,
   "metadata": {},
   "outputs": [],
   "source": [
    "%matplotlib inline\n",
    "import numpy as np\n",
    "import tensorflow as tf\n",
    "from collections import deque\n",
    "from matplotlib import pyplot as plt"
   ]
  },
  {
   "cell_type": "markdown",
   "metadata": {},
   "source": [
    "# Constants"
   ]
  },
  {
   "cell_type": "code",
   "execution_count": 2,
   "metadata": {},
   "outputs": [],
   "source": [
    "ar_order = 2\n",
    "learning_rate = 0.05\n",
    "n_samples = 5000\n",
    "sigma = 0.3 # noise std"
   ]
  },
  {
   "cell_type": "markdown",
   "metadata": {},
   "source": [
    "# Graph"
   ]
  },
  {
   "cell_type": "code",
   "execution_count": 3,
   "metadata": {},
   "outputs": [],
   "source": [
    "# tf graph inputs\n",
    "X = tf.placeholder(tf.float32, shape=[ar_order], name='history') # 1-D array\n",
    "Y = tf.placeholder(tf.float32, shape=[1], name='current') # scalar"
   ]
  },
  {
   "cell_type": "code",
   "execution_count": 4,
   "metadata": {},
   "outputs": [],
   "source": [
    "# tf graph variables\n",
    "gamma = tf.Variable(initial_value=tf.random.truncated_normal(shape=[ar_order]), \n",
    "                    name='ar_params', dtype=tf.float32, shape=[ar_order])"
   ]
  },
  {
   "cell_type": "code",
   "execution_count": 5,
   "metadata": {},
   "outputs": [],
   "source": [
    "def compute_backshift(series, ar_params, s=1):\n",
    "    '''\n",
    "    Compute backshift polynomial (1 - g(B)) X_t\n",
    "     params:\n",
    "    series: A tensor, shape (n,) - [X_t, X_{t-1}, ..., X_{t-(n-1)}]\n",
    "    ar_params: A tensor, shape (p,) - [g_1, g_2, ..., g_p]\n",
    "    \n",
    "     returns:\n",
    "    A tensor [X_t - g(B) X_t, X_{t-1} - g(B) X_{t-1}, ..., X_{t-(n-p-1)} - g(B) X_{t-(n-p-1)}], shape (n - p,)\n",
    "    where\n",
    "    g(B) = g_1 * B + g_2 * B^2 + ... + g_p * B^p\n",
    "    '''\n",
    "    n = tf.reshape(tf.shape(series), [])\n",
    "    p = tf.reshape(tf.shape(ar_params), [])\n",
    "    \n",
    "    sliding_window = tf.map_fn(lambda i: series[i:i+p+1], tf.range(n-p), dtype=tf.float32) # shape (n-p, p+1)\n",
    "    backshift_polynomial = tf.expand_dims(tf.concat([[1], -ar_params], axis=0), axis=-1) # shape (p+1, 1)\n",
    "    \n",
    "    result = tf.matmul(sliding_window, backshift_polynomial) # shape (n-p, 1)\n",
    "    return tf.squeeze(result, axis=-1) # shape (n-p,)"
   ]
  },
  {
   "cell_type": "code",
   "execution_count": 6,
   "metadata": {},
   "outputs": [],
   "source": [
    "concat = tf.concat([Y, X], axis=0) # shape (ar_order+1,)\n",
    "\n",
    "epsilon = compute_backshift(concat, gamma)[0] # scalar value"
   ]
  },
  {
   "cell_type": "code",
   "execution_count": 7,
   "metadata": {},
   "outputs": [],
   "source": [
    "prediction = -compute_backshift(tf.concat([[0], X], axis=0), gamma)"
   ]
  },
  {
   "cell_type": "code",
   "execution_count": 8,
   "metadata": {},
   "outputs": [],
   "source": [
    "loss = tf.square(epsilon)\n",
    "\n",
    "train_op = tf.train.GradientDescentOptimizer(learning_rate).minimize(loss)"
   ]
  },
  {
   "cell_type": "code",
   "execution_count": 9,
   "metadata": {},
   "outputs": [],
   "source": [
    "# Initialize the variables\n",
    "init = tf.global_variables_initializer()"
   ]
  },
  {
   "cell_type": "markdown",
   "metadata": {},
   "source": [
    "# Train"
   ]
  },
  {
   "cell_type": "code",
   "execution_count": 10,
   "metadata": {},
   "outputs": [],
   "source": [
    "series = [0] * ar_order\n",
    "history = deque([0] * ar_order, maxlen=ar_order)\n",
    "true_ar = np.array([0.6, -0.5])\n",
    "losses = []"
   ]
  },
  {
   "cell_type": "code",
   "execution_count": 11,
   "metadata": {},
   "outputs": [
    {
     "name": "stdout",
     "output_type": "stream",
     "text": [
      "estimated autoregressive parameters: [ 0.5807652  -0.46065906]\n",
      "true autoregressive parameters: [ 0.6 -0.5]\n"
     ]
    }
   ],
   "source": [
    "with tf.Session() as sess:\n",
    "    sess.run(init)\n",
    "    for i in range(n_samples-ar_order):\n",
    "        x = np.dot(true_ar, np.array(history)) + np.random.normal(scale=sigma)\n",
    "        l, _ = sess.run([loss, train_op], feed_dict={'history:0': np.array(history), 'current:0': np.array([x])})\n",
    "        \n",
    "        history.appendleft(x)\n",
    "        series.append(x)\n",
    "        losses.append(l)\n",
    "    print(f'estimated autoregressive parameters: {sess.run(gamma)}')\n",
    "    print(f'true autoregressive parameters: {true_ar}')"
   ]
  },
  {
   "cell_type": "code",
   "execution_count": 12,
   "metadata": {},
   "outputs": [],
   "source": [
    "mean_losses = [np.mean(losses[:i+1]) for i in range(len(losses))]"
   ]
  },
  {
   "cell_type": "code",
   "execution_count": 13,
   "metadata": {},
   "outputs": [
    {
     "data": {
      "image/png": "[encoded data removed]",
      "text/plain": [
       "<Figure size 1080x576 with 1 Axes>"
      ]
     },
     "metadata": {
      "needs_background": "light"
     },
     "output_type": "display_data"
    }
   ],
   "source": [
    "plt.figure(figsize=(15,8))\n",
    "plt.title('root mean squared error at each iteration')\n",
    "plt.plot(np.sqrt(mean_losses), color='b', label='rmse')\n",
    "plt.axhline(y=sigma, color='r', linestyle='--', label='sigma')\n",
    "plt.legend()\n",
    "plt.show()"
   ]
  }
 ],
 "metadata": {
  "kernelspec": {
   "display_name": "Python 3",
   "language": "python",
   "name": "python3"
  },
  "language_info": {
   "codemirror_mode": {
    "name": "ipython",
    "version": 3
   },
   "file_extension": ".py",
   "mimetype": "text/x-python",
   "name": "python",
   "nbconvert_exporter": "python",
   "pygments_lexer": "ipython3",
   "version": "3.6.8"
  }
 },
 "nbformat": 4,
 "nbformat_minor": 2
}
