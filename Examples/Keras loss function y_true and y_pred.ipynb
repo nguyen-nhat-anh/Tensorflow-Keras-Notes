{
 "cells": [
  {
   "cell_type": "code",
   "execution_count": 1,
   "metadata": {},
   "outputs": [
    {
     "name": "stderr",
     "output_type": "stream",
     "text": [
      "Using TensorFlow backend.\n"
     ]
    }
   ],
   "source": [
    "from keras.layers import Input, Dense, Reshape\n",
    "from keras.models import Model\n",
    "import numpy as np\n",
    "from keras.losses import mean_squared_error"
   ]
  },
  {
   "cell_type": "code",
   "execution_count": 2,
   "metadata": {},
   "outputs": [],
   "source": [
    "def custom_loss(y_true, y_pred):\n",
    "    print(y_true)\n",
    "    print(y_pred)\n",
    "    return mean_squared_error(y_true, y_pred)"
   ]
  },
  {
   "cell_type": "code",
   "execution_count": 3,
   "metadata": {},
   "outputs": [
    {
     "name": "stderr",
     "output_type": "stream",
     "text": [
      "WARNING: Logging before flag parsing goes to stderr.\n",
      "W1022 17:31:38.759837 22428 deprecation_wrapper.py:119] From f:\\anaconda3\\envs\\tensorflow1.14\\lib\\site-packages\\keras\\backend\\tensorflow_backend.py:74: The name tf.get_default_graph is deprecated. Please use tf.compat.v1.get_default_graph instead.\n",
      "\n",
      "W1022 17:31:38.781779 22428 deprecation_wrapper.py:119] From f:\\anaconda3\\envs\\tensorflow1.14\\lib\\site-packages\\keras\\backend\\tensorflow_backend.py:517: The name tf.placeholder is deprecated. Please use tf.compat.v1.placeholder instead.\n",
      "\n",
      "W1022 17:31:38.784773 22428 deprecation_wrapper.py:119] From f:\\anaconda3\\envs\\tensorflow1.14\\lib\\site-packages\\keras\\backend\\tensorflow_backend.py:4138: The name tf.random_uniform is deprecated. Please use tf.random.uniform instead.\n",
      "\n"
     ]
    }
   ],
   "source": [
    "inp = Input(shape=(1,))\n",
    "x = Dense(1000)(inp)\n",
    "x = Dense(6)(x)\n",
    "out = Reshape(target_shape=(3,2), name='one')(x)\n",
    "out2 = Dense(5, name='two')(x)\n",
    "\n",
    "model = Model(inp, [out, out2])"
   ]
  },
  {
   "cell_type": "code",
   "execution_count": 4,
   "metadata": {},
   "outputs": [
    {
     "name": "stderr",
     "output_type": "stream",
     "text": [
      "W1022 17:31:38.871837 22428 deprecation_wrapper.py:119] From f:\\anaconda3\\envs\\tensorflow1.14\\lib\\site-packages\\keras\\optimizers.py:790: The name tf.train.Optimizer is deprecated. Please use tf.compat.v1.train.Optimizer instead.\n",
      "\n"
     ]
    },
    {
     "name": "stdout",
     "output_type": "stream",
     "text": [
      "Tensor(\"one_target:0\", shape=(?, ?, ?), dtype=float32)\n",
      "Tensor(\"one/Reshape:0\", shape=(?, 3, 2), dtype=float32)\n"
     ]
    }
   ],
   "source": [
    "model.compile(loss={'one':custom_loss, 'two': 'mse'}, optimizer='sgd')"
   ]
  },
  {
   "cell_type": "code",
   "execution_count": 5,
   "metadata": {},
   "outputs": [
    {
     "name": "stderr",
     "output_type": "stream",
     "text": [
      "W1022 17:31:39.115609 22428 deprecation_wrapper.py:119] From f:\\anaconda3\\envs\\tensorflow1.14\\lib\\site-packages\\keras\\backend\\tensorflow_backend.py:986: The name tf.assign_add is deprecated. Please use tf.compat.v1.assign_add instead.\n",
      "\n",
      "W1022 17:31:39.145608 22428 deprecation_wrapper.py:119] From f:\\anaconda3\\envs\\tensorflow1.14\\lib\\site-packages\\keras\\backend\\tensorflow_backend.py:973: The name tf.assign is deprecated. Please use tf.compat.v1.assign instead.\n",
      "\n"
     ]
    },
    {
     "name": "stdout",
     "output_type": "stream",
     "text": [
      "Epoch 1/10\n",
      "10000/10000 [==============================] - 1s 64us/step - loss: 0.2842 - one_loss: 0.0731 - two_loss: 0.2111\n",
      "Epoch 2/10\n",
      "10000/10000 [==============================] - 0s 29us/step - loss: 0.0572 - one_loss: 0.0408 - two_loss: 0.0164\n",
      "Epoch 3/10\n",
      "10000/10000 [==============================] - 0s 29us/step - loss: 0.0257 - one_loss: 0.0199 - two_loss: 0.0058\n",
      "Epoch 4/10\n",
      "10000/10000 [==============================] - 0s 30us/step - loss: 0.0138 - one_loss: 0.0110 - two_loss: 0.0028\n",
      "Epoch 5/10\n",
      "10000/10000 [==============================] - 0s 30us/step - loss: 0.0079 - one_loss: 0.0064 - two_loss: 0.0015\n",
      "Epoch 6/10\n",
      "10000/10000 [==============================] - 0s 32us/step - loss: 0.0047 - one_loss: 0.0038 - two_loss: 8.8484e-04\n",
      "Epoch 7/10\n",
      "10000/10000 [==============================] - 0s 34us/step - loss: 0.0028 - one_loss: 0.0023 - two_loss: 5.2322e-04\n",
      "Epoch 8/10\n",
      "10000/10000 [==============================] - 0s 38us/step - loss: 0.0017 - one_loss: 0.0014 - two_loss: 3.1645e-04\n",
      "Epoch 9/10\n",
      "10000/10000 [==============================] - 0s 29us/step - loss: 0.0011 - one_loss: 8.8540e-04 - two_loss: 1.9353e-04\n",
      "Epoch 10/10\n",
      "10000/10000 [==============================] - 0s 32us/step - loss: 6.7196e-04 - one_loss: 5.5257e-04 - two_loss: 1.1938e-04\n"
     ]
    },
    {
     "data": {
      "text/plain": [
       "<keras.callbacks.History at 0x1981d5abba8>"
      ]
     },
     "execution_count": 5,
     "metadata": {},
     "output_type": "execute_result"
    }
   ],
   "source": [
    "model.fit(x=np.random.rand(10000, 1), y={'one':np.zeros((10000, 3, 2)),'two':np.ones((10000, 5))}, batch_size=32, epochs=10)"
   ]
  },
  {
   "cell_type": "code",
   "execution_count": null,
   "metadata": {},
   "outputs": [],
   "source": []
  }
 ],
 "metadata": {
  "kernelspec": {
   "display_name": "Python 3",
   "language": "python",
   "name": "python3"
  },
  "language_info": {
   "codemirror_mode": {
    "name": "ipython",
    "version": 3
   },
   "file_extension": ".py",
   "mimetype": "text/x-python",
   "name": "python",
   "nbconvert_exporter": "python",
   "pygments_lexer": "ipython3",
   "version": "3.6.8"
  }
 },
 "nbformat": 4,
 "nbformat_minor": 2
}
