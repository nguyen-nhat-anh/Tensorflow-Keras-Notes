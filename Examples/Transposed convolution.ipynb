{
 "cells": [
  {
   "cell_type": "markdown",
   "metadata": {},
   "source": [
    "Note: this notebook example uses tensorflow 2.0"
   ]
  },
  {
   "cell_type": "code",
   "execution_count": 1,
   "metadata": {},
   "outputs": [],
   "source": [
    "import tensorflow as tf\n",
    "import numpy as np"
   ]
  },
  {
   "cell_type": "markdown",
   "metadata": {},
   "source": [
    "Output shape formula for `padding='VALID'`:\n",
    "$$y_{height} = (x_{height} - 1) \\times strides_{height} + kernel_{height}$$\n",
    "$$y_{width} = (x_{width} - 1) \\times strides_{width} + kernel_{width}$$\n",
    "Output shape formula for `padding='SAME'`:\n",
    "$$y_{height} = x_{height} \\times strides_{height}$$\n",
    "$$y_{width} = x_{width} \\times strides_{width}$$"
   ]
  },
  {
   "cell_type": "code",
   "execution_count": 2,
   "metadata": {},
   "outputs": [],
   "source": [
    "def print_transpose_conv_example(input_shape, kernel_shape, strides, padding):\n",
    "    '''\n",
    "    input_shape - (height, width)\n",
    "    kernel_shape - (height, width)\n",
    "    strides - int\n",
    "    padding - 'VALID' or 'SAME'\n",
    "    '''\n",
    "    x_height, x_width = input_shape\n",
    "    kernel_height, kernel_width = kernel_shape\n",
    "    x = np.ones((1, x_height, x_width, 1)) # (batch, x_height, x_width, in_channels)\n",
    "    kernel = np.ones((kernel_height, kernel_width, 1, 1)) # (kernel_height, kernel_width, output_channels, input_channels)\n",
    "    \n",
    "    if padding == 'VALID':\n",
    "        output_shape = tuple((np.array(input_shape) - 1) * strides + np.array(kernel_shape))\n",
    "    elif padding == 'SAME':\n",
    "        output_shape = tuple(np.array(input_shape) * strides)\n",
    "    y_height, y_width = output_shape\n",
    "    y = tf.nn.conv2d_transpose(x, kernel, output_shape=(1, y_height, y_width, 1), # (batch, y_height, y_width, output_channels)\n",
    "                               strides=strides, padding=padding)\n",
    "    \n",
    "    print(' Input:')\n",
    "    print(np.reshape(x, (x_height, x_width)))\n",
    "    print(' Kernel: ')\n",
    "    print(np.reshape(kernel, (kernel_height, kernel_width)))\n",
    "    print(f' Output (strides = {strides}, padding = \"{padding}\"):')\n",
    "    print(np.reshape(y, (y_height, y_width)))"
   ]
  },
  {
   "cell_type": "markdown",
   "metadata": {},
   "source": [
    "Valid padding, unit strides"
   ]
  },
  {
   "cell_type": "code",
   "execution_count": 3,
   "metadata": {},
   "outputs": [
    {
     "name": "stdout",
     "output_type": "stream",
     "text": [
      " Input:\n",
      "[[1. 1.]\n",
      " [1. 1.]]\n",
      " Kernel: \n",
      "[[1. 1. 1.]\n",
      " [1. 1. 1.]\n",
      " [1. 1. 1.]]\n",
      " Output (strides = 1, padding = \"VALID\"):\n",
      "[[1. 2. 2. 1.]\n",
      " [2. 4. 4. 2.]\n",
      " [2. 4. 4. 2.]\n",
      " [1. 2. 2. 1.]]\n"
     ]
    }
   ],
   "source": [
    "print_transpose_conv_example((2,2), (3,3), 1, 'VALID')"
   ]
  },
  {
   "cell_type": "markdown",
   "metadata": {},
   "source": [
    "Same padding, unit strides, center crop"
   ]
  },
  {
   "cell_type": "code",
   "execution_count": 4,
   "metadata": {},
   "outputs": [
    {
     "name": "stdout",
     "output_type": "stream",
     "text": [
      "Center crop\n",
      " Input:\n",
      "[[1. 1.]\n",
      " [1. 1.]]\n",
      " Kernel: \n",
      "[[1. 1. 1.]\n",
      " [1. 1. 1.]\n",
      " [1. 1. 1.]]\n",
      " Output (strides = 1, padding = \"SAME\"):\n",
      "[[4. 4.]\n",
      " [4. 4.]]\n"
     ]
    }
   ],
   "source": [
    "print('Center crop')\n",
    "print_transpose_conv_example((2,2), (3,3), 1, 'SAME')"
   ]
  },
  {
   "cell_type": "markdown",
   "metadata": {},
   "source": [
    "Same padding, unit strides, top left crop"
   ]
  },
  {
   "cell_type": "code",
   "execution_count": 5,
   "metadata": {},
   "outputs": [
    {
     "name": "stdout",
     "output_type": "stream",
     "text": [
      " Input:\n",
      "[[1. 1.]\n",
      " [1. 1.]]\n",
      " Kernel: \n",
      "[[1. 1.]\n",
      " [1. 1.]]\n",
      " Output (strides = 1, padding = \"VALID\"):\n",
      "[[1. 2. 1.]\n",
      " [2. 4. 2.]\n",
      " [1. 2. 1.]]\n",
      "Top left crop\n",
      " Input:\n",
      "[[1. 1.]\n",
      " [1. 1.]]\n",
      " Kernel: \n",
      "[[1. 1.]\n",
      " [1. 1.]]\n",
      " Output (strides = 1, padding = \"SAME\"):\n",
      "[[1. 2.]\n",
      " [2. 4.]]\n"
     ]
    }
   ],
   "source": [
    "print_transpose_conv_example((2,2), (2,2), 1, 'VALID')\n",
    "print('Top left crop')\n",
    "print_transpose_conv_example((2,2), (2,2), 1, 'SAME')"
   ]
  },
  {
   "cell_type": "markdown",
   "metadata": {},
   "source": [
    "Valid padding, strides > 1"
   ]
  },
  {
   "cell_type": "code",
   "execution_count": 6,
   "metadata": {},
   "outputs": [
    {
     "name": "stdout",
     "output_type": "stream",
     "text": [
      " Input:\n",
      "[[1. 1.]\n",
      " [1. 1.]]\n",
      " Kernel: \n",
      "[[1. 1. 1.]\n",
      " [1. 1. 1.]\n",
      " [1. 1. 1.]]\n",
      " Output (strides = 2, padding = \"VALID\"):\n",
      "[[1. 1. 2. 1. 1.]\n",
      " [1. 1. 2. 1. 1.]\n",
      " [2. 2. 4. 2. 2.]\n",
      " [1. 1. 2. 1. 1.]\n",
      " [1. 1. 2. 1. 1.]]\n"
     ]
    }
   ],
   "source": [
    "print_transpose_conv_example((2,2), (3,3), 2, 'VALID')"
   ]
  },
  {
   "cell_type": "markdown",
   "metadata": {},
   "source": [
    "Same padding, strides > 1"
   ]
  },
  {
   "cell_type": "code",
   "execution_count": 7,
   "metadata": {},
   "outputs": [
    {
     "name": "stdout",
     "output_type": "stream",
     "text": [
      " Input:\n",
      "[[1. 1.]\n",
      " [1. 1.]]\n",
      " Kernel: \n",
      "[[1. 1. 1.]\n",
      " [1. 1. 1.]\n",
      " [1. 1. 1.]]\n",
      " Output (strides = 2, padding = \"SAME\"):\n",
      "[[1. 1. 2. 1.]\n",
      " [1. 1. 2. 1.]\n",
      " [2. 2. 4. 2.]\n",
      " [1. 1. 2. 1.]]\n"
     ]
    }
   ],
   "source": [
    "print_transpose_conv_example((2,2), (3,3), 2, 'SAME') # top left crop"
   ]
  }
 ],
 "metadata": {
  "kernelspec": {
   "display_name": "Python 3",
   "language": "python",
   "name": "python3"
  },
  "language_info": {
   "codemirror_mode": {
    "name": "ipython",
    "version": 3
   },
   "file_extension": ".py",
   "mimetype": "text/x-python",
   "name": "python",
   "nbconvert_exporter": "python",
   "pygments_lexer": "ipython3",
   "version": "3.6.5"
  }
 },
 "nbformat": 4,
 "nbformat_minor": 2
}
