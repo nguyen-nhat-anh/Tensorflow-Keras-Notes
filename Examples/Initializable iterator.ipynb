{
 "cells": [
  {
   "cell_type": "code",
   "execution_count": 1,
   "metadata": {},
   "outputs": [],
   "source": [
    "import tensorflow as tf\n",
    "import numpy as np"
   ]
  },
  {
   "cell_type": "code",
   "execution_count": 2,
   "metadata": {},
   "outputs": [
    {
     "data": {
      "text/plain": [
       "'1.14.0'"
      ]
     },
     "execution_count": 2,
     "metadata": {},
     "output_type": "execute_result"
    }
   ],
   "source": [
    "tf.__version__"
   ]
  },
  {
   "cell_type": "code",
   "execution_count": 3,
   "metadata": {},
   "outputs": [],
   "source": [
    "x = np.arange(10).reshape(-1, 1).astype('float32')"
   ]
  },
  {
   "cell_type": "code",
   "execution_count": 4,
   "metadata": {},
   "outputs": [
    {
     "name": "stderr",
     "output_type": "stream",
     "text": [
      "WARNING: Logging before flag parsing goes to stderr.\n",
      "W1212 12:05:35.933345 10836 deprecation.py:323] From <ipython-input-4-8a14886c4283>:4: DatasetV1.make_initializable_iterator (from tensorflow.python.data.ops.dataset_ops) is deprecated and will be removed in a future version.\n",
      "Instructions for updating:\n",
      "Use `for ... in dataset:` to iterate over a dataset. If using `tf.estimator`, return the `Dataset` object directly from your input function. As a last resort, you can use `tf.compat.v1.data.make_initializable_iterator(dataset)`.\n"
     ]
    }
   ],
   "source": [
    "x_ph = tf.placeholder(x.dtype, x.shape)\n",
    "train_dataset = tf.data.Dataset.from_tensor_slices(x_ph).batch(4, drop_remainder=True).repeat()\n",
    "\n",
    "iterator = train_dataset.make_initializable_iterator()\n",
    "next_element = iterator.get_next()"
   ]
  },
  {
   "cell_type": "code",
   "execution_count": 5,
   "metadata": {},
   "outputs": [],
   "source": [
    "def make_model():\n",
    "    inputs = tf.keras.Input(shape=(1,))\n",
    "    outputs = inputs + 1\n",
    "    model = tf.keras.Model(inputs, outputs)\n",
    "    return model"
   ]
  },
  {
   "cell_type": "code",
   "execution_count": 6,
   "metadata": {},
   "outputs": [],
   "source": [
    "model = make_model()"
   ]
  },
  {
   "cell_type": "code",
   "execution_count": 7,
   "metadata": {},
   "outputs": [],
   "source": [
    "out1 = model(next_element)\n",
    "out2 = model(model.input)"
   ]
  },
  {
   "cell_type": "code",
   "execution_count": 8,
   "metadata": {},
   "outputs": [
    {
     "name": "stdout",
     "output_type": "stream",
     "text": [
      "[[1.]\n",
      " [2.]\n",
      " [3.]\n",
      " [4.]]\n",
      "[[2.]\n",
      " [2.]\n",
      " [2.]\n",
      " [2.]]\n",
      "-----\n",
      "[[5.]\n",
      " [6.]\n",
      " [7.]\n",
      " [8.]]\n",
      "[[2.]\n",
      " [2.]\n",
      " [2.]\n",
      " [2.]]\n",
      "-----\n",
      "[[1.]\n",
      " [2.]\n",
      " [3.]\n",
      " [4.]]\n",
      "[[2.]\n",
      " [2.]\n",
      " [2.]\n",
      " [2.]]\n",
      "-----\n",
      "[[5.]\n",
      " [6.]\n",
      " [7.]\n",
      " [8.]]\n",
      "[[2.]\n",
      " [2.]\n",
      " [2.]\n",
      " [2.]]\n",
      "-----\n",
      "[[1.]\n",
      " [2.]\n",
      " [3.]\n",
      " [4.]]\n",
      "[[2.]\n",
      " [2.]\n",
      " [2.]\n",
      " [2.]]\n",
      "-----\n",
      "[[5.]\n",
      " [6.]\n",
      " [7.]\n",
      " [8.]]\n",
      "[[2.]\n",
      " [2.]\n",
      " [2.]\n",
      " [2.]]\n",
      "-----\n",
      "[[1.]\n",
      " [2.]\n",
      " [3.]\n",
      " [4.]]\n",
      "[[2.]\n",
      " [2.]\n",
      " [2.]\n",
      " [2.]]\n",
      "-----\n",
      "[[5.]\n",
      " [6.]\n",
      " [7.]\n",
      " [8.]]\n",
      "[[2.]\n",
      " [2.]\n",
      " [2.]\n",
      " [2.]]\n",
      "-----\n",
      "[[1.]\n",
      " [2.]\n",
      " [3.]\n",
      " [4.]]\n",
      "[[2.]\n",
      " [2.]\n",
      " [2.]\n",
      " [2.]]\n",
      "-----\n",
      "[[5.]\n",
      " [6.]\n",
      " [7.]\n",
      " [8.]]\n",
      "[[2.]\n",
      " [2.]\n",
      " [2.]\n",
      " [2.]]\n",
      "-----\n",
      "[[1.]\n",
      " [2.]\n",
      " [3.]\n",
      " [4.]]\n",
      "[[2.]\n",
      " [2.]\n",
      " [2.]\n",
      " [2.]]\n",
      "-----\n",
      "[[5.]\n",
      " [6.]\n",
      " [7.]\n",
      " [8.]]\n",
      "[[2.]\n",
      " [2.]\n",
      " [2.]\n",
      " [2.]]\n",
      "-----\n",
      "[[1.]\n",
      " [2.]\n",
      " [3.]\n",
      " [4.]]\n",
      "[[2.]\n",
      " [2.]\n",
      " [2.]\n",
      " [2.]]\n",
      "-----\n",
      "[[5.]\n",
      " [6.]\n",
      " [7.]\n",
      " [8.]]\n",
      "[[2.]\n",
      " [2.]\n",
      " [2.]\n",
      " [2.]]\n",
      "-----\n",
      "[[1.]\n",
      " [2.]\n",
      " [3.]\n",
      " [4.]]\n",
      "[[2.]\n",
      " [2.]\n",
      " [2.]\n",
      " [2.]]\n",
      "-----\n",
      "[[5.]\n",
      " [6.]\n",
      " [7.]\n",
      " [8.]]\n",
      "[[2.]\n",
      " [2.]\n",
      " [2.]\n",
      " [2.]]\n",
      "-----\n",
      "[[1.]\n",
      " [2.]\n",
      " [3.]\n",
      " [4.]]\n",
      "[[2.]\n",
      " [2.]\n",
      " [2.]\n",
      " [2.]]\n",
      "-----\n",
      "[[5.]\n",
      " [6.]\n",
      " [7.]\n",
      " [8.]]\n",
      "[[2.]\n",
      " [2.]\n",
      " [2.]\n",
      " [2.]]\n",
      "-----\n",
      "[[1.]\n",
      " [2.]\n",
      " [3.]\n",
      " [4.]]\n",
      "[[2.]\n",
      " [2.]\n",
      " [2.]\n",
      " [2.]]\n",
      "-----\n",
      "[[5.]\n",
      " [6.]\n",
      " [7.]\n",
      " [8.]]\n",
      "[[2.]\n",
      " [2.]\n",
      " [2.]\n",
      " [2.]]\n",
      "-----\n"
     ]
    }
   ],
   "source": [
    "with tf.Session() as sess:\n",
    "    sess.run(iterator.initializer, feed_dict={x_ph: x})\n",
    "    for i in range(20):\n",
    "        print(sess.run(out1))\n",
    "        print(sess.run(out2, feed_dict={model.input: np.ones((4,1))}))\n",
    "        print('-----')"
   ]
  }
 ],
 "metadata": {
  "kernelspec": {
   "display_name": "Python 3",
   "language": "python",
   "name": "python3"
  },
  "language_info": {
   "codemirror_mode": {
    "name": "ipython",
    "version": 3
   },
   "file_extension": ".py",
   "mimetype": "text/x-python",
   "name": "python",
   "nbconvert_exporter": "python",
   "pygments_lexer": "ipython3",
   "version": "3.6.8"
  }
 },
 "nbformat": 4,
 "nbformat_minor": 2
}
