{
 "cells": [
  {
   "cell_type": "markdown",
   "metadata": {},
   "source": [
    "https://cloud.google.com/ml-engine/docs/tensorflow/deploying-models"
   ]
  },
  {
   "cell_type": "markdown",
   "metadata": {},
   "source": [
    "# Prerequisites"
   ]
  },
  {
   "cell_type": "markdown",
   "metadata": {},
   "source": [
    "* After training a custom estimator, the model is saved in an exportable format using `tf.estimator.Estimator.export_saved_model()` method (see \"Tensorflow Estimator/Custom Estimator.ipynb\" for more details).\n",
    "* SavedModel directory structure:\n",
    "![SegmentLocal](resources/1.png)\n",
    "* Model inputs and outputs:\n",
    "\n",
    "`The given SavedModel SignatureDef contains the following input(s):\n",
    "  inputs['PetalLength'] tensor_info:\n",
    "      dtype: DT_FLOAT\n",
    "      shape: (-1)\n",
    "      name: Placeholder_2:0\n",
    "  inputs['PetalWidth'] tensor_info:\n",
    "      dtype: DT_FLOAT\n",
    "      shape: (-1)\n",
    "      name: Placeholder_3:0\n",
    "  inputs['SepalLength'] tensor_info:\n",
    "      dtype: DT_FLOAT\n",
    "      shape: (-1)\n",
    "      name: Placeholder:0\n",
    "  inputs['SepalWidth'] tensor_info:\n",
    "      dtype: DT_FLOAT\n",
    "      shape: (-1)\n",
    "      name: Placeholder_1:0\n",
    "The given SavedModel SignatureDef contains the following output(s):\n",
    "  outputs['classes'] tensor_info:\n",
    "      dtype: DT_INT64\n",
    "      shape: (-1)\n",
    "      name: ArgMax:0\n",
    "  outputs['probabilities'] tensor_info:\n",
    "      dtype: DT_FLOAT\n",
    "      shape: (-1, 3)\n",
    "      name: Softmax:0\n",
    "Method name is: tensorflow/serving/predict`"
   ]
  },
  {
   "cell_type": "markdown",
   "metadata": {},
   "source": [
    "# Overview"
   ]
  },
  {
   "cell_type": "markdown",
   "metadata": {},
   "source": [
    "* Upload your saved model to a Cloud Storage bucket.\n",
    "* Create an AI Platform model resource.\n",
    "* Create an AI Platform version resource, specifying the Cloud Storage path to your saved model."
   ]
  },
  {
   "cell_type": "markdown",
   "metadata": {},
   "source": [
    "# Upload model to Cloud Storage bucket"
   ]
  },
  {
   "cell_type": "markdown",
   "metadata": {},
   "source": [
    "* Set up a GCP project\n",
    "  * Go to Google Cloud console (https://console.cloud.google.com)\n",
    "  * Select or create a new project. For example, `Custom Estimator`\n",
    "  * Select navigation menu, choose <b>Artificial Intelligence/AI Platform</b> and enable the AI Platform API\n",
    "* In the navigation menu, choose <b>Storage/Storage</b>\n",
    "* Create a new bucket called `custom-estimator-mlengine`\n",
    "* Upload your model to the bucket"
   ]
  },
  {
   "cell_type": "markdown",
   "metadata": {},
   "source": [
    "# Deploy models and versions"
   ]
  },
  {
   "cell_type": "markdown",
   "metadata": {},
   "source": [
    "* In the navigation menu, choose <b>Artificial Intelligence/AI Platform</b>, then choose <b>Models</b>\n",
    "* Select <b>Create model</b>. In the <b>New model</b> menu, specify a model name (e.g. `iris-tensorflow`) and a region, and then create the model.\n",
    "* Select the newly created model, choose <b>New version</b>.\n",
    "* In the <b>New version</b> menu:\n",
    "  * Specify a version name. For example `v1`\n",
    "  * Specify a python version\n",
    "  * For framework, choose TensorFlow\n",
    "  * Specify framework version and ML runtime version\n",
    "  * For the model URI, enter the path to your SavedModel directory in Cloud Storage. This is often a timestamped directory like `gs://custom-estimator-mlengine/iris-tensorflow/export/Servo/1563629175/`\n",
    "  * Choose <b>Save</b> to create a new version"
   ]
  },
  {
   "cell_type": "markdown",
   "metadata": {},
   "source": [
    "# Use Postman to test the API"
   ]
  },
  {
   "cell_type": "markdown",
   "metadata": {},
   "source": [
    "* Get bearer token for authorization\n",
    "\n",
    "  https://cloud.google.com/vision/docs/auth#using_a_service_account\n",
    "  \n",
    "  * Open the Google Cloud SDK Shell\n",
    "  * Authenticate to your service account, replacing `KEY_FILE` below with the path to your service account key file:\n",
    "  \n",
    "    `gcloud auth activate-service-account --key-file KEY_FILE`\n",
    "  \n",
    "  * Obtain an authorization token using your service account:\n",
    "  \n",
    "    `gcloud auth print-access-token`\n",
    "  \n",
    "* HTTP URL format:\n",
    "\n",
    "  https://cloud.google.com/ml-engine/docs/v1/predict-request#http-url-format\n",
    "\n",
    "  `POST https://ml.googleapis.com/v1/projects/my-project/models/my-model/versions/my-version:predict`\n",
    "\n",
    "* Launch Postman:\n",
    " * For <b>Authorization</b>, choose <b>Bearer Token</b> and enter the token\n",
    " * For url, enter\n",
    " \n",
    "   `https://ml.googleapis.com/v1/projects/custom-estimator/models/iris-tensorflow/versions/v1:predict` \n",
    " \n",
    "   and choose POST method\n",
    " * For message body, enter\n",
    " ```json\n",
    " {\n",
    "    \"instances\": [\n",
    "        {\n",
    "            \"SepalLength\": 6.4,\n",
    "            \"SepalWidth\": 2.8,\n",
    "            \"PetalLength\": 5.6,\n",
    "            \"PetalWidth\": 2.2\n",
    "        },\n",
    "        {\n",
    "            \"SepalLength\": 4.9,\n",
    "            \"SepalWidth\": 3.1,\n",
    "            \"PetalLength\": 1.5,\n",
    "            \"PetalWidth\": 0.1\n",
    "        }\n",
    "    ]\n",
    "}\n",
    "```"
   ]
  },
  {
   "cell_type": "markdown",
   "metadata": {},
   "source": [
    "Result:\n",
    "\n",
    "```json\n",
    "{\n",
    "    \"predictions\": [\n",
    "        {\n",
    "            \"probabilities\": [\n",
    "                1.02038e-9,\n",
    "                0.000515907,\n",
    "                0.999484\n",
    "            ],\n",
    "            \"classes\": 2\n",
    "        },\n",
    "        {\n",
    "            \"probabilities\": [\n",
    "                0.999027,\n",
    "                0.000972887,\n",
    "                1.89823e-9\n",
    "            ],\n",
    "            \"classes\": 0\n",
    "        }\n",
    "    ]\n",
    "}\n",
    "```"
   ]
  }
 ],
 "metadata": {
  "kernelspec": {
   "display_name": "Python 3",
   "language": "python",
   "name": "python3"
  },
  "language_info": {
   "codemirror_mode": {
    "name": "ipython",
    "version": 3
   },
   "file_extension": ".py",
   "mimetype": "text/x-python",
   "name": "python",
   "nbconvert_exporter": "python",
   "pygments_lexer": "ipython3",
   "version": "3.6.8"
  }
 },
 "nbformat": 4,
 "nbformat_minor": 2
}
