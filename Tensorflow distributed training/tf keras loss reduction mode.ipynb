{
 "cells": [
  {
   "cell_type": "code",
   "execution_count": 1,
   "metadata": {},
   "outputs": [
    {
     "data": {
      "text/plain": [
       "'1.14.0'"
      ]
     },
     "execution_count": 1,
     "metadata": {},
     "output_type": "execute_result"
    }
   ],
   "source": [
    "import numpy as np\n",
    "import tensorflow as tf\n",
    "# from tensorflow.python.keras.utils import losses_utils\n",
    "tf.__version__"
   ]
  },
  {
   "cell_type": "code",
   "execution_count": 2,
   "metadata": {},
   "outputs": [],
   "source": [
    "x_true = tf.placeholder(shape=[5, 2], dtype=tf.float32)\n",
    "x_pred = tf.placeholder(shape=[5, 2], dtype=tf.float32)"
   ]
  },
  {
   "cell_type": "code",
   "execution_count": 3,
   "metadata": {},
   "outputs": [],
   "source": [
    "loss_auto = tf.keras.losses.MeanAbsoluteError()(x_true, x_pred)\n",
    "# loss_none = tf.keras.losses.MeanAbsoluteError(losses_utils.ReductionV2.NONE)(x_true, x_pred)\n",
    "loss_none = tf.keras.losses.MeanAbsoluteError('none')(x_true, x_pred)\n",
    "# loss_sum = tf.keras.losses.MeanAbsoluteError(losses_utils.ReductionV2.SUM)(x_true, x_pred)\n",
    "loss_sum = tf.keras.losses.MeanAbsoluteError('sum')(x_true, x_pred)"
   ]
  },
  {
   "cell_type": "code",
   "execution_count": 4,
   "metadata": {},
   "outputs": [
    {
     "name": "stdout",
     "output_type": "stream",
     "text": [
      "Reduction = AUTO: 5.5\n",
      "Reduction = NONE: [1.5 3.5 5.5 7.5 9.5]\n",
      "Reduction = SUM: 27.5\n"
     ]
    }
   ],
   "source": [
    "with tf.Session() as sess:\n",
    "    feed_dict = {x_true: np.zeros((5,2)), x_pred: np.array([[1, 2], [3, 4], [5, 6], [7, 8], [9, 10]])}\n",
    "    l_auto, l_none, l_sum = sess.run([loss_auto, loss_none, loss_sum], feed_dict=feed_dict)\n",
    "    print('Reduction = AUTO: {}'.format(l_auto))\n",
    "    print('Reduction = NONE: {}'.format(l_none))\n",
    "    print('Reduction = SUM: {}'.format(l_sum))"
   ]
  }
 ],
 "metadata": {
  "kernelspec": {
   "display_name": "Python 3",
   "language": "python",
   "name": "python3"
  },
  "language_info": {
   "codemirror_mode": {
    "name": "ipython",
    "version": 3
   },
   "file_extension": ".py",
   "mimetype": "text/x-python",
   "name": "python",
   "nbconvert_exporter": "python",
   "pygments_lexer": "ipython3",
   "version": "3.6.8"
  }
 },
 "nbformat": 4,
 "nbformat_minor": 2
}
