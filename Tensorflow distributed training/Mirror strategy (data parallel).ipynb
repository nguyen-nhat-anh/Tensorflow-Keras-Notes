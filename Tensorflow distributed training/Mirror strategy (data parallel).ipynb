{
 "cells": [
  {
   "cell_type": "markdown",
   "metadata": {},
   "source": [
    "This example uses tensorflow 2.0"
   ]
  },
  {
   "cell_type": "code",
   "execution_count": 1,
   "metadata": {},
   "outputs": [],
   "source": [
    "import tensorflow as tf\n",
    "import numpy as np"
   ]
  },
  {
   "cell_type": "code",
   "execution_count": 2,
   "metadata": {},
   "outputs": [],
   "source": [
    "tf.debugging.set_log_device_placement(True)"
   ]
  },
  {
   "cell_type": "markdown",
   "metadata": {},
   "source": [
    "Get a list of physical devices visible to the runtime"
   ]
  },
  {
   "cell_type": "code",
   "execution_count": 3,
   "metadata": {},
   "outputs": [],
   "source": [
    "cpus = tf.config.experimental.list_physical_devices('CPU') # get a list of cpus"
   ]
  },
  {
   "cell_type": "code",
   "execution_count": 4,
   "metadata": {},
   "outputs": [
    {
     "data": {
      "text/plain": [
       "[PhysicalDevice(name='/physical_device:CPU:0', device_type='CPU')]"
      ]
     },
     "execution_count": 4,
     "metadata": {},
     "output_type": "execute_result"
    }
   ],
   "source": [
    "cpus"
   ]
  },
  {
   "cell_type": "markdown",
   "metadata": {},
   "source": [
    "Splits the CPU into 2 virtual devices"
   ]
  },
  {
   "cell_type": "code",
   "execution_count": 5,
   "metadata": {},
   "outputs": [],
   "source": [
    "try:\n",
    "    tf.config.experimental.set_virtual_device_configuration(cpus[0],\n",
    "                                                            [tf.config.experimental.VirtualDeviceConfiguration(),\n",
    "                                                             tf.config.experimental.VirtualDeviceConfiguration()])\n",
    "    logical_cpus = tf.config.experimental.list_logical_devices('CPU')\n",
    "except RuntimeError as e:\n",
    "    print(e)"
   ]
  },
  {
   "cell_type": "code",
   "execution_count": 6,
   "metadata": {},
   "outputs": [
    {
     "data": {
      "text/plain": [
       "[LogicalDevice(name='/job:localhost/replica:0/task:0/device:CPU:0', device_type='CPU'),\n",
       " LogicalDevice(name='/job:localhost/replica:0/task:0/device:CPU:1', device_type='CPU')]"
      ]
     },
     "execution_count": 6,
     "metadata": {},
     "output_type": "execute_result"
    }
   ],
   "source": [
    "logical_cpus"
   ]
  },
  {
   "cell_type": "code",
   "execution_count": 7,
   "metadata": {},
   "outputs": [
    {
     "data": {
      "text/plain": [
       "array([ 1,  2,  3,  4,  5,  6,  7,  8,  9, 10, 11, 12, 13, 14])"
      ]
     },
     "execution_count": 7,
     "metadata": {},
     "output_type": "execute_result"
    }
   ],
   "source": [
    "GLOBAL_BATCH_SIZE = 8\n",
    "x = np.arange(1,15)\n",
    "x"
   ]
  },
  {
   "cell_type": "code",
   "execution_count": 8,
   "metadata": {},
   "outputs": [
    {
     "name": "stderr",
     "output_type": "stream",
     "text": [
      "WARNING: Logging before flag parsing goes to stderr.\n",
      "W1121 23:25:50.034326 17472 cross_device_ops.py:1205] Some requested devices in `tf.distribute.Strategy` are not visible to TensorFlow: /job:localhost/replica:0/task:0/device:CPU:0,/job:localhost/replica:0/task:0/device:CPU:1\n"
     ]
    },
    {
     "name": "stdout",
     "output_type": "stream",
     "text": [
      "Executing op TensorSliceDataset in device /job:localhost/replica:0/task:0/device:CPU:0\n",
      "Executing op BatchDatasetV2 in device /job:localhost/replica:0/task:0/device:CPU:0\n",
      "Executing op RebatchDataset in device /job:localhost/replica:0/task:0/device:CPU:0\n",
      "Executing op AutoShardDataset in device /job:localhost/replica:0/task:0/device:CPU:0\n"
     ]
    }
   ],
   "source": [
    "mirrored_strategy = tf.distribute.MirroredStrategy(devices=[\"/cpu:0\", \"/cpu:1\"])\n",
    "dataset = tf.data.Dataset.from_tensor_slices(x).batch(GLOBAL_BATCH_SIZE)\n",
    "dist_dataset = mirrored_strategy.experimental_distribute_dataset(dataset)"
   ]
  },
  {
   "cell_type": "code",
   "execution_count": 9,
   "metadata": {},
   "outputs": [
    {
     "name": "stdout",
     "output_type": "stream",
     "text": [
      "Executing op OptimizeDataset in device /job:localhost/replica:0/task:0/device:CPU:0\n",
      "Executing op ModelDataset in device /job:localhost/replica:0/task:0/device:CPU:0\n",
      "Executing op MultiDeviceIterator in device /job:localhost/replica:0/task:0/device:CPU:0\n",
      "Executing op MultiDeviceIteratorInit in device /job:localhost/replica:0/task:0/device:CPU:0\n",
      "Executing op MultiDeviceIteratorToStringHandle in device /job:localhost/replica:0/task:0/device:CPU:0\n",
      "Executing op GeneratorDataset in device /job:localhost/replica:0/task:0/device:CPU:0\n",
      "Executing op GeneratorDataset in device /job:localhost/replica:0/task:0/device:CPU:1\n",
      "Executing op PrefetchDataset in device /job:localhost/replica:0/task:0/device:CPU:0\n",
      "Executing op AnonymousIteratorV2 in device /job:localhost/replica:0/task:0/device:CPU:0\n",
      "Executing op MakeIterator in device /job:localhost/replica:0/task:0/device:CPU:0\n",
      "Executing op PrefetchDataset in device /job:localhost/replica:0/task:0/device:CPU:1\n",
      "Executing op AnonymousIteratorV2 in device /job:localhost/replica:0/task:0/device:CPU:1\n",
      "Executing op MakeIterator in device /job:localhost/replica:0/task:0/device:CPU:1\n",
      "Executing op IteratorGetNextAsOptional in device /job:localhost/replica:0/task:0/device:CPU:0\n",
      "Executing op IteratorGetNextAsOptional in device /job:localhost/replica:0/task:0/device:CPU:1\n",
      "Executing op OptionalHasValue in device /job:localhost/replica:0/task:0/device:CPU:0\n",
      "Executing op OptionalGetValue in device /job:localhost/replica:0/task:0/device:CPU:0\n",
      "Executing op OptionalHasValue in device /job:localhost/replica:0/task:0/device:CPU:1\n",
      "Executing op OptionalGetValue in device /job:localhost/replica:0/task:0/device:CPU:1\n",
      "Executing op Cast in device /job:localhost/replica:0/task:0/device:CPU:0\n",
      "Executing op Cast in device /job:localhost/replica:0/task:0/device:CPU:0\n",
      "Executing op Reshape in device /job:localhost/replica:0/task:0/device:CPU:0\n",
      "PerReplica:{\n",
      "  0 /job:localhost/replica:0/task:0/device:CPU:0: tf.Tensor([1 2 3 4], shape=(4,), dtype=int32),\n",
      "  1 /job:localhost/replica:0/task:0/device:CPU:1: tf.Tensor([5 6 7 8], shape=(4,), dtype=int32)\n",
      "}\n",
      "PerReplica:{\n",
      "  0 /job:localhost/replica:0/task:0/device:CPU:0: tf.Tensor([ 9 10 11 12], shape=(4,), dtype=int32),\n",
      "  1 /job:localhost/replica:0/task:0/device:CPU:1: tf.Tensor([13 14], shape=(2,), dtype=int32)\n",
      "}\n",
      "Executing op Fill in device /job:localhost/replica:0/task:0/device:CPU:0\n",
      "Executing op Fill in device /job:localhost/replica:0/task:0/device:CPU:1\n",
      "Executing op IteratorGetNextSync in device /job:localhost/replica:0/task:0/device:CPU:0\n",
      "Executing op DestroyResourceOp in device /job:localhost/replica:0/task:0/device:CPU:0\n",
      "Executing op DeleteIterator in device /job:localhost/replica:0/task:0/device:CPU:1\n",
      "Executing op DeleteIterator in device /job:localhost/replica:0/task:0/device:CPU:0\n"
     ]
    }
   ],
   "source": [
    "with mirrored_strategy.scope():\n",
    "    for d in dist_dataset:\n",
    "        print(d)"
   ]
  },
  {
   "cell_type": "code",
   "execution_count": 10,
   "metadata": {},
   "outputs": [
    {
     "name": "stdout",
     "output_type": "stream",
     "text": [
      "Executing op GeneratorDataset in device /job:localhost/replica:0/task:0/device:CPU:0\n",
      "Executing op GeneratorDataset in device /job:localhost/replica:0/task:0/device:CPU:1\n"
     ]
    },
    {
     "name": "stderr",
     "output_type": "stream",
     "text": [
      "W1121 23:25:50.406548 17472 mirrored_strategy.py:659] Using MirroredStrategy eagerly has significant overhead currently. We will be working on improving this in the future, but for now please wrap `call_for_each_replica` or `experimental_run` or `experimental_run_v2` inside a tf.function to get the best performance.\n",
      "W1121 23:25:50.414528 17472 mirrored_strategy.py:659] Using MirroredStrategy eagerly has significant overhead currently. We will be working on improving this in the future, but for now please wrap `call_for_each_replica` or `experimental_run` or `experimental_run_v2` inside a tf.function to get the best performance.\n"
     ]
    },
    {
     "name": "stdout",
     "output_type": "stream",
     "text": [
      "PerReplica:{\n",
      "  0 /job:localhost/replica:0/task:0/device:CPU:0: tf.Tensor([1 2 3 4], shape=(4,), dtype=int32),\n",
      "  1 /job:localhost/replica:0/task:0/device:CPU:1: tf.Tensor([5 6 7 8], shape=(4,), dtype=int32)\n",
      "}\n",
      "PerReplica:{\n",
      "  0 /job:localhost/replica:0/task:0/device:CPU:0: tf.Tensor([ 9 10 11 12], shape=(4,), dtype=int32),\n",
      "  1 /job:localhost/replica:0/task:0/device:CPU:1: tf.Tensor([13 14], shape=(2,), dtype=int32)\n",
      "}\n"
     ]
    }
   ],
   "source": [
    "def fn(inputs):\n",
    "    '''\n",
    "    inputs: \"per-replica\" values, such as those produced by a \"distributed Dataset\"\n",
    "    '''\n",
    "    return inputs\n",
    "with mirrored_strategy.scope():\n",
    "    for d in dist_dataset:\n",
    "        per_example_inputs = mirrored_strategy.experimental_run_v2(fn, args=(d,))\n",
    "        print(per_example_inputs)"
   ]
  },
  {
   "cell_type": "code",
   "execution_count": 11,
   "metadata": {},
   "outputs": [
    {
     "data": {
      "text/plain": [
       "(<tf.Tensor: id=255, shape=(4,), dtype=int32, numpy=array([ 9, 10, 11, 12])>,\n",
       " <tf.Tensor: id=257, shape=(2,), dtype=int32, numpy=array([13, 14])>)"
      ]
     },
     "execution_count": 11,
     "metadata": {},
     "output_type": "execute_result"
    }
   ],
   "source": [
    "per_example_inputs.values"
   ]
  },
  {
   "cell_type": "code",
   "execution_count": 12,
   "metadata": {},
   "outputs": [
    {
     "name": "stderr",
     "output_type": "stream",
     "text": [
      "W1121 23:25:50.633474 17472 mirrored_strategy.py:659] Using MirroredStrategy eagerly has significant overhead currently. We will be working on improving this in the future, but for now please wrap `call_for_each_replica` or `experimental_run` or `experimental_run_v2` inside a tf.function to get the best performance.\n"
     ]
    },
    {
     "name": "stdout",
     "output_type": "stream",
     "text": [
      "Executing op Sum in device /job:localhost/replica:0/task:0/device:CPU:0\n",
      "Executing op Sum in device /job:localhost/replica:0/task:0/device:CPU:1\n",
      "Executing op AddN in device /job:localhost/replica:0/task:0/device:CPU:0\n",
      "Executing op Cast in device /job:localhost/replica:0/task:0/device:CPU:0\n",
      "Executing op RealDiv in device /job:localhost/replica:0/task:0/device:CPU:0\n"
     ]
    },
    {
     "name": "stderr",
     "output_type": "stream",
     "text": [
      "W1121 23:25:50.655410 17472 mirrored_strategy.py:659] Using MirroredStrategy eagerly has significant overhead currently. We will be working on improving this in the future, but for now please wrap `call_for_each_replica` or `experimental_run` or `experimental_run_v2` inside a tf.function to get the best performance.\n"
     ]
    },
    {
     "name": "stdout",
     "output_type": "stream",
     "text": [
      "Aggregate mode MEAN:  tf.Tensor(11.5, shape=(), dtype=float64)\n",
      "Aggregate mode SUM:  tf.Tensor(69, shape=(), dtype=int32)\n"
     ]
    }
   ],
   "source": [
    "mean = mirrored_strategy.reduce(tf.distribute.ReduceOp.MEAN, per_example_inputs, axis=0)\n",
    "print('Aggregate mode MEAN: ', mean)\n",
    "add = mirrored_strategy.reduce(tf.distribute.ReduceOp.SUM, per_example_inputs, axis=0)\n",
    "print('Aggregate mode SUM: ', add)"
   ]
  }
 ],
 "metadata": {
  "kernelspec": {
   "display_name": "Python 3",
   "language": "python",
   "name": "python3"
  },
  "language_info": {
   "codemirror_mode": {
    "name": "ipython",
    "version": 3
   },
   "file_extension": ".py",
   "mimetype": "text/x-python",
   "name": "python",
   "nbconvert_exporter": "python",
   "pygments_lexer": "ipython3",
   "version": "3.6.5"
  }
 },
 "nbformat": 4,
 "nbformat_minor": 2
}
