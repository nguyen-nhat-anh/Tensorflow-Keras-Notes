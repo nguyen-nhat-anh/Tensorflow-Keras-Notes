{
 "cells": [
  {
   "cell_type": "code",
   "execution_count": 1,
   "metadata": {},
   "outputs": [
    {
     "data": {
      "text/plain": [
       "'1.14.0'"
      ]
     },
     "execution_count": 1,
     "metadata": {},
     "output_type": "execute_result"
    }
   ],
   "source": [
    "import numpy as np\n",
    "import tensorflow as tf\n",
    "\n",
    "tf.__version__"
   ]
  },
  {
   "cell_type": "code",
   "execution_count": 2,
   "metadata": {},
   "outputs": [],
   "source": [
    "cpus = tf.config.experimental.list_physical_devices('CPU') # get a list of cpus\n",
    "try:\n",
    "    tf.config.experimental.set_virtual_device_configuration(cpus[0],\n",
    "                                                            [tf.config.experimental.VirtualDeviceConfiguration(),\n",
    "                                                             tf.config.experimental.VirtualDeviceConfiguration(),\n",
    "                                                             tf.config.experimental.VirtualDeviceConfiguration()])\n",
    "    logical_cpus = tf.config.experimental.list_logical_devices('CPU')\n",
    "except RuntimeError as e:\n",
    "    print(e)"
   ]
  },
  {
   "cell_type": "code",
   "execution_count": 3,
   "metadata": {},
   "outputs": [
    {
     "name": "stderr",
     "output_type": "stream",
     "text": [
      "WARNING: Logging before flag parsing goes to stderr.\n",
      "W1229 22:20:47.994878 17380 cross_device_ops.py:1177] Not all devices in `tf.distribute.Strategy` are visible to TensorFlow.\n"
     ]
    }
   ],
   "source": [
    "mirrored_strategy = tf.distribute.MirroredStrategy(devices=[\"/cpu:0\", \"/cpu:1\", \"/cpu:2\"])"
   ]
  },
  {
   "cell_type": "code",
   "execution_count": 4,
   "metadata": {},
   "outputs": [
    {
     "data": {
      "text/plain": [
       "[]"
      ]
     },
     "execution_count": 4,
     "metadata": {},
     "output_type": "execute_result"
    }
   ],
   "source": [
    "tf.get_collection(tf.GraphKeys.GLOBAL_VARIABLES)"
   ]
  },
  {
   "cell_type": "code",
   "execution_count": 5,
   "metadata": {},
   "outputs": [],
   "source": [
    "def create_model():\n",
    "    inputs = tf.keras.layers.Input(shape=(5,))\n",
    "    x = tf.keras.layers.Dense(10)(inputs)\n",
    "    outputs = tf.keras.layers.BatchNormalization()(x)\n",
    "    return tf.keras.models.Model(inputs, outputs)"
   ]
  },
  {
   "cell_type": "code",
   "execution_count": 6,
   "metadata": {},
   "outputs": [
    {
     "name": "stderr",
     "output_type": "stream",
     "text": [
      "W1229 22:20:48.360223 17380 deprecation.py:506] From f:\\anaconda3\\envs\\tensorflow1.14\\lib\\site-packages\\tensorflow\\python\\ops\\init_ops.py:1251: calling VarianceScaling.__init__ (from tensorflow.python.ops.init_ops) with dtype is deprecated and will be removed in a future version.\n",
      "Instructions for updating:\n",
      "Call initializer instance with the dtype argument instead of passing it to the constructor\n"
     ]
    }
   ],
   "source": [
    "with mirrored_strategy.scope():\n",
    "    model = create_model()"
   ]
  },
  {
   "cell_type": "code",
   "execution_count": 7,
   "metadata": {},
   "outputs": [
    {
     "data": {
      "text/plain": [
       "[MirroredVariable:{\n",
       "   0 /replica:0/task:0/device:CPU:0: <tf.Variable 'dense/kernel:0' shape=(5, 10) dtype=float32>,\n",
       "   1 /replica:0/task:0/device:CPU:1: <tf.Variable 'dense/kernel/replica_1:0' shape=(5, 10) dtype=float32>,\n",
       "   2 /replica:0/task:0/device:CPU:2: <tf.Variable 'dense/kernel/replica_2:0' shape=(5, 10) dtype=float32>\n",
       " }, MirroredVariable:{\n",
       "   0 /replica:0/task:0/device:CPU:0: <tf.Variable 'dense/bias:0' shape=(10,) dtype=float32>,\n",
       "   1 /replica:0/task:0/device:CPU:1: <tf.Variable 'dense/bias/replica_1:0' shape=(10,) dtype=float32>,\n",
       "   2 /replica:0/task:0/device:CPU:2: <tf.Variable 'dense/bias/replica_2:0' shape=(10,) dtype=float32>\n",
       " }, MirroredVariable:{\n",
       "   0 /replica:0/task:0/device:CPU:0: <tf.Variable 'batch_normalization/gamma:0' shape=(10,) dtype=float32>,\n",
       "   1 /replica:0/task:0/device:CPU:1: <tf.Variable 'batch_normalization/gamma/replica_1:0' shape=(10,) dtype=float32>,\n",
       "   2 /replica:0/task:0/device:CPU:2: <tf.Variable 'batch_normalization/gamma/replica_2:0' shape=(10,) dtype=float32>\n",
       " }, MirroredVariable:{\n",
       "   0 /replica:0/task:0/device:CPU:0: <tf.Variable 'batch_normalization/beta:0' shape=(10,) dtype=float32>,\n",
       "   1 /replica:0/task:0/device:CPU:1: <tf.Variable 'batch_normalization/beta/replica_1:0' shape=(10,) dtype=float32>,\n",
       "   2 /replica:0/task:0/device:CPU:2: <tf.Variable 'batch_normalization/beta/replica_2:0' shape=(10,) dtype=float32>\n",
       " }, SyncOnReadVariable:{\n",
       "   0 /replica:0/task:0/device:CPU:0: <tf.Variable 'batch_normalization/moving_mean:0' shape=(10,) dtype=float32>,\n",
       "   1 /replica:0/task:0/device:CPU:1: <tf.Variable 'batch_normalization/moving_mean/replica_1:0' shape=(10,) dtype=float32>,\n",
       "   2 /replica:0/task:0/device:CPU:2: <tf.Variable 'batch_normalization/moving_mean/replica_2:0' shape=(10,) dtype=float32>\n",
       " }, SyncOnReadVariable:{\n",
       "   0 /replica:0/task:0/device:CPU:0: <tf.Variable 'batch_normalization/moving_variance:0' shape=(10,) dtype=float32>,\n",
       "   1 /replica:0/task:0/device:CPU:1: <tf.Variable 'batch_normalization/moving_variance/replica_1:0' shape=(10,) dtype=float32>,\n",
       "   2 /replica:0/task:0/device:CPU:2: <tf.Variable 'batch_normalization/moving_variance/replica_2:0' shape=(10,) dtype=float32>\n",
       " }]"
      ]
     },
     "execution_count": 7,
     "metadata": {},
     "output_type": "execute_result"
    }
   ],
   "source": [
    "tf.get_collection(tf.GraphKeys.GLOBAL_VARIABLES)"
   ]
  },
  {
   "cell_type": "code",
   "execution_count": 16,
   "metadata": {},
   "outputs": [
    {
     "name": "stdout",
     "output_type": "stream",
     "text": [
      "[[ 0.47601873  0.5158697  -0.47555354  0.32578492  0.26930517  0.08378947\n",
      "  -0.24745312  0.5027873   0.3466404  -0.08635843]\n",
      " [ 0.21788245  0.04409963  0.2919168  -0.2278519  -0.03624141 -0.14428803\n",
      "  -0.16353431  0.5316847  -0.61674076  0.10174274]\n",
      " [ 0.4714666  -0.56789744 -0.4356119  -0.32540238  0.09258407 -0.6309101\n",
      "   0.10930359  0.5867911   0.3875031   0.57004505]\n",
      " [ 0.3023066   0.54046243  0.58091563 -0.3263338   0.6006467   0.48058528\n",
      "  -0.087982   -0.2440919  -0.20643637 -0.39896756]\n",
      " [-0.23307902 -0.30479884  0.26334995 -0.12517506 -0.4524617   0.02994508\n",
      "  -0.31943685  0.34426337 -0.10439253 -0.32729086]]\n"
     ]
    }
   ],
   "source": [
    "with mirrored_strategy.scope(): \n",
    "    with tf.Session() as sess:\n",
    "        sess.run(tf.global_variables_initializer())\n",
    "        print(sess.run(x))"
   ]
  },
  {
   "cell_type": "code",
   "execution_count": 8,
   "metadata": {},
   "outputs": [
    {
     "name": "stdout",
     "output_type": "stream",
     "text": [
      "[<tf.Tensor 'batch_normalization/packed:0' shape=(3, 10) dtype=float32>, <tf.Tensor 'batch_normalization/packed_1:0' shape=(3, 10) dtype=float32>]\n"
     ]
    }
   ],
   "source": [
    "with mirrored_strategy.scope():\n",
    "    print(model.get_updates_for(model.inputs))"
   ]
  }
 ],
 "metadata": {
  "kernelspec": {
   "display_name": "Python 3",
   "language": "python",
   "name": "python3"
  },
  "language_info": {
   "codemirror_mode": {
    "name": "ipython",
    "version": 3
   },
   "file_extension": ".py",
   "mimetype": "text/x-python",
   "name": "python",
   "nbconvert_exporter": "python",
   "pygments_lexer": "ipython3",
   "version": "3.6.8"
  }
 },
 "nbformat": 4,
 "nbformat_minor": 2
}
