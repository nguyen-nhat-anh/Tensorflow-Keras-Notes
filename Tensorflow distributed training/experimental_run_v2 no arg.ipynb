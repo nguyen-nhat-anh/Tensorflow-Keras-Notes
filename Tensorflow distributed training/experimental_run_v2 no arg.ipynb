{
 "cells": [
  {
   "cell_type": "code",
   "execution_count": 1,
   "metadata": {},
   "outputs": [],
   "source": [
    "import tensorflow as tf\n",
    "import numpy as np"
   ]
  },
  {
   "cell_type": "code",
   "execution_count": 2,
   "metadata": {},
   "outputs": [],
   "source": [
    "cpus = tf.config.experimental.list_physical_devices('CPU') # get a list of cpus"
   ]
  },
  {
   "cell_type": "markdown",
   "metadata": {},
   "source": [
    "Splits the CPU into 2 virtual devices"
   ]
  },
  {
   "cell_type": "code",
   "execution_count": 3,
   "metadata": {},
   "outputs": [],
   "source": [
    "try:\n",
    "    tf.config.experimental.set_virtual_device_configuration(cpus[0],\n",
    "                                                            [tf.config.experimental.VirtualDeviceConfiguration(),\n",
    "                                                             tf.config.experimental.VirtualDeviceConfiguration()])\n",
    "    logical_cpus = tf.config.experimental.list_logical_devices('CPU')\n",
    "except RuntimeError as e:\n",
    "    print(e)"
   ]
  },
  {
   "cell_type": "code",
   "execution_count": 4,
   "metadata": {},
   "outputs": [
    {
     "name": "stderr",
     "output_type": "stream",
     "text": [
      "WARNING: Logging before flag parsing goes to stderr.\n",
      "W1230 09:37:40.485849 14512 cross_device_ops.py:1177] Not all devices in `tf.distribute.Strategy` are visible to TensorFlow.\n"
     ]
    }
   ],
   "source": [
    "mirrored_strategy = tf.distribute.MirroredStrategy(devices=[\"/cpu:0\", \"/cpu:1\"])"
   ]
  },
  {
   "cell_type": "code",
   "execution_count": 5,
   "metadata": {},
   "outputs": [],
   "source": [
    "def create_model():\n",
    "    inputs = tf.keras.layers.Input(shape=(1,))\n",
    "    outputs = tf.keras.layers.Lambda(lambda x: x)(inputs)\n",
    "    return tf.keras.models.Model(inputs, outputs)\n",
    "\n",
    "with mirrored_strategy.scope():\n",
    "    model = create_model()"
   ]
  },
  {
   "cell_type": "code",
   "execution_count": 6,
   "metadata": {},
   "outputs": [],
   "source": [
    "def fn():\n",
    "    return model(model.input)\n",
    "\n",
    "\n",
    "with mirrored_strategy.scope():\n",
    "    per_example_inputs = mirrored_strategy.experimental_run_v2(fn, args=())\n",
    "    add = mirrored_strategy.reduce(tf.distribute.ReduceOp.SUM, per_example_inputs, axis=0)"
   ]
  },
  {
   "cell_type": "code",
   "execution_count": 7,
   "metadata": {},
   "outputs": [
    {
     "data": {
      "text/plain": [
       "PerReplica:{\n",
       "  0 /replica:0/task:0/device:CPU:0: <tf.Tensor 'model/lambda/lambda/Identity:0' shape=(?, 1) dtype=float32>,\n",
       "  1 /replica:0/task:0/device:CPU:1: <tf.Tensor 'replica_1/model/lambda/lambda/Identity:0' shape=(?, 1) dtype=float32>\n",
       "}"
      ]
     },
     "execution_count": 7,
     "metadata": {},
     "output_type": "execute_result"
    }
   ],
   "source": [
    "per_example_inputs"
   ]
  },
  {
   "cell_type": "code",
   "execution_count": 9,
   "metadata": {},
   "outputs": [
    {
     "name": "stdout",
     "output_type": "stream",
     "text": [
      "(array([[0.],\n",
      "       [1.],\n",
      "       [2.],\n",
      "       [3.],\n",
      "       [4.],\n",
      "       [5.],\n",
      "       [6.],\n",
      "       [7.]], dtype=float32), array([[0.],\n",
      "       [1.],\n",
      "       [2.],\n",
      "       [3.],\n",
      "       [4.],\n",
      "       [5.],\n",
      "       [6.],\n",
      "       [7.]], dtype=float32))\n"
     ]
    }
   ],
   "source": [
    "with tf.Session() as sess:\n",
    "    print(sess.run(per_example_inputs.values, feed_dict={model.input: np.arange(8).reshape((8,1))}))"
   ]
  }
 ],
 "metadata": {
  "kernelspec": {
   "display_name": "Python 3",
   "language": "python",
   "name": "python3"
  },
  "language_info": {
   "codemirror_mode": {
    "name": "ipython",
    "version": 3
   },
   "file_extension": ".py",
   "mimetype": "text/x-python",
   "name": "python",
   "nbconvert_exporter": "python",
   "pygments_lexer": "ipython3",
   "version": "3.6.8"
  }
 },
 "nbformat": 4,
 "nbformat_minor": 2
}
