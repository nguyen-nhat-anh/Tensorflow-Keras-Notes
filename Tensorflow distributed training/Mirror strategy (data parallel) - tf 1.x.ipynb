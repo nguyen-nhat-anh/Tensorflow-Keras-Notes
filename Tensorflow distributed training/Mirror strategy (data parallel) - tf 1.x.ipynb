{
 "cells": [
  {
   "cell_type": "code",
   "execution_count": 1,
   "metadata": {},
   "outputs": [
    {
     "data": {
      "text/plain": [
       "'1.14.0'"
      ]
     },
     "execution_count": 1,
     "metadata": {},
     "output_type": "execute_result"
    }
   ],
   "source": [
    "import tensorflow as tf\n",
    "import numpy as np\n",
    "\n",
    "tf.__version__"
   ]
  },
  {
   "cell_type": "code",
   "execution_count": 2,
   "metadata": {},
   "outputs": [],
   "source": [
    "cpus = tf.config.experimental.list_physical_devices('CPU') # get a list of cpus"
   ]
  },
  {
   "cell_type": "markdown",
   "metadata": {},
   "source": [
    "Splits the CPU into 2 virtual devices"
   ]
  },
  {
   "cell_type": "code",
   "execution_count": 3,
   "metadata": {},
   "outputs": [],
   "source": [
    "try:\n",
    "    tf.config.experimental.set_virtual_device_configuration(cpus[0],\n",
    "                                                            [tf.config.experimental.VirtualDeviceConfiguration(),\n",
    "                                                             tf.config.experimental.VirtualDeviceConfiguration()])\n",
    "    logical_cpus = tf.config.experimental.list_logical_devices('CPU')\n",
    "except RuntimeError as e:\n",
    "    print(e)"
   ]
  },
  {
   "cell_type": "code",
   "execution_count": 4,
   "metadata": {},
   "outputs": [
    {
     "data": {
      "text/plain": [
       "[LogicalDevice(name='/job:localhost/replica:0/task:0/device:CPU:0', device_type='CPU'),\n",
       " LogicalDevice(name='/job:localhost/replica:0/task:0/device:CPU:1', device_type='CPU')]"
      ]
     },
     "execution_count": 4,
     "metadata": {},
     "output_type": "execute_result"
    }
   ],
   "source": [
    "logical_cpus"
   ]
  },
  {
   "cell_type": "code",
   "execution_count": 5,
   "metadata": {},
   "outputs": [],
   "source": [
    "def generator():\n",
    "    x = 0\n",
    "    while True:\n",
    "        yield np.arange(x, x + 8).reshape((8,1)).astype('float32')\n",
    "        x += 8"
   ]
  },
  {
   "cell_type": "code",
   "execution_count": 6,
   "metadata": {},
   "outputs": [
    {
     "name": "stderr",
     "output_type": "stream",
     "text": [
      "WARNING: Logging before flag parsing goes to stderr.\n",
      "W1230 10:07:47.160066 34440 deprecation.py:323] From f:\\anaconda3\\envs\\tensorflow1.14\\lib\\site-packages\\tensorflow\\python\\data\\ops\\dataset_ops.py:494: py_func (from tensorflow.python.ops.script_ops) is deprecated and will be removed in a future version.\n",
      "Instructions for updating:\n",
      "tf.py_func is deprecated in TF V2. Instead, there are two\n",
      "    options available in V2.\n",
      "    - tf.py_function takes a python function which manipulates tf eager\n",
      "    tensors instead of numpy arrays. It's easy to convert a tf eager tensor to\n",
      "    an ndarray (just call tensor.numpy()) but having access to eager tensors\n",
      "    means `tf.py_function`s can use accelerators such as GPUs as well as\n",
      "    being differentiable using a gradient tape.\n",
      "    - tf.numpy_function maintains the semantics of the deprecated tf.py_func\n",
      "    (it is not differentiable, and manipulates numpy arrays). It drops the\n",
      "    stateful argument making all functions stateful.\n",
      "    \n"
     ]
    }
   ],
   "source": [
    "dataset = tf.data.Dataset.from_generator(generator, output_types=tf.float32, output_shapes=(None,1))"
   ]
  },
  {
   "cell_type": "code",
   "execution_count": 7,
   "metadata": {},
   "outputs": [
    {
     "name": "stderr",
     "output_type": "stream",
     "text": [
      "W1230 10:07:47.224928 34440 cross_device_ops.py:1177] Not all devices in `tf.distribute.Strategy` are visible to TensorFlow.\n"
     ]
    }
   ],
   "source": [
    "mirrored_strategy = tf.distribute.MirroredStrategy(devices=[\"/cpu:0\", \"/cpu:1\"])\n",
    "dist_dataset = mirrored_strategy.experimental_distribute_dataset(dataset)"
   ]
  },
  {
   "cell_type": "code",
   "execution_count": 8,
   "metadata": {},
   "outputs": [],
   "source": [
    "with mirrored_strategy.scope():\n",
    "    iterator = dist_dataset.make_initializable_iterator()\n",
    "    iterator_init = iterator.initialize()\n",
    "    next_element = iterator.get_next()"
   ]
  },
  {
   "cell_type": "code",
   "execution_count": 9,
   "metadata": {},
   "outputs": [],
   "source": [
    "def fn(inputs):\n",
    "    '''\n",
    "    inputs: \"per-replica\" values, such as those produced by a \"distributed Dataset\"\n",
    "    '''\n",
    "    return inputs\n",
    "\n",
    "\n",
    "with mirrored_strategy.scope():\n",
    "    per_example_inputs = mirrored_strategy.experimental_run_v2(fn, args=(next_element,))"
   ]
  },
  {
   "cell_type": "code",
   "execution_count": 13,
   "metadata": {},
   "outputs": [
    {
     "name": "stdout",
     "output_type": "stream",
     "text": [
      "(array([[0.],\n",
      "       [1.],\n",
      "       [2.],\n",
      "       [3.],\n",
      "       [4.],\n",
      "       [5.],\n",
      "       [6.],\n",
      "       [7.]], dtype=float32), array([[ 8.],\n",
      "       [ 9.],\n",
      "       [10.],\n",
      "       [11.],\n",
      "       [12.],\n",
      "       [13.],\n",
      "       [14.],\n",
      "       [15.]], dtype=float32))\n"
     ]
    }
   ],
   "source": [
    "with mirrored_strategy.scope():\n",
    "    with tf.Session() as sess:\n",
    "        sess.run(iterator_init)\n",
    "        print(sess.run(per_example_inputs.values))"
   ]
  }
 ],
 "metadata": {
  "kernelspec": {
   "display_name": "Python 3",
   "language": "python",
   "name": "python3"
  },
  "language_info": {
   "codemirror_mode": {
    "name": "ipython",
    "version": 3
   },
   "file_extension": ".py",
   "mimetype": "text/x-python",
   "name": "python",
   "nbconvert_exporter": "python",
   "pygments_lexer": "ipython3",
   "version": "3.6.8"
  }
 },
 "nbformat": 4,
 "nbformat_minor": 2
}
