{
 "cells": [
  {
   "cell_type": "code",
   "execution_count": 1,
   "metadata": {},
   "outputs": [],
   "source": [
    "import tensorflow as tf\n",
    "import numpy as np"
   ]
  },
  {
   "cell_type": "markdown",
   "metadata": {},
   "source": [
    "# Build and train a model"
   ]
  },
  {
   "cell_type": "code",
   "execution_count": 2,
   "metadata": {},
   "outputs": [
    {
     "name": "stderr",
     "output_type": "stream",
     "text": [
      "WARNING: Logging before flag parsing goes to stderr.\n",
      "W0801 16:13:30.522975  7296 deprecation.py:506] From f:\\anaconda3\\envs\\tensorflow1.14\\lib\\site-packages\\tensorflow\\python\\ops\\init_ops.py:1251: calling VarianceScaling.__init__ (from tensorflow.python.ops.init_ops) with dtype is deprecated and will be removed in a future version.\n",
      "Instructions for updating:\n",
      "Call initializer instance with the dtype argument instead of passing it to the constructor\n"
     ]
    }
   ],
   "source": [
    "x = tf.placeholder(shape=[None, 2], dtype=tf.float32, name='my_input')\n",
    "W = tf.get_variable(name='my_weight', shape=[2, 1], dtype=tf.float32)\n",
    "y = tf.matmul(x, W)"
   ]
  },
  {
   "cell_type": "code",
   "execution_count": 3,
   "metadata": {},
   "outputs": [
    {
     "name": "stderr",
     "output_type": "stream",
     "text": [
      "W0801 16:13:30.669435  7296 deprecation.py:323] From f:\\anaconda3\\envs\\tensorflow1.14\\lib\\site-packages\\tensorflow\\python\\ops\\losses\\losses_impl.py:121: add_dispatch_support.<locals>.wrapper (from tensorflow.python.ops.array_ops) is deprecated and will be removed in a future version.\n",
      "Instructions for updating:\n",
      "Use tf.where in 2.0, which has the same broadcast rule as np.where\n"
     ]
    }
   ],
   "source": [
    "y_true = tf.placeholder(shape=[None, 1], dtype=tf.float32)\n",
    "loss = tf.losses.mean_squared_error(labels=y_true, predictions=y)\n",
    "train_op = tf.train.AdamOptimizer(learning_rate=0.01).minimize(loss)"
   ]
  },
  {
   "cell_type": "code",
   "execution_count": 4,
   "metadata": {},
   "outputs": [
    {
     "name": "stdout",
     "output_type": "stream",
     "text": [
      "current loss: 0.002988465130329132, current weights: [[0.8608876]\n",
      " [1.1213897]]\n",
      "current loss: 6.662252872047247e-06, current weights: [[0.9931975]\n",
      " [1.0058186]]\n",
      "current loss: 5.54492181337185e-11, current weights: [[0.99998343]\n",
      " [1.0000141 ]]\n",
      "current loss: 9.756639804880604e-14, current weights: [[1.0000008]\n",
      " [0.9999994]]\n",
      "current loss: 8.668232960844929e-14, current weights: [[1.0000008]\n",
      " [0.9999994]]\n",
      "current loss: 9.066525470929204e-14, current weights: [[1.0000007]\n",
      " [0.9999994]]\n",
      "current loss: 6.419614595768938e-14, current weights: [[1.0000007]\n",
      " [0.9999994]]\n",
      "current loss: 8.283595977123109e-14, current weights: [[1.0000007]\n",
      " [0.9999994]]\n",
      "current loss: 5.292322163190713e-14, current weights: [[1.0000006]\n",
      " [0.9999995]]\n",
      "current loss: 4.6114221924527243e-14, current weights: [[1.0000006]\n",
      " [0.9999995]]\n"
     ]
    }
   ],
   "source": [
    "init_op = tf.global_variables_initializer()\n",
    "\n",
    "sess = tf.Session()\n",
    "sess.run(init_op)\n",
    "for i in range(1000):\n",
    "    x_train = np.random.rand(100, 2)\n",
    "    y_train = np.sum(x_train, axis=1, keepdims=True)\n",
    "    _, loss_value, w = sess.run([train_op, loss, W], feed_dict={x: x_train, y_true: y_train})\n",
    "    if (i + 1) % 100 == 0:\n",
    "        print('current loss: {}, current weights: {}'.format(loss_value, w))"
   ]
  },
  {
   "cell_type": "markdown",
   "metadata": {},
   "source": [
    "# Save model"
   ]
  },
  {
   "cell_type": "markdown",
   "metadata": {},
   "source": [
    "https://www.tensorflow.org/guide/saved_model\n",
    "\n",
    "* A <b>MetaGraph</b> is a dataflow graph, plus its associated variables, assets, and signatures.\n",
    "* A `MetaGraphDef` is the protocol buffer representation of a MetaGraph.\n",
    "* A <b>signature</b> is the set of inputs to and outputs from a graph.\n",
    "* The `tf.saved_model.Builder` class provides functionality to save multiple `MetaGraphDef`s. Each `MetaGraphDef` added to the SavedModel must be annotated with user-specified `tag`s"
   ]
  },
  {
   "cell_type": "code",
   "execution_count": 5,
   "metadata": {},
   "outputs": [],
   "source": [
    "export_dir = 'model'\n",
    "saved_model =  tf.saved_model.Builder(export_dir)"
   ]
  },
  {
   "cell_type": "markdown",
   "metadata": {},
   "source": [
    "https://www.tensorflow.org/tfx/serving/serving_basic\n",
    "\n",
    "You can add meta graph and variables to the builder using `tf.saved_model.Builder.add_meta_graph_and_variables()` with the following arguments:\n",
    "* `sess` is the TensorFlow session that holds the trained model you are exporting.\n",
    "* `tags` is the set of tags with which to save the meta graph. In this case, since we intend to use the graph in serving, we use the `serve` tag from predefined SavedModel tag constants.\n",
    "* `signature_def_map` specifies the map of user-supplied key for a <b>signature</b> to a tensorflow::SignatureDef to add to the meta graph. Signature specifies what type of model is being exported, and the input/output tensors to bind to when running inference.\n",
    "\n",
    "  The special signature key serving_default specifies the default serving signature. The default serving signature def key, along with other constants related to signatures, are defined as part of SavedModel signature constants."
   ]
  },
  {
   "cell_type": "code",
   "execution_count": 6,
   "metadata": {},
   "outputs": [
    {
     "name": "stderr",
     "output_type": "stream",
     "text": [
      "W0801 16:13:31.335718  7296 deprecation.py:323] From <ipython-input-6-3a2a3f3ecd0e>:1: build_tensor_info (from tensorflow.python.saved_model.utils_impl) is deprecated and will be removed in a future version.\n",
      "Instructions for updating:\n",
      "This function will only be available through the v1 compatibility library as tf.compat.v1.saved_model.utils.build_tensor_info or tf.compat.v1.saved_model.build_tensor_info.\n"
     ]
    }
   ],
   "source": [
    "tensor_info_x = tf.saved_model.build_tensor_info(x)\n",
    "tensor_info_y = tf.saved_model.build_tensor_info(y)\n",
    "\n",
    "predict_signature = tf.saved_model.build_signature_def(\n",
    "    inputs={'numbers': tensor_info_x},\n",
    "    outputs={'sum': tensor_info_y},\n",
    "    method_name=tf.saved_model.signature_constants.PREDICT_METHOD_NAME) # 'tensorflow/serving/predict'"
   ]
  },
  {
   "cell_type": "markdown",
   "metadata": {},
   "source": [
    "`tf.saved_model.Builder.save()` `as_text` argument:\n",
    "* `False` (default): save as binary format (`.pb`)\n",
    "* `True`: save as text format (`.pbtxt`)"
   ]
  },
  {
   "cell_type": "code",
   "execution_count": 7,
   "metadata": {},
   "outputs": [],
   "source": [
    "saved_model.add_meta_graph_and_variables(\n",
    "    sess=sess, \n",
    "    tags=[tf.saved_model.tag_constants.SERVING], # 'serve'\n",
    "    signature_def_map={\n",
    "        tf.saved_model.signature_constants.DEFAULT_SERVING_SIGNATURE_DEF_KEY: # 'serving_default'\n",
    "        predict_signature\n",
    "    }, \n",
    "    strip_default_attrs=True\n",
    ")\n",
    "saved_model.save(as_text=False)\n",
    "\n",
    "sess.close() # close the session"
   ]
  },
  {
   "cell_type": "markdown",
   "metadata": {},
   "source": [
    "# Inspect SavedModel"
   ]
  },
  {
   "cell_type": "code",
   "execution_count": 8,
   "metadata": {},
   "outputs": [
    {
     "name": "stdout",
     "output_type": "stream",
     "text": [
      "\n",
      "MetaGraphDef with tag-set: 'serve' contains the following SignatureDefs:\n",
      "\n",
      "signature_def['serving_default']:\n",
      "  The given SavedModel SignatureDef contains the following input(s):\n",
      "    inputs['numbers'] tensor_info:\n",
      "        dtype: DT_FLOAT\n",
      "        shape: (-1, 2)\n",
      "        name: my_input:0\n",
      "  The given SavedModel SignatureDef contains the following output(s):\n",
      "    outputs['sum'] tensor_info:\n",
      "        dtype: DT_FLOAT\n",
      "        shape: (-1, 1)\n",
      "        name: MatMul:0\n",
      "  Method name is: tensorflow/serving/predict\n"
     ]
    }
   ],
   "source": [
    "!saved_model_cli.exe show --dir model --all"
   ]
  },
  {
   "cell_type": "code",
   "execution_count": 9,
   "metadata": {},
   "outputs": [
    {
     "name": "stdout",
     "output_type": "stream",
     "text": [
      "The given SavedModel SignatureDef contains the following input(s):\n",
      "  inputs['numbers'] tensor_info:\n",
      "      dtype: DT_FLOAT\n",
      "      shape: (-1, 2)\n",
      "      name: my_input:0\n",
      "The given SavedModel SignatureDef contains the following output(s):\n",
      "  outputs['sum'] tensor_info:\n",
      "      dtype: DT_FLOAT\n",
      "      shape: (-1, 1)\n",
      "      name: MatMul:0\n",
      "Method name is: tensorflow/serving/predict\n"
     ]
    }
   ],
   "source": [
    "!saved_model_cli.exe show --dir model --tag_set serve --signature_def serving_default"
   ]
  },
  {
   "cell_type": "markdown",
   "metadata": {},
   "source": [
    "# Load model"
   ]
  },
  {
   "cell_type": "code",
   "execution_count": 10,
   "metadata": {},
   "outputs": [],
   "source": [
    "tf.reset_default_graph() # reset graph\n",
    "sess = tf.Session() # create a new session"
   ]
  },
  {
   "cell_type": "code",
   "execution_count": 11,
   "metadata": {},
   "outputs": [
    {
     "name": "stderr",
     "output_type": "stream",
     "text": [
      "W0801 16:13:37.289789  7296 deprecation.py:323] From <ipython-input-11-a4b03a26711b>:3: load (from tensorflow.python.saved_model.loader_impl) is deprecated and will be removed in a future version.\n",
      "Instructions for updating:\n",
      "This function will only be available through the v1 compatibility library as tf.compat.v1.saved_model.loader.load or tf.compat.v1.saved_model.load. There will be a new function for importing SavedModels in Tensorflow 2.0.\n",
      "W0801 16:13:37.326083  7296 deprecation.py:323] From f:\\anaconda3\\envs\\tensorflow1.14\\lib\\site-packages\\tensorflow\\python\\training\\saver.py:1276: checkpoint_exists (from tensorflow.python.training.checkpoint_management) is deprecated and will be removed in a future version.\n",
      "Instructions for updating:\n",
      "Use standard file APIs to check for files with this prefix.\n"
     ]
    }
   ],
   "source": [
    "meta_graph_def = tf.saved_model.load(sess=sess, \n",
    "                                     tags=[tf.saved_model.tag_constants.SERVING], # 'serve'\n",
    "                                     export_dir=export_dir)\n",
    "signature_def = \\\n",
    "    meta_graph_def.signature_def[tf.saved_model.signature_constants.DEFAULT_SERVING_SIGNATURE_DEF_KEY] # 'serving_default'"
   ]
  },
  {
   "cell_type": "code",
   "execution_count": 12,
   "metadata": {},
   "outputs": [
    {
     "data": {
      "text/plain": [
       "{'numbers': <tf.Tensor 'my_input:0' shape=(?, 2) dtype=float32>}"
      ]
     },
     "execution_count": 12,
     "metadata": {},
     "output_type": "execute_result"
    }
   ],
   "source": [
    "inputs = {}\n",
    "for k in signature_def.inputs.keys():\n",
    "    inputs[k] = tf.get_default_graph().get_tensor_by_name(signature_def.inputs[k].name)\n",
    "inputs"
   ]
  },
  {
   "cell_type": "code",
   "execution_count": 13,
   "metadata": {},
   "outputs": [
    {
     "data": {
      "text/plain": [
       "{'sum': <tf.Tensor 'MatMul:0' shape=(?, 1) dtype=float32>}"
      ]
     },
     "execution_count": 13,
     "metadata": {},
     "output_type": "execute_result"
    }
   ],
   "source": [
    "outputs = {}\n",
    "for k in signature_def.outputs.keys():\n",
    "    outputs[k] = tf.get_default_graph().get_tensor_by_name(signature_def.outputs[k].name)\n",
    "outputs"
   ]
  },
  {
   "cell_type": "code",
   "execution_count": 14,
   "metadata": {},
   "outputs": [
    {
     "name": "stdout",
     "output_type": "stream",
     "text": [
      "[[ 2.9999995]\n",
      " [ 7.       ]\n",
      " [11.       ]]\n"
     ]
    }
   ],
   "source": [
    "feed_dict = {\n",
    "    inputs['numbers']: np.array([[1.0, 2.0], [3.0, 4.0], [5.0, 6.0]])\n",
    "}\n",
    "print(sess.run(outputs['sum'], feed_dict=feed_dict))\n",
    "sess.close()"
   ]
  }
 ],
 "metadata": {
  "kernelspec": {
   "display_name": "Python 3",
   "language": "python",
   "name": "python3"
  },
  "language_info": {
   "codemirror_mode": {
    "name": "ipython",
    "version": 3
   },
   "file_extension": ".py",
   "mimetype": "text/x-python",
   "name": "python",
   "nbconvert_exporter": "python",
   "pygments_lexer": "ipython3",
   "version": "3.6.8"
  }
 },
 "nbformat": 4,
 "nbformat_minor": 2
}
