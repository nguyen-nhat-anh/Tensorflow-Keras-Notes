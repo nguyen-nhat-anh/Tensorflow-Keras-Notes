{
 "cells": [
  {
   "cell_type": "code",
   "execution_count": 1,
   "metadata": {},
   "outputs": [],
   "source": [
    "import tensorflow as tf\n",
    "import os\n",
    "from google.protobuf import text_format"
   ]
  },
  {
   "cell_type": "markdown",
   "metadata": {},
   "source": [
    "# Write graphdef to protobuf file"
   ]
  },
  {
   "cell_type": "code",
   "execution_count": 2,
   "metadata": {},
   "outputs": [],
   "source": [
    "model_dir = 'graph'\n",
    "if not os.path.exists(model_dir):\n",
    "    os.makedirs(model_dir)"
   ]
  },
  {
   "cell_type": "code",
   "execution_count": 3,
   "metadata": {},
   "outputs": [],
   "source": [
    "x = tf.placeholder(shape=(), dtype=tf.float32, name='input')\n",
    "a = tf.Variable(initial_value=1.0, shape=(), dtype=tf.float32, name='add_value')\n",
    "y = tf.add(x, a, name='output')\n",
    "\n",
    "init = tf.global_variables_initializer()"
   ]
  },
  {
   "cell_type": "markdown",
   "metadata": {},
   "source": [
    "* Get graphdef by using either `tf.Session().graph_def` or `tf.get_default_graph().as_graph_def()`\n",
    "* Use `tf.io.write_graph()` to write graph proto to a file."
   ]
  },
  {
   "cell_type": "code",
   "execution_count": 4,
   "metadata": {},
   "outputs": [
    {
     "name": "stdout",
     "output_type": "stream",
     "text": [
      "3.0\n"
     ]
    }
   ],
   "source": [
    "with tf.Session() as sess:\n",
    "    sess.run(init)\n",
    "    print(sess.run(y, feed_dict={x: 2.0}))\n",
    "    tf.io.write_graph(graph_or_graph_def=sess.graph_def, \n",
    "                      logdir=model_dir, \n",
    "                      name='graph_def.pbtxt',\n",
    "                      as_text=True # save as text format\n",
    "                     )\n",
    "    tf.io.write_graph(graph_or_graph_def=tf.get_default_graph().as_graph_def(), \n",
    "                      logdir=model_dir, \n",
    "                      name='graph_def.pb',\n",
    "                      as_text=False # save as binary format\n",
    "                     )"
   ]
  },
  {
   "cell_type": "markdown",
   "metadata": {},
   "source": [
    "# Load graphdef file"
   ]
  },
  {
   "cell_type": "markdown",
   "metadata": {},
   "source": [
    "## Text format\n",
    "Use `google.protobuf.text_format.Merge()`"
   ]
  },
  {
   "cell_type": "code",
   "execution_count": 5,
   "metadata": {},
   "outputs": [],
   "source": [
    "tf.reset_default_graph() # reset the graph"
   ]
  },
  {
   "cell_type": "code",
   "execution_count": 6,
   "metadata": {},
   "outputs": [],
   "source": [
    "with open(os.path.join(model_dir, 'graph_def.pbtxt'), 'rb') as f:\n",
    "    graph_def = tf.GraphDef() # create a graphdef\n",
    "    text_format.Merge(f.read(), graph_def) # merge the protocol buffer message text representation into this graphdef"
   ]
  },
  {
   "cell_type": "code",
   "execution_count": 7,
   "metadata": {},
   "outputs": [
    {
     "name": "stdout",
     "output_type": "stream",
     "text": [
      "input\n",
      "add_value/initial_value\n",
      "add_value\n",
      "add_value/Assign\n",
      "add_value/read\n",
      "output\n",
      "init\n"
     ]
    }
   ],
   "source": [
    "for node in graph_def.node:\n",
    "    print(node.name)\n",
    "    # node.name\n",
    "    # node.op\n",
    "    # node.input\n",
    "    # node.device\n",
    "    # node.attr"
   ]
  },
  {
   "cell_type": "code",
   "execution_count": 8,
   "metadata": {},
   "outputs": [],
   "source": [
    "tf.import_graph_def(graph_def) # import the graph from graphdef into the current default graph"
   ]
  },
  {
   "cell_type": "code",
   "execution_count": 9,
   "metadata": {},
   "outputs": [
    {
     "name": "stdout",
     "output_type": "stream",
     "text": [
      "import/input\n",
      "import/add_value/initial_value\n",
      "import/add_value\n",
      "import/add_value/Assign\n",
      "import/add_value/read\n",
      "import/output\n",
      "import/init\n"
     ]
    }
   ],
   "source": [
    "for node in tf.get_default_graph().as_graph_def().node:\n",
    "    print(node.name)"
   ]
  },
  {
   "cell_type": "code",
   "execution_count": 10,
   "metadata": {},
   "outputs": [
    {
     "name": "stdout",
     "output_type": "stream",
     "text": [
      "21.0\n"
     ]
    }
   ],
   "source": [
    "with tf.Session() as sess:\n",
    "    sess.run('import/init')\n",
    "    print(sess.run('import/output:0', feed_dict={'import/input:0': 20.0}))"
   ]
  },
  {
   "cell_type": "markdown",
   "metadata": {},
   "source": [
    "## Binary format\n",
    "Use `tf.GraphDef.ParseFromString()`"
   ]
  },
  {
   "cell_type": "code",
   "execution_count": 11,
   "metadata": {},
   "outputs": [],
   "source": [
    "tf.reset_default_graph() # reset the graph"
   ]
  },
  {
   "cell_type": "code",
   "execution_count": 12,
   "metadata": {},
   "outputs": [],
   "source": [
    "with open(os.path.join(model_dir, 'graph_def.pb'), 'rb') as f:\n",
    "    graph_def = tf.GraphDef() # create a graphdef\n",
    "    graph_def.ParseFromString(f.read()) # load the protocol buffer message into this graphdef"
   ]
  },
  {
   "cell_type": "code",
   "execution_count": 13,
   "metadata": {},
   "outputs": [
    {
     "name": "stdout",
     "output_type": "stream",
     "text": [
      "input\n",
      "add_value/initial_value\n",
      "add_value\n",
      "add_value/Assign\n",
      "add_value/read\n",
      "output\n",
      "init\n"
     ]
    }
   ],
   "source": [
    "for node in graph_def.node:\n",
    "    print(node.name)"
   ]
  },
  {
   "cell_type": "code",
   "execution_count": 14,
   "metadata": {},
   "outputs": [],
   "source": [
    "tf.import_graph_def(graph_def) # import the graph from graphdef into the current default graph"
   ]
  },
  {
   "cell_type": "code",
   "execution_count": 15,
   "metadata": {},
   "outputs": [
    {
     "name": "stdout",
     "output_type": "stream",
     "text": [
      "import/input\n",
      "import/add_value/initial_value\n",
      "import/add_value\n",
      "import/add_value/Assign\n",
      "import/add_value/read\n",
      "import/output\n",
      "import/init\n"
     ]
    }
   ],
   "source": [
    "for node in tf.get_default_graph().as_graph_def().node:\n",
    "    print(node.name)"
   ]
  },
  {
   "cell_type": "code",
   "execution_count": 16,
   "metadata": {},
   "outputs": [],
   "source": [
    "inp = tf.get_default_graph().get_operation_by_name('import/input').outputs[0] # get the input tensor\n",
    "out = tf.get_default_graph().get_operation_by_name('import/output').outputs[0] # get the output tensor\n",
    "\n",
    "init_op = tf.get_default_graph().get_operation_by_name('import/init') # get the global variables initializer op"
   ]
  },
  {
   "cell_type": "code",
   "execution_count": 17,
   "metadata": {},
   "outputs": [
    {
     "name": "stdout",
     "output_type": "stream",
     "text": [
      "101.0\n"
     ]
    }
   ],
   "source": [
    "with tf.Session() as sess:\n",
    "    sess.run(init_op)\n",
    "    print(sess.run(out, feed_dict={inp: 100.0}))"
   ]
  }
 ],
 "metadata": {
  "kernelspec": {
   "display_name": "Python 3",
   "language": "python",
   "name": "python3"
  },
  "language_info": {
   "codemirror_mode": {
    "name": "ipython",
    "version": 3
   },
   "file_extension": ".py",
   "mimetype": "text/x-python",
   "name": "python",
   "nbconvert_exporter": "python",
   "pygments_lexer": "ipython3",
   "version": "3.6.8"
  }
 },
 "nbformat": 4,
 "nbformat_minor": 2
}
