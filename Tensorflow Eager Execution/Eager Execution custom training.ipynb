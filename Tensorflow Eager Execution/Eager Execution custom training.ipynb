{
 "cells": [
  {
   "cell_type": "code",
   "execution_count": 1,
   "metadata": {},
   "outputs": [],
   "source": [
    "import tensorflow as tf\n",
    "import numpy as np\n",
    "import os"
   ]
  },
  {
   "cell_type": "code",
   "execution_count": 2,
   "metadata": {},
   "outputs": [],
   "source": [
    "tf.enable_eager_execution()"
   ]
  },
  {
   "cell_type": "markdown",
   "metadata": {},
   "source": [
    "# Download the dataset"
   ]
  },
  {
   "cell_type": "code",
   "execution_count": 3,
   "metadata": {},
   "outputs": [
    {
     "name": "stdout",
     "output_type": "stream",
     "text": [
      "Local copy of the dataset file: C:\\Users\\DELL\\.keras\\datasets\\iris_training.csv\n"
     ]
    }
   ],
   "source": [
    "train_dataset_url = \"https://storage.googleapis.com/download.tensorflow.org/data/iris_training.csv\"\n",
    "\n",
    "train_dataset_fp = tf.keras.utils.get_file(fname=os.path.basename(train_dataset_url),\n",
    "                                           origin=train_dataset_url)\n",
    "\n",
    "print(\"Local copy of the dataset file: {}\".format(train_dataset_fp))"
   ]
  },
  {
   "cell_type": "markdown",
   "metadata": {},
   "source": [
    "# Feature names and Label"
   ]
  },
  {
   "cell_type": "code",
   "execution_count": 4,
   "metadata": {},
   "outputs": [
    {
     "name": "stdout",
     "output_type": "stream",
     "text": [
      "Features: ['sepal_length', 'sepal_width', 'petal_length', 'petal_width']\n",
      "Label: species\n"
     ]
    }
   ],
   "source": [
    "# column order in CSV file\n",
    "column_names = ['sepal_length', 'sepal_width', 'petal_length', 'petal_width', 'species']\n",
    "\n",
    "feature_names = column_names[:-1]\n",
    "label_name = column_names[-1]\n",
    "\n",
    "print(\"Features: {}\".format(feature_names))\n",
    "print(\"Label: {}\".format(label_name))"
   ]
  },
  {
   "cell_type": "markdown",
   "metadata": {},
   "source": [
    "# Create a tf.data.Dataset"
   ]
  },
  {
   "cell_type": "code",
   "execution_count": 5,
   "metadata": {},
   "outputs": [],
   "source": [
    "batch_size = 32\n",
    "\n",
    "train_dataset = tf.contrib.data.make_csv_dataset(\n",
    "    train_dataset_fp,\n",
    "    batch_size,\n",
    "    column_names=column_names,\n",
    "    label_name=label_name,\n",
    "    num_epochs=1)"
   ]
  },
  {
   "cell_type": "markdown",
   "metadata": {},
   "source": [
    "The make_csv_dataset function returns a tf.data.Dataset of (features, label) pairs, where features is a dictionary: {'feature_name': value}, value is a tf.Tensor with shape (batch_size,)"
   ]
  },
  {
   "cell_type": "code",
   "execution_count": 6,
   "metadata": {},
   "outputs": [
    {
     "data": {
      "text/plain": [
       "(OrderedDict([('sepal_length', TensorShape([Dimension(None)])),\n",
       "              ('sepal_width', TensorShape([Dimension(None)])),\n",
       "              ('petal_length', TensorShape([Dimension(None)])),\n",
       "              ('petal_width', TensorShape([Dimension(None)]))]),\n",
       " TensorShape([Dimension(None)]))"
      ]
     },
     "execution_count": 6,
     "metadata": {},
     "output_type": "execute_result"
    }
   ],
   "source": [
    "train_dataset.output_shapes"
   ]
  },
  {
   "cell_type": "code",
   "execution_count": 7,
   "metadata": {},
   "outputs": [
    {
     "data": {
      "text/plain": [
       "(OrderedDict([('sepal_length', tf.float32),\n",
       "              ('sepal_width', tf.float32),\n",
       "              ('petal_length', tf.float32),\n",
       "              ('petal_width', tf.float32)]),\n",
       " tf.int32)"
      ]
     },
     "execution_count": 7,
     "metadata": {},
     "output_type": "execute_result"
    }
   ],
   "source": [
    "train_dataset.output_types"
   ]
  },
  {
   "cell_type": "code",
   "execution_count": 8,
   "metadata": {},
   "outputs": [],
   "source": [
    "features, labels = next(iter(train_dataset))"
   ]
  },
  {
   "cell_type": "code",
   "execution_count": 9,
   "metadata": {},
   "outputs": [
    {
     "data": {
      "text/plain": [
       "[<tf.Tensor: id=44, shape=(32,), dtype=float32, numpy=\n",
       " array([5.8, 5.7, 6.1, 5.9, 6.8, 5.4, 7.7, 6.6, 4.7, 5.2, 5.9, 5.6, 5.2,\n",
       "        6.4, 5.4, 5.4, 6.2, 6.5, 5.7, 4.6, 5. , 5.8, 4.9, 5. , 5. , 6.3,\n",
       "        4.8, 7.9, 6. , 7.6, 4.9, 5.7], dtype=float32)>,\n",
       " <tf.Tensor: id=45, shape=(32,), dtype=float32, numpy=\n",
       " array([2.6, 3. , 3. , 3.2, 3.2, 3.7, 2.8, 3. , 3.2, 3.5, 3. , 2.7, 3.4,\n",
       "        3.1, 3.4, 3.9, 2.2, 3. , 2.8, 3.6, 3.3, 2.7, 3.1, 2.3, 3. , 3.3,\n",
       "        3.1, 3.8, 2.2, 3. , 2.5, 2.8], dtype=float32)>,\n",
       " <tf.Tensor: id=42, shape=(32,), dtype=float32, numpy=\n",
       " array([4. , 4.2, 4.9, 4.8, 5.9, 1.5, 6.7, 4.4, 1.6, 1.5, 5.1, 4.2, 1.4,\n",
       "        5.5, 1.5, 1.7, 4.5, 5.2, 4.5, 1. , 1.4, 5.1, 1.5, 3.3, 1.6, 6. ,\n",
       "        1.6, 6.4, 5. , 6.6, 4.5, 4.1], dtype=float32)>,\n",
       " <tf.Tensor: id=43, shape=(32,), dtype=float32, numpy=\n",
       " array([1.2, 1.2, 1.8, 1.8, 2.3, 0.2, 2. , 1.4, 0.2, 0.2, 1.8, 1.3, 0.2,\n",
       "        1.8, 0.4, 0.4, 1.5, 2. , 1.3, 0.2, 0.2, 1.9, 0.1, 1. , 0.2, 2.5,\n",
       "        0.2, 2. , 1.5, 2.1, 1.7, 1.3], dtype=float32)>]"
      ]
     },
     "execution_count": 9,
     "metadata": {},
     "output_type": "execute_result"
    }
   ],
   "source": [
    "list(features.values())"
   ]
  },
  {
   "cell_type": "code",
   "execution_count": 10,
   "metadata": {},
   "outputs": [
    {
     "data": {
      "text/plain": [
       "<tf.Tensor: id=51, shape=(32, 4), dtype=float32, numpy=\n",
       "array([[5.8, 2.6, 4. , 1.2],\n",
       "       [5.7, 3. , 4.2, 1.2],\n",
       "       [6.1, 3. , 4.9, 1.8],\n",
       "       [5.9, 3.2, 4.8, 1.8],\n",
       "       [6.8, 3.2, 5.9, 2.3],\n",
       "       [5.4, 3.7, 1.5, 0.2],\n",
       "       [7.7, 2.8, 6.7, 2. ],\n",
       "       [6.6, 3. , 4.4, 1.4],\n",
       "       [4.7, 3.2, 1.6, 0.2],\n",
       "       [5.2, 3.5, 1.5, 0.2],\n",
       "       [5.9, 3. , 5.1, 1.8],\n",
       "       [5.6, 2.7, 4.2, 1.3],\n",
       "       [5.2, 3.4, 1.4, 0.2],\n",
       "       [6.4, 3.1, 5.5, 1.8],\n",
       "       [5.4, 3.4, 1.5, 0.4],\n",
       "       [5.4, 3.9, 1.7, 0.4],\n",
       "       [6.2, 2.2, 4.5, 1.5],\n",
       "       [6.5, 3. , 5.2, 2. ],\n",
       "       [5.7, 2.8, 4.5, 1.3],\n",
       "       [4.6, 3.6, 1. , 0.2],\n",
       "       [5. , 3.3, 1.4, 0.2],\n",
       "       [5.8, 2.7, 5.1, 1.9],\n",
       "       [4.9, 3.1, 1.5, 0.1],\n",
       "       [5. , 2.3, 3.3, 1. ],\n",
       "       [5. , 3. , 1.6, 0.2],\n",
       "       [6.3, 3.3, 6. , 2.5],\n",
       "       [4.8, 3.1, 1.6, 0.2],\n",
       "       [7.9, 3.8, 6.4, 2. ],\n",
       "       [6. , 2.2, 5. , 1.5],\n",
       "       [7.6, 3. , 6.6, 2.1],\n",
       "       [4.9, 2.5, 4.5, 1.7],\n",
       "       [5.7, 2.8, 4.1, 1.3]], dtype=float32)>"
      ]
     },
     "execution_count": 10,
     "metadata": {},
     "output_type": "execute_result"
    }
   ],
   "source": [
    "tf.stack(list(features.values()), axis=1)"
   ]
  },
  {
   "cell_type": "markdown",
   "metadata": {},
   "source": [
    "## Create a mapping function to repackage the features dictionary into a single array with shape (batch_size, num_features)"
   ]
  },
  {
   "cell_type": "code",
   "execution_count": 11,
   "metadata": {},
   "outputs": [],
   "source": [
    "def pack_features_vector(features, labels):\n",
    "    \"\"\"Pack the features into a single array.\"\"\"\n",
    "    features = tf.stack(list(features.values()), axis=1)\n",
    "    return features, labels"
   ]
  },
  {
   "cell_type": "code",
   "execution_count": 12,
   "metadata": {},
   "outputs": [],
   "source": [
    "train_dataset = train_dataset.map(pack_features_vector)"
   ]
  },
  {
   "cell_type": "code",
   "execution_count": 13,
   "metadata": {},
   "outputs": [
    {
     "data": {
      "text/plain": [
       "<tf.Tensor: id=69, shape=(32, 4), dtype=float32, numpy=\n",
       "array([[6.5, 3. , 5.8, 2.2],\n",
       "       [7.3, 2.9, 6.3, 1.8],\n",
       "       [5.7, 3.8, 1.7, 0.3],\n",
       "       [6.3, 2.5, 5. , 1.9],\n",
       "       [5.5, 2.6, 4.4, 1.2],\n",
       "       [5.6, 2.7, 4.2, 1.3],\n",
       "       [6.5, 3.2, 5.1, 2. ],\n",
       "       [5.8, 2.8, 5.1, 2.4],\n",
       "       [6.3, 3.3, 4.7, 1.6],\n",
       "       [4.8, 3.1, 1.6, 0.2],\n",
       "       [6. , 2.9, 4.5, 1.5],\n",
       "       [5.7, 2.8, 4.5, 1.3],\n",
       "       [6.7, 3. , 5.2, 2.3],\n",
       "       [4.9, 2.5, 4.5, 1.7],\n",
       "       [4.7, 3.2, 1.3, 0.2],\n",
       "       [5. , 3.4, 1.5, 0.2],\n",
       "       [6.6, 2.9, 4.6, 1.3],\n",
       "       [5.8, 2.6, 4. , 1.2],\n",
       "       [7.4, 2.8, 6.1, 1.9],\n",
       "       [5. , 2. , 3.5, 1. ],\n",
       "       [4.8, 3.4, 1.6, 0.2],\n",
       "       [5.8, 4. , 1.2, 0.2],\n",
       "       [7.9, 3.8, 6.4, 2. ],\n",
       "       [6.1, 2.9, 4.7, 1.4],\n",
       "       [5.4, 3.9, 1.3, 0.4],\n",
       "       [6.2, 2.8, 4.8, 1.8],\n",
       "       [5.4, 3.7, 1.5, 0.2],\n",
       "       [6. , 3. , 4.8, 1.8],\n",
       "       [6.8, 3.2, 5.9, 2.3],\n",
       "       [4.6, 3.1, 1.5, 0.2],\n",
       "       [5. , 2.3, 3.3, 1. ],\n",
       "       [5.8, 2.7, 4.1, 1. ]], dtype=float32)>"
      ]
     },
     "execution_count": 13,
     "metadata": {},
     "output_type": "execute_result"
    }
   ],
   "source": [
    "features, labels = next(iter(train_dataset))\n",
    "features"
   ]
  },
  {
   "cell_type": "markdown",
   "metadata": {},
   "source": [
    "# Model"
   ]
  },
  {
   "cell_type": "code",
   "execution_count": 14,
   "metadata": {},
   "outputs": [],
   "source": [
    "from tensorflow.keras import layers\n",
    "\n",
    "inputs = tf.keras.Input(shape=(4,))\n",
    "fc1 = layers.Dense(10, activation=tf.nn.relu)(inputs)\n",
    "fc2 = layers.Dense(10, activation=tf.nn.relu)(fc1)\n",
    "outputs = layers.Dense(3)(fc2)\n",
    "\n",
    "model = tf.keras.Model(inputs, outputs)"
   ]
  },
  {
   "cell_type": "code",
   "execution_count": 15,
   "metadata": {},
   "outputs": [
    {
     "data": {
      "text/plain": [
       "<tf.Tensor: id=159, shape=(5, 3), dtype=float32, numpy=\n",
       "array([[ 3.0597072 ,  0.48079497, -0.77889895],\n",
       "       [ 3.332806  ,  0.5247995 , -0.8384651 ],\n",
       "       [ 3.023961  ,  0.58514273, -0.86501867],\n",
       "       [ 2.8063436 ,  0.44688374, -0.7057036 ],\n",
       "       [ 2.6319373 ,  0.4224174 , -0.6865131 ]], dtype=float32)>"
      ]
     },
     "execution_count": 15,
     "metadata": {},
     "output_type": "execute_result"
    }
   ],
   "source": [
    "model(features)[:5]"
   ]
  },
  {
   "cell_type": "markdown",
   "metadata": {},
   "source": [
    "# Define loss and gradient function"
   ]
  },
  {
   "cell_type": "code",
   "execution_count": 16,
   "metadata": {},
   "outputs": [],
   "source": [
    "def loss(model, x, y):\n",
    "  y_ = model(x)\n",
    "  return tf.losses.sparse_softmax_cross_entropy(labels=y, logits=y_)"
   ]
  },
  {
   "cell_type": "code",
   "execution_count": 17,
   "metadata": {},
   "outputs": [
    {
     "name": "stdout",
     "output_type": "stream",
     "text": [
      "Loss test: 2.333672523498535\n"
     ]
    }
   ],
   "source": [
    "l = loss(model, features, labels)\n",
    "print(\"Loss test: {}\".format(l))"
   ]
  },
  {
   "cell_type": "code",
   "execution_count": 18,
   "metadata": {},
   "outputs": [],
   "source": [
    "def grad(model, inputs, targets):\n",
    "    with tf.GradientTape() as tape:\n",
    "        loss_value = loss(model, inputs, targets)\n",
    "    return loss_value, tape.gradient(loss_value, model.trainable_variables)"
   ]
  },
  {
   "cell_type": "markdown",
   "metadata": {},
   "source": [
    "# Create an optimizer"
   ]
  },
  {
   "cell_type": "code",
   "execution_count": 19,
   "metadata": {},
   "outputs": [],
   "source": [
    "optimizer = tf.train.GradientDescentOptimizer(learning_rate=0.01) # SGD optimizer\n",
    "global_step = tf.contrib.eager.Variable(0) # global step counter"
   ]
  },
  {
   "cell_type": "markdown",
   "metadata": {},
   "source": [
    "Calculate a single optimization step:"
   ]
  },
  {
   "cell_type": "code",
   "execution_count": 20,
   "metadata": {},
   "outputs": [
    {
     "name": "stdout",
     "output_type": "stream",
     "text": [
      "Step: 0, Initial Loss: 2.333672523498535\n",
      "Step: 1,         Loss: 1.939316987991333\n"
     ]
    }
   ],
   "source": [
    "loss_value, grads = grad(model, features, labels)\n",
    "\n",
    "print(\"Step: {}, Initial Loss: {}\".format(global_step.numpy(),\n",
    "                                          loss_value.numpy()))\n",
    "\n",
    "optimizer.apply_gradients(zip(grads, model.trainable_variables), global_step)\n",
    "\n",
    "print(\"Step: {},         Loss: {}\".format(global_step.numpy(),\n",
    "                                          loss(model, features, labels).numpy()))"
   ]
  },
  {
   "cell_type": "markdown",
   "metadata": {},
   "source": [
    "# Training loop"
   ]
  },
  {
   "cell_type": "code",
   "execution_count": 21,
   "metadata": {},
   "outputs": [
    {
     "name": "stdout",
     "output_type": "stream",
     "text": [
      "Epoch 000: Loss: 1.524, Accuracy: 35.000%\n",
      "Epoch 050: Loss: 0.665, Accuracy: 93.333%\n",
      "Epoch 100: Loss: 0.556, Accuracy: 96.667%\n",
      "Epoch 150: Loss: 0.471, Accuracy: 95.833%\n",
      "Epoch 200: Loss: 0.403, Accuracy: 95.833%\n"
     ]
    }
   ],
   "source": [
    "## Note: Rerunning this cell uses the same model variables\n",
    "\n",
    "from tensorflow import contrib\n",
    "tfe = contrib.eager\n",
    "\n",
    "# keep results for plotting\n",
    "train_loss_results = []\n",
    "train_accuracy_results = []\n",
    "\n",
    "num_epochs = 201\n",
    "\n",
    "for epoch in range(num_epochs):\n",
    "  epoch_loss_avg = tfe.metrics.Mean()\n",
    "  epoch_accuracy = tfe.metrics.Accuracy()\n",
    "\n",
    "  # Training loop - using batches of 32\n",
    "  for x, y in train_dataset:\n",
    "    # Optimize the model\n",
    "    loss_value, grads = grad(model, x, y)\n",
    "    optimizer.apply_gradients(zip(grads, model.trainable_variables),\n",
    "                              global_step)\n",
    "\n",
    "    # Track progress\n",
    "    epoch_loss_avg(loss_value)  # add current batch loss\n",
    "    # compare predicted label to actual label\n",
    "    epoch_accuracy(tf.argmax(model(x), axis=1, output_type=tf.int32), y)\n",
    "\n",
    "  # end epoch\n",
    "  train_loss_results.append(epoch_loss_avg.result())\n",
    "  train_accuracy_results.append(epoch_accuracy.result())\n",
    "\n",
    "  if epoch % 50 == 0:\n",
    "    print(\"Epoch {:03d}: Loss: {:.3f}, Accuracy: {:.3%}\".format(epoch,\n",
    "                                                                epoch_loss_avg.result(),\n",
    "                                                                epoch_accuracy.result()))"
   ]
  },
  {
   "cell_type": "markdown",
   "metadata": {},
   "source": [
    "# Visualize the loss function over time"
   ]
  },
  {
   "cell_type": "code",
   "execution_count": 22,
   "metadata": {},
   "outputs": [
    {
     "data": {
      "image/png": "[encoded data removed]",
      "text/plain": [
       "<Figure size 864x576 with 2 Axes>"
      ]
     },
     "metadata": {
      "needs_background": "light"
     },
     "output_type": "display_data"
    }
   ],
   "source": [
    "from matplotlib import pyplot as plt\n",
    "%matplotlib inline\n",
    "\n",
    "fig, axes = plt.subplots(2, sharex=True, figsize=(12, 8))\n",
    "fig.suptitle('Training Metrics')\n",
    "\n",
    "axes[0].set_ylabel(\"Loss\", fontsize=14)\n",
    "axes[0].plot(train_loss_results)\n",
    "\n",
    "axes[1].set_ylabel(\"Accuracy\", fontsize=14)\n",
    "axes[1].set_xlabel(\"Epoch\", fontsize=14)\n",
    "axes[1].plot(train_accuracy_results)\n",
    "plt.show()"
   ]
  },
  {
   "cell_type": "markdown",
   "metadata": {},
   "source": [
    "# Evaluate the model on the test dataset"
   ]
  },
  {
   "cell_type": "code",
   "execution_count": 23,
   "metadata": {},
   "outputs": [],
   "source": [
    "test_url = \"https://storage.googleapis.com/download.tensorflow.org/data/iris_test.csv\"\n",
    "\n",
    "test_fp = tf.keras.utils.get_file(fname=os.path.basename(test_url),\n",
    "                                  origin=test_url)"
   ]
  },
  {
   "cell_type": "code",
   "execution_count": 24,
   "metadata": {},
   "outputs": [],
   "source": [
    "test_dataset = tf.contrib.data.make_csv_dataset(\n",
    "    test_fp,\n",
    "    batch_size,\n",
    "    column_names=column_names,\n",
    "    label_name=label_name,\n",
    "    num_epochs=1,\n",
    "    shuffle=False)\n",
    "\n",
    "test_dataset = test_dataset.map(pack_features_vector)"
   ]
  },
  {
   "cell_type": "code",
   "execution_count": 25,
   "metadata": {},
   "outputs": [
    {
     "name": "stdout",
     "output_type": "stream",
     "text": [
      "Test set accuracy: 96.667%\n"
     ]
    }
   ],
   "source": [
    "test_accuracy = tfe.metrics.Accuracy()\n",
    "\n",
    "for (x, y) in test_dataset:\n",
    "  logits = model(x)\n",
    "  prediction = tf.argmax(logits, axis=1, output_type=tf.int32)\n",
    "  test_accuracy(prediction, y)\n",
    "\n",
    "print(\"Test set accuracy: {:.3%}\".format(test_accuracy.result()))"
   ]
  }
 ],
 "metadata": {
  "kernelspec": {
   "display_name": "Python 3",
   "language": "python",
   "name": "python3"
  },
  "language_info": {
   "codemirror_mode": {
    "name": "ipython",
    "version": 3
   },
   "file_extension": ".py",
   "mimetype": "text/x-python",
   "name": "python",
   "nbconvert_exporter": "python",
   "pygments_lexer": "ipython3",
   "version": "3.6.5"
  }
 },
 "nbformat": 4,
 "nbformat_minor": 2
}
