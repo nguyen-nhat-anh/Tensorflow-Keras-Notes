{
 "cells": [
  {
   "cell_type": "markdown",
   "metadata": {},
   "source": [
    "https://stackoverflow.com/questions/35919020/whats-the-difference-of-name-scope-and-a-variable-scope-in-tensorflow"
   ]
  },
  {
   "cell_type": "code",
   "execution_count": 1,
   "metadata": {},
   "outputs": [],
   "source": [
    "import tensorflow as tf"
   ]
  },
  {
   "cell_type": "markdown",
   "metadata": {},
   "source": [
    "# Tensorflow Tensor naming convention"
   ]
  },
  {
   "cell_type": "markdown",
   "metadata": {},
   "source": [
    "The name of a Tensor is the concatenation of\n",
    "\n",
    "1. the name of the operation that produced it,\n",
    "2. a colon (:), and\n",
    "3. the index of that tensor in the outputs of the operation that produced it.\n",
    "\n",
    "Therefore the tensor named `foo:2` is the output of the op named `foo` at position `2` (with indices starting from zero)."
   ]
  },
  {
   "cell_type": "code",
   "execution_count": 2,
   "metadata": {},
   "outputs": [
    {
     "name": "stdout",
     "output_type": "stream",
     "text": [
      "split:0\n",
      "split:1\n",
      "split:2\n"
     ]
    }
   ],
   "source": [
    "a = tf.constant([1, 2, 3, 4, 5, 6])\n",
    "s1, s2, s3 = tf.split(a, 3)\n",
    "print(s1.name)\n",
    "print(s2.name)\n",
    "print(s3.name)"
   ]
  },
  {
   "cell_type": "markdown",
   "metadata": {},
   "source": [
    "# tf.Variable "
   ]
  },
  {
   "cell_type": "markdown",
   "metadata": {},
   "source": [
    "Using the `tf.Variable` constructor which will create a new variable every time it is called (and potentially add a suffix to the variable name if a variable with such name already exists)."
   ]
  },
  {
   "cell_type": "code",
   "execution_count": 3,
   "metadata": {},
   "outputs": [
    {
     "name": "stdout",
     "output_type": "stream",
     "text": [
      "my_var:0\n",
      "my_var_1:0\n"
     ]
    }
   ],
   "source": [
    "a = tf.Variable(1, name='my_var', dtype=tf.int64) # create a variable using tf.Variable constructor\n",
    "print(a.name)\n",
    "a = tf.Variable(2, name='my_var', dtype=tf.int64) # creating another variable using the same name \n",
    "                                                       # will add a suffix to the variable name \n",
    "                                                       # to distinguish between the two variables\n",
    "print(a.name)"
   ]
  },
  {
   "cell_type": "markdown",
   "metadata": {},
   "source": [
    "# tf.get_variable()"
   ]
  },
  {
   "cell_type": "markdown",
   "metadata": {},
   "source": [
    "The method `tf.get_variable()` can be used to create a new variable or retrieve the one that was created before."
   ]
  },
  {
   "cell_type": "code",
   "execution_count": 4,
   "metadata": {},
   "outputs": [
    {
     "name": "stderr",
     "output_type": "stream",
     "text": [
      "WARNING: Logging before flag parsing goes to stderr.\n",
      "W0719 17:20:34.056622 11900 deprecation.py:506] From f:\\anaconda3\\envs\\tensorflow1.14\\lib\\site-packages\\tensorflow\\python\\ops\\init_ops.py:1251: calling VarianceScaling.__init__ (from tensorflow.python.ops.init_ops) with dtype is deprecated and will be removed in a future version.\n",
      "Instructions for updating:\n",
      "Call initializer instance with the dtype argument instead of passing it to the constructor\n"
     ]
    },
    {
     "name": "stdout",
     "output_type": "stream",
     "text": [
      "my_variable:0\n"
     ]
    }
   ],
   "source": [
    "a = tf.get_variable(name='my_variable', shape=(4,), dtype=tf.float32) # create a variable using tf.get_variable()\n",
    "print(a.name)"
   ]
  },
  {
   "cell_type": "code",
   "execution_count": 5,
   "metadata": {},
   "outputs": [],
   "source": [
    "# b = tf.get_variable(name='my_variable') # Error, variable 'my_variable' already exists. \n",
    "                                          # To reuse a variable that was created before, \n",
    "                                          # we have to use variable_scope."
   ]
  },
  {
   "cell_type": "markdown",
   "metadata": {},
   "source": [
    "`tf.get_variable()` prefixes the name with the current variable scope and performs reuse checks."
   ]
  },
  {
   "cell_type": "code",
   "execution_count": 6,
   "metadata": {},
   "outputs": [
    {
     "name": "stdout",
     "output_type": "stream",
     "text": [
      "my_scope/my_variable:0\n"
     ]
    }
   ],
   "source": [
    "with tf.variable_scope('my_scope'):\n",
    "    a = tf.get_variable(name='my_variable', shape=(1,), dtype=tf.float32)\n",
    "    print(a.name)"
   ]
  },
  {
   "cell_type": "code",
   "execution_count": 7,
   "metadata": {},
   "outputs": [
    {
     "name": "stdout",
     "output_type": "stream",
     "text": [
      "my_scope/my_variable:0\n"
     ]
    }
   ],
   "source": [
    "with tf.variable_scope('my_scope', reuse=True): # reuse=True or reuse=tf.AUTO_REUSE\n",
    "    b = tf.get_variable(name='my_variable')\n",
    "    print(b.name)"
   ]
  },
  {
   "cell_type": "code",
   "execution_count": 8,
   "metadata": {},
   "outputs": [],
   "source": [
    "assert a==b"
   ]
  },
  {
   "cell_type": "markdown",
   "metadata": {},
   "source": [
    "# Name scope vs Variable scope"
   ]
  },
  {
   "cell_type": "markdown",
   "metadata": {},
   "source": [
    "Both scopes have the same effect on all operations as well as variables created using `tf.Variable`, i.e., the scope will be added as a prefix to the operation or variable name.\n",
    "\n",
    "However, `tf.name_scope` is ignored by `tf.get_variable()`."
   ]
  },
  {
   "cell_type": "code",
   "execution_count": 9,
   "metadata": {},
   "outputs": [
    {
     "name": "stdout",
     "output_type": "stream",
     "text": [
      "get_variable:0\n",
      "name_scope/Variable:0\n",
      "name_scope/Add:0\n"
     ]
    }
   ],
   "source": [
    "# using tf.name_scope\n",
    "with tf.name_scope(\"name_scope\"):\n",
    "    v1 = tf.get_variable(\"get_variable\", [1], dtype=tf.float32)\n",
    "    v2 = tf.Variable(1, name=\"Variable\", dtype=tf.float32)\n",
    "    a = tf.add(v1, v2)\n",
    "print(v1.name) # name_scope is ignored\n",
    "print(v2.name)\n",
    "print(a.name)"
   ]
  },
  {
   "cell_type": "code",
   "execution_count": 10,
   "metadata": {},
   "outputs": [
    {
     "name": "stdout",
     "output_type": "stream",
     "text": [
      "variable_scope/get_variable:0\n",
      "variable_scope/Variable:0\n",
      "variable_scope/Add:0\n"
     ]
    }
   ],
   "source": [
    "# using tf.variable_scope\n",
    "with tf.variable_scope(\"variable_scope\"):\n",
    "    v1 = tf.get_variable(\"get_variable\", [1], dtype=tf.float32)\n",
    "    v2 = tf.Variable(1, name=\"Variable\", dtype=tf.float32)\n",
    "    a = tf.add(v1, v2)\n",
    "print(v1.name)\n",
    "print(v2.name)\n",
    "print(a.name)"
   ]
  },
  {
   "cell_type": "markdown",
   "metadata": {},
   "source": [
    "<b>Use case</b>: allows us to easily share variables across different parts of the program, even within different name scopes."
   ]
  },
  {
   "cell_type": "code",
   "execution_count": 11,
   "metadata": {},
   "outputs": [
    {
     "name": "stdout",
     "output_type": "stream",
     "text": [
      "var_scope/var:0\n",
      "var_scope/var:0\n"
     ]
    }
   ],
   "source": [
    "with tf.name_scope(\"foo\"):\n",
    "    with tf.variable_scope(\"var_scope\"):\n",
    "        v = tf.get_variable(\"var\", [1])\n",
    "with tf.name_scope(\"bar\"):\n",
    "    with tf.variable_scope(\"var_scope\", reuse=True):\n",
    "        v1 = tf.get_variable(\"var\", [1])\n",
    "assert v1 == v\n",
    "print(v.name)\n",
    "print(v1.name)"
   ]
  }
 ],
 "metadata": {
  "kernelspec": {
   "display_name": "Python 3",
   "language": "python",
   "name": "python3"
  },
  "language_info": {
   "codemirror_mode": {
    "name": "ipython",
    "version": 3
   },
   "file_extension": ".py",
   "mimetype": "text/x-python",
   "name": "python",
   "nbconvert_exporter": "python",
   "pygments_lexer": "ipython3",
   "version": "3.6.5"
  }
 },
 "nbformat": 4,
 "nbformat_minor": 2
}
