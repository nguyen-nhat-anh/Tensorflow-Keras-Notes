{
 "cells": [
  {
   "cell_type": "code",
   "execution_count": 1,
   "metadata": {},
   "outputs": [],
   "source": [
    "import tensorflow as tf"
   ]
  },
  {
   "cell_type": "markdown",
   "metadata": {},
   "source": [
    "<b>collections</b>: named lists of tensors or other objects, such as `tf.Variable` instances."
   ]
  },
  {
   "cell_type": "markdown",
   "metadata": {},
   "source": [
    "<b>By default every `tf.Variable` gets placed in the following two collections:</b>\n",
    "\n",
    "* `tf.GraphKeys.GLOBAL_VARIABLES` --- variables that can be shared across multiple devices,\n",
    "* `tf.GraphKeys.TRAINABLE_VARIABLES` --- variables for which TensorFlow will calculate gradients."
   ]
  },
  {
   "cell_type": "code",
   "execution_count": 2,
   "metadata": {},
   "outputs": [
    {
     "name": "stderr",
     "output_type": "stream",
     "text": [
      "WARNING: Logging before flag parsing goes to stderr.\n",
      "W0719 19:07:51.338341  4788 deprecation.py:506] From f:\\anaconda3\\envs\\tensorflow1.14\\lib\\site-packages\\tensorflow\\python\\ops\\init_ops.py:1251: calling VarianceScaling.__init__ (from tensorflow.python.ops.init_ops) with dtype is deprecated and will be removed in a future version.\n",
      "Instructions for updating:\n",
      "Call initializer instance with the dtype argument instead of passing it to the constructor\n"
     ]
    }
   ],
   "source": [
    "a = tf.get_variable(name='var1', shape=(4,), dtype=tf.float32)\n",
    "b = tf.get_variable(name='var2', shape=(4,), dtype=tf.float32)\n",
    "c = tf.add(a,b)\n",
    "with tf.variable_scope('my_scope'):\n",
    "    d = tf.get_variable(name='var1', shape=(1,), dtype=tf.float32)"
   ]
  },
  {
   "cell_type": "markdown",
   "metadata": {},
   "source": [
    "<b>Use tf.get_collection() to get a list of variables in a collection with the given name (and optionally scope).</b>"
   ]
  },
  {
   "cell_type": "code",
   "execution_count": 3,
   "metadata": {},
   "outputs": [
    {
     "name": "stdout",
     "output_type": "stream",
     "text": [
      "Global variables:\n",
      "<tf.Variable 'var1:0' shape=(4,) dtype=float32_ref>\n",
      "<tf.Variable 'var2:0' shape=(4,) dtype=float32_ref>\n",
      "<tf.Variable 'my_scope/var1:0' shape=(1,) dtype=float32_ref>\n",
      "\n",
      "Global variables with scope 'my_scope':\n",
      "<tf.Variable 'my_scope/var1:0' shape=(1,) dtype=float32_ref>\n",
      "\n",
      "Trainable variables:\n",
      "<tf.Variable 'var1:0' shape=(4,) dtype=float32_ref>\n",
      "<tf.Variable 'var2:0' shape=(4,) dtype=float32_ref>\n",
      "<tf.Variable 'my_scope/var1:0' shape=(1,) dtype=float32_ref>\n"
     ]
    }
   ],
   "source": [
    "print('Global variables:')\n",
    "for var in tf.get_collection(tf.GraphKeys.GLOBAL_VARIABLES):\n",
    "    print(var)\n",
    "\n",
    "print('\\nGlobal variables with scope \\'my_scope\\':')\n",
    "for var in tf.get_collection(tf.GraphKeys.GLOBAL_VARIABLES, scope='my_scope'):\n",
    "    print(var)    \n",
    "    \n",
    "print('\\nTrainable variables:')\n",
    "for var in tf.get_collection(tf.GraphKeys.TRAINABLE_VARIABLES):\n",
    "    print(var)"
   ]
  },
  {
   "cell_type": "markdown",
   "metadata": {},
   "source": [
    "<b> If you want a variable to be local to each machine (usually used for temporary variables, likes counters), add it to the `tf.GraphKeys.LOCAL_VARIABLES` collection instead.</b>"
   ]
  },
  {
   "cell_type": "code",
   "execution_count": 4,
   "metadata": {},
   "outputs": [],
   "source": [
    "e = tf.get_variable(name='local_var', shape=(1,), dtype=tf.float32, \n",
    "                    collections=[tf.GraphKeys.LOCAL_VARIABLES]) # add it to the tf.GraphKeys.LOCAL_VARIABLES collection."
   ]
  },
  {
   "cell_type": "code",
   "execution_count": 5,
   "metadata": {},
   "outputs": [
    {
     "name": "stdout",
     "output_type": "stream",
     "text": [
      "Local variables:\n",
      "<tf.Variable 'local_var:0' shape=(1,) dtype=float32_ref>\n",
      "\n",
      "local_var:0 is NOT in tf.GraphKeys.GLOBAL_VARIABLES.\n"
     ]
    }
   ],
   "source": [
    "print('Local variables:')\n",
    "for var in tf.get_collection(tf.GraphKeys.LOCAL_VARIABLES):\n",
    "    print(var)\n",
    "\n",
    "if e in tf.get_collection(tf.GraphKeys.GLOBAL_VARIABLES):\n",
    "    print('\\n{} is in tf.GraphKeys.GLOBAL_VARIABLES.'.format(e.name))\n",
    "else:\n",
    "    print('\\n{} is NOT in tf.GraphKeys.GLOBAL_VARIABLES.'.format(e.name))"
   ]
  },
  {
   "cell_type": "markdown",
   "metadata": {},
   "source": [
    "<b>If you don't want a variable to be trained by an optimizer, don't add it to the `tf.GraphKeys.TRAINABLE_VARIABLES` collection by specifying `trainable=False`.</b>"
   ]
  },
  {
   "cell_type": "code",
   "execution_count": 6,
   "metadata": {},
   "outputs": [],
   "source": [
    "f = tf.get_variable(name='non_trainable_var', shape=(1,), dtype=tf.float32, \n",
    "                    trainable=False) # don't add it to the tf.GraphKeys.TRAINABLE_VARIABLES collection."
   ]
  },
  {
   "cell_type": "code",
   "execution_count": 7,
   "metadata": {},
   "outputs": [
    {
     "name": "stdout",
     "output_type": "stream",
     "text": [
      "\n",
      "non_trainable_var:0 is NOT in tf.GraphKeys.TRAINABLE_VARIABLES.\n"
     ]
    }
   ],
   "source": [
    "if f in tf.get_collection(tf.GraphKeys.TRAINABLE_VARIABLES):\n",
    "    print('\\n{} is in tf.GraphKeys.TRAINABLE_VARIABLES.'.format(f.name))\n",
    "else:\n",
    "    print('\\n{} is NOT in tf.GraphKeys.TRAINABLE_VARIABLES.'.format(f.name))"
   ]
  },
  {
   "cell_type": "markdown",
   "metadata": {},
   "source": [
    "<b>You can also use your own collections when creating a variable (or after creating the variable by using `tf.add_to_collection()`)</b>"
   ]
  },
  {
   "cell_type": "code",
   "execution_count": 8,
   "metadata": {},
   "outputs": [],
   "source": [
    "tf.add_to_collection('my_own_collection', f)\n",
    "g = tf.get_variable(name='my_collection_var', shape=(1,), dtype=tf.float32, collections=['my_own_collection'])"
   ]
  },
  {
   "cell_type": "code",
   "execution_count": 9,
   "metadata": {},
   "outputs": [
    {
     "name": "stdout",
     "output_type": "stream",
     "text": [
      "my_own_collection variables:\n",
      "<tf.Variable 'non_trainable_var:0' shape=(1,) dtype=float32_ref>\n",
      "<tf.Variable 'my_collection_var:0' shape=(1,) dtype=float32_ref>\n"
     ]
    }
   ],
   "source": [
    "print('my_own_collection variables:')\n",
    "for var in tf.get_collection('my_own_collection'):\n",
    "    print(var)"
   ]
  }
 ],
 "metadata": {
  "kernelspec": {
   "display_name": "Python 3",
   "language": "python",
   "name": "python3"
  },
  "language_info": {
   "codemirror_mode": {
    "name": "ipython",
    "version": 3
   },
   "file_extension": ".py",
   "mimetype": "text/x-python",
   "name": "python",
   "nbconvert_exporter": "python",
   "pygments_lexer": "ipython3",
   "version": "3.6.8"
  }
 },
 "nbformat": 4,
 "nbformat_minor": 2
}
